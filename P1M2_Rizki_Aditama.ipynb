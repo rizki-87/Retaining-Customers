{
  "cells": [
    {
      "cell_type": "markdown",
      "metadata": {
        "id": "yjIFS_N3YoEA"
      },
      "source": [
        "# I. INTRODUCTION"
      ]
    },
    {
      "cell_type": "markdown",
      "metadata": {},
      "source": [
        "--------------------------------------------------------------------------------------------------------------------------------------\n",
        "\n",
        "Milestone 2 \n",
        "\n",
        "Nama    : Rizki Pria Aditama\n",
        "\n",
        "Batch   : HCK - 007\n",
        "\n",
        "Program ini dibuat menggunakan dataset dari [Kaggle](https://www.kaggle.com/datasets/vikramamin/customer-churn-decision-tree-and-random-forest).\n",
        "\n",
        "--------------------------------------------------------------------------------------------------------------------------------------\n",
        "\n"
      ]
    },
    {
      "cell_type": "markdown",
      "metadata": {
        "id": "mzT9PWkvZVtr"
      },
      "source": [
        "## Ia. Objective"
      ]
    },
    {
      "cell_type": "markdown",
      "metadata": {},
      "source": [
        "Sebagai Data Scientist dari perusahaan Liverpool Telekomunikasi, saya mendapat tugas untuk membuat model klasifikasi, untuk meminimalisir kesalahan prediksi, agar customer yang loyal tidak diprediksi sebagai customer yang tidak loyal/churn.\n",
        "\n",
        "Treatment kepada customer yang loyal, harus berbeda dari customer yang tidak loyal atau berhenti berlangganan, mengingat iuran yang dibayar existing customer ( termasuk customer yang loyal), merupakan revenue bagi perusahaan.\n",
        "\n",
        "Demi menjaga kesetiaan customer yang loyal, model yang saya buat ditargetkan memiliki score prediksi minimal 80 %."
      ]
    },
    {
      "cell_type": "markdown",
      "metadata": {},
      "source": [
        "## Ib. Hugging Face"
      ]
    },
    {
      "cell_type": "markdown",
      "metadata": {},
      "source": [
        "Berikut Link Deployment di [Hugging Face](https://huggingface.co/spaces/rizkiaditama/Milestone-2) dari program yang dibuat."
      ]
    },
    {
      "cell_type": "markdown",
      "metadata": {},
      "source": [
        "## Ic. Conceptual Problems"
      ]
    },
    {
      "cell_type": "markdown",
      "metadata": {},
      "source": [
        "Jawaban :\n",
        "\n",
        "Nomor 1 :\n",
        "- Adanya Overfitting adalah masalah umum dalam machine learning di mana model yang kompleks terlalu \"menghafal\" data pelatihan, sehingga tidak mampu melakukan generalisasi yang baik pada data baru. Sehigga hal tersebut menjadi latar belakang adanya Bagging (Bootstrap Aggregating).\n",
        "     \n",
        "- Cara Kerja Bagging :\n",
        "    * Bootstrap Sampling: Bagging menggunakan teknik bootstrap sampling, yang melibatkan pemilihan secara acak sejumlah sampel dari data pelatihan dengan penggantian (beberapa sampel dapat dipilih lebih dari sekali, sementara yang lainnya mungkin tidak dipilih sama sekali). Ini menghasilkan sejumlah dataset pelatihan yang berbeda secara acak yang disebut bootstrap samples.\n",
        "\n",
        "    * Model Base: Bagging juga melibatkan penggunaan model base yang sama, seperti decision trees, random forests, atau classifier/regressor lainnya. Setiap model base dilatih menggunakan salah satu bootstrap sample.\n",
        "\n",
        "     * Prediksi Aggregasi: Setelah semua model base dilatih, Bagging menghasilkan prediksi dengan menggabungkan hasil prediksi dari semua model. Cara umum untuk menggabungkan prediksi adalah dengan menghitung rata-rata (untuk regresi) atau melakukan voting mayoritas (untuk klasifikasi) dari prediksi-prediksi tersebut.\n",
        "\n",
        "Nomor 2 : \n",
        "\n",
        "Algoritma Random Forest dan algoritma Boosting adalah dua pendekatan yang berbeda dalam pembuatan model ensemble, yang digunakan dalam machine learning untuk meningkatkan kinerja model prediksi. Berikut ini perbedaan utama dalam cara kerja keduanya :\n",
        "\n",
        "- Proses Pembuatan Model:\n",
        "    * Random Forest: Random Forest adalah algoritma ensemble yang menggunakan pendekatan \"bagging\" (bootstrap aggregating). Ini berarti model-model yang berbeda dibuat secara independen dengan menggunakan subset acak dari data pelatihan (dengan penggantian). Setiap model dikenal sebagai \"pohon keputusan.\" Hasil prediksi kemudian diambil dengan cara menggabungkan hasil dari semua pohon keputusan tersebut.\n",
        "    * Boosting: Algoritma Boosting, seperti AdaBoost atau Gradient Boosting, mengambil pendekatan berbeda. Mereka membangun serangkaian model yang saling tergantung, yang berarti setiap model berikutnya berusaha memperbaiki kesalahan yang dilakukan oleh model sebelumnya. Model-model ini dibuat secara berurutan, dan bobot diberikan kepada setiap sampel pelatihan berdasarkan seberapa salahnya diprediksi oleh model sebelumnya.\n",
        "\n",
        "- Pemilihan Model Dasar:\n",
        "    * Random Forest: Setiap pohon keputusan dalam Random Forest dapat dibuat dengan menggunakan seluruh fitur dataset atau hanya sebagian kecil dari fitur secara acak pada setiap langkah. Ini memastikan variasi di antara pohon-pohon tersebut.\n",
        "    * Boosting: Algoritma Boosting biasanya menggunakan model dasar yang lemah (misalnya, pohon keputusan dangkal atau regresi linear). Model-model ini digunakan secara berurutan dengan menyesuaikan bobot sampel pelatihan untuk meningkatkan prediksi kesalahan model sebelumnya.\n",
        "\n",
        "- Cara Kombinasi Prediksi:\n",
        "    * Random Forest: Prediksi dari setiap pohon keputusan diambil secara demokratis, biasanya dengan menghitung rata-rata (untuk regresi) atau melakukan pemilihan mayoritas (untuk klasifikasi).\n",
        "    * Boosting: Prediksi dari model-model yang dibangun dalam Boosting dikombinasikan dengan memberikan bobot pada setiap prediksi. Model dengan bobot lebih tinggi akan memiliki pengaruh lebih besar dalam prediksi akhir.\n",
        "\n",
        "- Penanganan Overfitting:\n",
        "    * Random Forest: Karena variasi dalam subset data pelatihan yang digunakan untuk setiap pohon, Random Forest cenderung lebih tahan terhadap overfitting daripada pohon keputusan tunggal.\n",
        "    * Boosting: Algoritma Boosting, terutama jika tidak diatur dengan benar, dapat cenderung overfit pada data pelatihan karena upaya mereka untuk memperbaiki kesalahan pada setiap iterasi.\n",
        "\n",
        "- Kinerja:\n",
        "    * Random Forest: Random Forest seringkali cocok dengan baik pada berbagai jenis data dan biasanya memiliki kinerja yang stabil.\n",
        "    * Boosting: Boosting dapat memberikan kinerja yang lebih tinggi daripada Random Forest ketika diatur dengan benar, tetapi bisa lebih sensitif terhadap keberadaan outlier dan memerlukan penyesuaian parameter yang lebih hati-hati.\n",
        "\n",
        "Nomor 3 :\n",
        "\n",
        "Cross-validation adalah sebuah metode statistik yang digunakan dalam machine learning dan statistika untuk mengukur kinerja model prediksi secara objektif dan menghindari overfitting. Tujuan utama dari cross-validation adalah untuk membagi dataset menjadi subset yang berbeda untuk melatih dan menguji model secara bersamaan. Ini membantu kita memahami seberapa baik model kita dalam melakukan generalisasi terhadap data yang belum pernah dilihat sebelumnya."
      ]
    },
    {
      "cell_type": "markdown",
      "metadata": {
        "id": "IupWdqBHYwo_"
      },
      "source": [
        "# II. IMPORT LIBRARIES"
      ]
    },
    {
      "cell_type": "code",
      "execution_count": 108,
      "metadata": {
        "colab": {
          "base_uri": "https://localhost:8080/"
        },
        "id": "UGQ9c_EtZebK",
        "outputId": "2601d4d2-d00b-4d15-ff87-84d947ce66d0"
      },
      "outputs": [],
      "source": [
        "# Untuk manipulasi dataframe\n",
        "import pandas as pd\n",
        "\n",
        "# Untuk operasi aritmatika\n",
        "import numpy as np\n",
        "\n",
        "# Untuk visualisasi\n",
        "import matplotlib.pyplot as plt\n",
        "import seaborn as sns\n",
        "\n",
        "# Untuk handling imbalance data\n",
        "from imblearn.over_sampling import RandomOverSampler\n",
        "\n",
        "# Untuk cari korelasi\n",
        "from sklearn.feature_selection import SelectKBest, chi2\n",
        "\n",
        "# Untuk define model\n",
        "from sklearn.neighbors import KNeighborsClassifier\n",
        "from sklearn.ensemble  import RandomForestClassifier, AdaBoostClassifier\n",
        "from sklearn.svm import SVC\n",
        "\n",
        "# Untuk Evaluasi Model\n",
        "from sklearn.metrics import classification_report, confusion_matrix, ConfusionMatrixDisplay, f1_score, accuracy_score, precision_score, recall_score\n",
        "from sklearn.metrics import confusion_matrix\n",
        "from sklearn.metrics import ConfusionMatrixDisplay\n",
        "from sklearn.metrics import make_scorer, f1_score\n",
        "\n",
        "# Untuk Preprocess\n",
        "from sklearn.model_selection import train_test_split\n",
        "\n",
        "# Untuk scaling\n",
        "from sklearn.preprocessing import MinMaxScaler, StandardScaler\n",
        "\n",
        "# Untuk membuat pipeline\n",
        "from sklearn.pipeline import Pipeline\n",
        "from sklearn.compose import ColumnTransformer\n",
        "\n",
        "# Untuk Handling outlier\n",
        "from feature_engine.outliers import Winsorizer\n",
        "\n",
        "# Hyperparameter tuning\n",
        "from sklearn.model_selection import RandomizedSearchCV\n",
        "\n",
        "#Untuk mengabaikan fitur peringatan\n",
        "import warnings\n",
        "warnings.filterwarnings('ignore')"
      ]
    },
    {
      "cell_type": "markdown",
      "metadata": {
        "id": "WiBSA_OuY8lW"
      },
      "source": [
        "# III. DATA LOADING"
      ]
    },
    {
      "cell_type": "code",
      "execution_count": 109,
      "metadata": {
        "id": "dJ_wyThbZm57"
      },
      "outputs": [],
      "source": [
        "# Proses Data Loading\n",
        "df = pd.read_csv('Customer-Churn.csv')\n"
      ]
    },
    {
      "cell_type": "markdown",
      "metadata": {
        "id": "DJhA4_avZA-T"
      },
      "source": [
        "## IIIa. Data Overview"
      ]
    },
    {
      "cell_type": "code",
      "execution_count": 110,
      "metadata": {
        "colab": {
          "base_uri": "https://localhost:8080/",
          "height": 586
        },
        "id": "kMmolJC6Z795",
        "outputId": "619862b9-5107-47e2-cc4f-fef79e00da13"
      },
      "outputs": [
        {
          "data": {
            "text/html": [
              "<div>\n",
              "<style scoped>\n",
              "    .dataframe tbody tr th:only-of-type {\n",
              "        vertical-align: middle;\n",
              "    }\n",
              "\n",
              "    .dataframe tbody tr th {\n",
              "        vertical-align: top;\n",
              "    }\n",
              "\n",
              "    .dataframe thead th {\n",
              "        text-align: right;\n",
              "    }\n",
              "</style>\n",
              "<table border=\"1\" class=\"dataframe\">\n",
              "  <thead>\n",
              "    <tr style=\"text-align: right;\">\n",
              "      <th></th>\n",
              "      <th>customerID</th>\n",
              "      <th>gender</th>\n",
              "      <th>SeniorCitizen</th>\n",
              "      <th>Partner</th>\n",
              "      <th>Dependents</th>\n",
              "      <th>tenure</th>\n",
              "      <th>PhoneService</th>\n",
              "      <th>MultipleLines</th>\n",
              "      <th>InternetService</th>\n",
              "      <th>OnlineSecurity</th>\n",
              "      <th>...</th>\n",
              "      <th>DeviceProtection</th>\n",
              "      <th>TechSupport</th>\n",
              "      <th>StreamingTV</th>\n",
              "      <th>StreamingMovies</th>\n",
              "      <th>Contract</th>\n",
              "      <th>PaperlessBilling</th>\n",
              "      <th>PaymentMethod</th>\n",
              "      <th>MonthlyCharges</th>\n",
              "      <th>TotalCharges</th>\n",
              "      <th>Churn</th>\n",
              "    </tr>\n",
              "  </thead>\n",
              "  <tbody>\n",
              "    <tr>\n",
              "      <th>0</th>\n",
              "      <td>7590-VHVEG</td>\n",
              "      <td>Female</td>\n",
              "      <td>0</td>\n",
              "      <td>Yes</td>\n",
              "      <td>No</td>\n",
              "      <td>1</td>\n",
              "      <td>No</td>\n",
              "      <td>No phone service</td>\n",
              "      <td>DSL</td>\n",
              "      <td>No</td>\n",
              "      <td>...</td>\n",
              "      <td>No</td>\n",
              "      <td>No</td>\n",
              "      <td>No</td>\n",
              "      <td>No</td>\n",
              "      <td>Month-to-month</td>\n",
              "      <td>Yes</td>\n",
              "      <td>Electronic check</td>\n",
              "      <td>29.85</td>\n",
              "      <td>29.85</td>\n",
              "      <td>No</td>\n",
              "    </tr>\n",
              "    <tr>\n",
              "      <th>1</th>\n",
              "      <td>5575-GNVDE</td>\n",
              "      <td>Male</td>\n",
              "      <td>0</td>\n",
              "      <td>No</td>\n",
              "      <td>No</td>\n",
              "      <td>34</td>\n",
              "      <td>Yes</td>\n",
              "      <td>No</td>\n",
              "      <td>DSL</td>\n",
              "      <td>Yes</td>\n",
              "      <td>...</td>\n",
              "      <td>Yes</td>\n",
              "      <td>No</td>\n",
              "      <td>No</td>\n",
              "      <td>No</td>\n",
              "      <td>One year</td>\n",
              "      <td>No</td>\n",
              "      <td>Mailed check</td>\n",
              "      <td>56.95</td>\n",
              "      <td>1889.5</td>\n",
              "      <td>No</td>\n",
              "    </tr>\n",
              "    <tr>\n",
              "      <th>2</th>\n",
              "      <td>3668-QPYBK</td>\n",
              "      <td>Male</td>\n",
              "      <td>0</td>\n",
              "      <td>No</td>\n",
              "      <td>No</td>\n",
              "      <td>2</td>\n",
              "      <td>Yes</td>\n",
              "      <td>No</td>\n",
              "      <td>DSL</td>\n",
              "      <td>Yes</td>\n",
              "      <td>...</td>\n",
              "      <td>No</td>\n",
              "      <td>No</td>\n",
              "      <td>No</td>\n",
              "      <td>No</td>\n",
              "      <td>Month-to-month</td>\n",
              "      <td>Yes</td>\n",
              "      <td>Mailed check</td>\n",
              "      <td>53.85</td>\n",
              "      <td>108.15</td>\n",
              "      <td>Yes</td>\n",
              "    </tr>\n",
              "    <tr>\n",
              "      <th>3</th>\n",
              "      <td>7795-CFOCW</td>\n",
              "      <td>Male</td>\n",
              "      <td>0</td>\n",
              "      <td>No</td>\n",
              "      <td>No</td>\n",
              "      <td>45</td>\n",
              "      <td>No</td>\n",
              "      <td>No phone service</td>\n",
              "      <td>DSL</td>\n",
              "      <td>Yes</td>\n",
              "      <td>...</td>\n",
              "      <td>Yes</td>\n",
              "      <td>Yes</td>\n",
              "      <td>No</td>\n",
              "      <td>No</td>\n",
              "      <td>One year</td>\n",
              "      <td>No</td>\n",
              "      <td>Bank transfer (automatic)</td>\n",
              "      <td>42.30</td>\n",
              "      <td>1840.75</td>\n",
              "      <td>No</td>\n",
              "    </tr>\n",
              "    <tr>\n",
              "      <th>4</th>\n",
              "      <td>9237-HQITU</td>\n",
              "      <td>Female</td>\n",
              "      <td>0</td>\n",
              "      <td>No</td>\n",
              "      <td>No</td>\n",
              "      <td>2</td>\n",
              "      <td>Yes</td>\n",
              "      <td>No</td>\n",
              "      <td>Fiber optic</td>\n",
              "      <td>No</td>\n",
              "      <td>...</td>\n",
              "      <td>No</td>\n",
              "      <td>No</td>\n",
              "      <td>No</td>\n",
              "      <td>No</td>\n",
              "      <td>Month-to-month</td>\n",
              "      <td>Yes</td>\n",
              "      <td>Electronic check</td>\n",
              "      <td>70.70</td>\n",
              "      <td>151.65</td>\n",
              "      <td>Yes</td>\n",
              "    </tr>\n",
              "    <tr>\n",
              "      <th>5</th>\n",
              "      <td>9305-CDSKC</td>\n",
              "      <td>Female</td>\n",
              "      <td>0</td>\n",
              "      <td>No</td>\n",
              "      <td>No</td>\n",
              "      <td>8</td>\n",
              "      <td>Yes</td>\n",
              "      <td>Yes</td>\n",
              "      <td>Fiber optic</td>\n",
              "      <td>No</td>\n",
              "      <td>...</td>\n",
              "      <td>Yes</td>\n",
              "      <td>No</td>\n",
              "      <td>Yes</td>\n",
              "      <td>Yes</td>\n",
              "      <td>Month-to-month</td>\n",
              "      <td>Yes</td>\n",
              "      <td>Electronic check</td>\n",
              "      <td>99.65</td>\n",
              "      <td>820.5</td>\n",
              "      <td>Yes</td>\n",
              "    </tr>\n",
              "    <tr>\n",
              "      <th>6</th>\n",
              "      <td>1452-KIOVK</td>\n",
              "      <td>Male</td>\n",
              "      <td>0</td>\n",
              "      <td>No</td>\n",
              "      <td>Yes</td>\n",
              "      <td>22</td>\n",
              "      <td>Yes</td>\n",
              "      <td>Yes</td>\n",
              "      <td>Fiber optic</td>\n",
              "      <td>No</td>\n",
              "      <td>...</td>\n",
              "      <td>No</td>\n",
              "      <td>No</td>\n",
              "      <td>Yes</td>\n",
              "      <td>No</td>\n",
              "      <td>Month-to-month</td>\n",
              "      <td>Yes</td>\n",
              "      <td>Credit card (automatic)</td>\n",
              "      <td>89.10</td>\n",
              "      <td>1949.4</td>\n",
              "      <td>No</td>\n",
              "    </tr>\n",
              "    <tr>\n",
              "      <th>7</th>\n",
              "      <td>6713-OKOMC</td>\n",
              "      <td>Female</td>\n",
              "      <td>0</td>\n",
              "      <td>No</td>\n",
              "      <td>No</td>\n",
              "      <td>10</td>\n",
              "      <td>No</td>\n",
              "      <td>No phone service</td>\n",
              "      <td>DSL</td>\n",
              "      <td>Yes</td>\n",
              "      <td>...</td>\n",
              "      <td>No</td>\n",
              "      <td>No</td>\n",
              "      <td>No</td>\n",
              "      <td>No</td>\n",
              "      <td>Month-to-month</td>\n",
              "      <td>No</td>\n",
              "      <td>Mailed check</td>\n",
              "      <td>29.75</td>\n",
              "      <td>301.9</td>\n",
              "      <td>No</td>\n",
              "    </tr>\n",
              "    <tr>\n",
              "      <th>8</th>\n",
              "      <td>7892-POOKP</td>\n",
              "      <td>Female</td>\n",
              "      <td>0</td>\n",
              "      <td>Yes</td>\n",
              "      <td>No</td>\n",
              "      <td>28</td>\n",
              "      <td>Yes</td>\n",
              "      <td>Yes</td>\n",
              "      <td>Fiber optic</td>\n",
              "      <td>No</td>\n",
              "      <td>...</td>\n",
              "      <td>Yes</td>\n",
              "      <td>Yes</td>\n",
              "      <td>Yes</td>\n",
              "      <td>Yes</td>\n",
              "      <td>Month-to-month</td>\n",
              "      <td>Yes</td>\n",
              "      <td>Electronic check</td>\n",
              "      <td>104.80</td>\n",
              "      <td>3046.05</td>\n",
              "      <td>Yes</td>\n",
              "    </tr>\n",
              "    <tr>\n",
              "      <th>9</th>\n",
              "      <td>6388-TABGU</td>\n",
              "      <td>Male</td>\n",
              "      <td>0</td>\n",
              "      <td>No</td>\n",
              "      <td>Yes</td>\n",
              "      <td>62</td>\n",
              "      <td>Yes</td>\n",
              "      <td>No</td>\n",
              "      <td>DSL</td>\n",
              "      <td>Yes</td>\n",
              "      <td>...</td>\n",
              "      <td>No</td>\n",
              "      <td>No</td>\n",
              "      <td>No</td>\n",
              "      <td>No</td>\n",
              "      <td>One year</td>\n",
              "      <td>No</td>\n",
              "      <td>Bank transfer (automatic)</td>\n",
              "      <td>56.15</td>\n",
              "      <td>3487.95</td>\n",
              "      <td>No</td>\n",
              "    </tr>\n",
              "  </tbody>\n",
              "</table>\n",
              "<p>10 rows × 21 columns</p>\n",
              "</div>"
            ],
            "text/plain": [
              "   customerID  gender  SeniorCitizen Partner Dependents  tenure PhoneService  \\\n",
              "0  7590-VHVEG  Female              0     Yes         No       1           No   \n",
              "1  5575-GNVDE    Male              0      No         No      34          Yes   \n",
              "2  3668-QPYBK    Male              0      No         No       2          Yes   \n",
              "3  7795-CFOCW    Male              0      No         No      45           No   \n",
              "4  9237-HQITU  Female              0      No         No       2          Yes   \n",
              "5  9305-CDSKC  Female              0      No         No       8          Yes   \n",
              "6  1452-KIOVK    Male              0      No        Yes      22          Yes   \n",
              "7  6713-OKOMC  Female              0      No         No      10           No   \n",
              "8  7892-POOKP  Female              0     Yes         No      28          Yes   \n",
              "9  6388-TABGU    Male              0      No        Yes      62          Yes   \n",
              "\n",
              "      MultipleLines InternetService OnlineSecurity  ... DeviceProtection  \\\n",
              "0  No phone service             DSL             No  ...               No   \n",
              "1                No             DSL            Yes  ...              Yes   \n",
              "2                No             DSL            Yes  ...               No   \n",
              "3  No phone service             DSL            Yes  ...              Yes   \n",
              "4                No     Fiber optic             No  ...               No   \n",
              "5               Yes     Fiber optic             No  ...              Yes   \n",
              "6               Yes     Fiber optic             No  ...               No   \n",
              "7  No phone service             DSL            Yes  ...               No   \n",
              "8               Yes     Fiber optic             No  ...              Yes   \n",
              "9                No             DSL            Yes  ...               No   \n",
              "\n",
              "  TechSupport StreamingTV StreamingMovies        Contract PaperlessBilling  \\\n",
              "0          No          No              No  Month-to-month              Yes   \n",
              "1          No          No              No        One year               No   \n",
              "2          No          No              No  Month-to-month              Yes   \n",
              "3         Yes          No              No        One year               No   \n",
              "4          No          No              No  Month-to-month              Yes   \n",
              "5          No         Yes             Yes  Month-to-month              Yes   \n",
              "6          No         Yes              No  Month-to-month              Yes   \n",
              "7          No          No              No  Month-to-month               No   \n",
              "8         Yes         Yes             Yes  Month-to-month              Yes   \n",
              "9          No          No              No        One year               No   \n",
              "\n",
              "               PaymentMethod MonthlyCharges  TotalCharges Churn  \n",
              "0           Electronic check          29.85         29.85    No  \n",
              "1               Mailed check          56.95        1889.5    No  \n",
              "2               Mailed check          53.85        108.15   Yes  \n",
              "3  Bank transfer (automatic)          42.30       1840.75    No  \n",
              "4           Electronic check          70.70        151.65   Yes  \n",
              "5           Electronic check          99.65         820.5   Yes  \n",
              "6    Credit card (automatic)          89.10        1949.4    No  \n",
              "7               Mailed check          29.75         301.9    No  \n",
              "8           Electronic check         104.80       3046.05   Yes  \n",
              "9  Bank transfer (automatic)          56.15       3487.95    No  \n",
              "\n",
              "[10 rows x 21 columns]"
            ]
          },
          "execution_count": 110,
          "metadata": {},
          "output_type": "execute_result"
        }
      ],
      "source": [
        "# Menampilkan 10 data pertama\n",
        "df.head(10)"
      ]
    },
    {
      "cell_type": "code",
      "execution_count": 111,
      "metadata": {
        "colab": {
          "base_uri": "https://localhost:8080/",
          "height": 586
        },
        "id": "5kyVjJNbZ--n",
        "outputId": "d178e4b3-f650-4e1e-d1b4-4cdb1752987e"
      },
      "outputs": [
        {
          "data": {
            "text/html": [
              "<div>\n",
              "<style scoped>\n",
              "    .dataframe tbody tr th:only-of-type {\n",
              "        vertical-align: middle;\n",
              "    }\n",
              "\n",
              "    .dataframe tbody tr th {\n",
              "        vertical-align: top;\n",
              "    }\n",
              "\n",
              "    .dataframe thead th {\n",
              "        text-align: right;\n",
              "    }\n",
              "</style>\n",
              "<table border=\"1\" class=\"dataframe\">\n",
              "  <thead>\n",
              "    <tr style=\"text-align: right;\">\n",
              "      <th></th>\n",
              "      <th>customerID</th>\n",
              "      <th>gender</th>\n",
              "      <th>SeniorCitizen</th>\n",
              "      <th>Partner</th>\n",
              "      <th>Dependents</th>\n",
              "      <th>tenure</th>\n",
              "      <th>PhoneService</th>\n",
              "      <th>MultipleLines</th>\n",
              "      <th>InternetService</th>\n",
              "      <th>OnlineSecurity</th>\n",
              "      <th>...</th>\n",
              "      <th>DeviceProtection</th>\n",
              "      <th>TechSupport</th>\n",
              "      <th>StreamingTV</th>\n",
              "      <th>StreamingMovies</th>\n",
              "      <th>Contract</th>\n",
              "      <th>PaperlessBilling</th>\n",
              "      <th>PaymentMethod</th>\n",
              "      <th>MonthlyCharges</th>\n",
              "      <th>TotalCharges</th>\n",
              "      <th>Churn</th>\n",
              "    </tr>\n",
              "  </thead>\n",
              "  <tbody>\n",
              "    <tr>\n",
              "      <th>7033</th>\n",
              "      <td>9767-FFLEM</td>\n",
              "      <td>Male</td>\n",
              "      <td>0</td>\n",
              "      <td>No</td>\n",
              "      <td>No</td>\n",
              "      <td>38</td>\n",
              "      <td>Yes</td>\n",
              "      <td>No</td>\n",
              "      <td>Fiber optic</td>\n",
              "      <td>No</td>\n",
              "      <td>...</td>\n",
              "      <td>No</td>\n",
              "      <td>No</td>\n",
              "      <td>No</td>\n",
              "      <td>No</td>\n",
              "      <td>Month-to-month</td>\n",
              "      <td>Yes</td>\n",
              "      <td>Credit card (automatic)</td>\n",
              "      <td>69.50</td>\n",
              "      <td>2625.25</td>\n",
              "      <td>No</td>\n",
              "    </tr>\n",
              "    <tr>\n",
              "      <th>7034</th>\n",
              "      <td>0639-TSIQW</td>\n",
              "      <td>Female</td>\n",
              "      <td>0</td>\n",
              "      <td>No</td>\n",
              "      <td>No</td>\n",
              "      <td>67</td>\n",
              "      <td>Yes</td>\n",
              "      <td>Yes</td>\n",
              "      <td>Fiber optic</td>\n",
              "      <td>Yes</td>\n",
              "      <td>...</td>\n",
              "      <td>Yes</td>\n",
              "      <td>No</td>\n",
              "      <td>Yes</td>\n",
              "      <td>No</td>\n",
              "      <td>Month-to-month</td>\n",
              "      <td>Yes</td>\n",
              "      <td>Credit card (automatic)</td>\n",
              "      <td>102.95</td>\n",
              "      <td>6886.25</td>\n",
              "      <td>Yes</td>\n",
              "    </tr>\n",
              "    <tr>\n",
              "      <th>7035</th>\n",
              "      <td>8456-QDAVC</td>\n",
              "      <td>Male</td>\n",
              "      <td>0</td>\n",
              "      <td>No</td>\n",
              "      <td>No</td>\n",
              "      <td>19</td>\n",
              "      <td>Yes</td>\n",
              "      <td>No</td>\n",
              "      <td>Fiber optic</td>\n",
              "      <td>No</td>\n",
              "      <td>...</td>\n",
              "      <td>No</td>\n",
              "      <td>No</td>\n",
              "      <td>Yes</td>\n",
              "      <td>No</td>\n",
              "      <td>Month-to-month</td>\n",
              "      <td>Yes</td>\n",
              "      <td>Bank transfer (automatic)</td>\n",
              "      <td>78.70</td>\n",
              "      <td>1495.1</td>\n",
              "      <td>No</td>\n",
              "    </tr>\n",
              "    <tr>\n",
              "      <th>7036</th>\n",
              "      <td>7750-EYXWZ</td>\n",
              "      <td>Female</td>\n",
              "      <td>0</td>\n",
              "      <td>No</td>\n",
              "      <td>No</td>\n",
              "      <td>12</td>\n",
              "      <td>No</td>\n",
              "      <td>No phone service</td>\n",
              "      <td>DSL</td>\n",
              "      <td>No</td>\n",
              "      <td>...</td>\n",
              "      <td>Yes</td>\n",
              "      <td>Yes</td>\n",
              "      <td>Yes</td>\n",
              "      <td>Yes</td>\n",
              "      <td>One year</td>\n",
              "      <td>No</td>\n",
              "      <td>Electronic check</td>\n",
              "      <td>60.65</td>\n",
              "      <td>743.3</td>\n",
              "      <td>No</td>\n",
              "    </tr>\n",
              "    <tr>\n",
              "      <th>7037</th>\n",
              "      <td>2569-WGERO</td>\n",
              "      <td>Female</td>\n",
              "      <td>0</td>\n",
              "      <td>No</td>\n",
              "      <td>No</td>\n",
              "      <td>72</td>\n",
              "      <td>Yes</td>\n",
              "      <td>No</td>\n",
              "      <td>No</td>\n",
              "      <td>No internet service</td>\n",
              "      <td>...</td>\n",
              "      <td>No internet service</td>\n",
              "      <td>No internet service</td>\n",
              "      <td>No internet service</td>\n",
              "      <td>No internet service</td>\n",
              "      <td>Two year</td>\n",
              "      <td>Yes</td>\n",
              "      <td>Bank transfer (automatic)</td>\n",
              "      <td>21.15</td>\n",
              "      <td>1419.4</td>\n",
              "      <td>No</td>\n",
              "    </tr>\n",
              "    <tr>\n",
              "      <th>7038</th>\n",
              "      <td>6840-RESVB</td>\n",
              "      <td>Male</td>\n",
              "      <td>0</td>\n",
              "      <td>Yes</td>\n",
              "      <td>Yes</td>\n",
              "      <td>24</td>\n",
              "      <td>Yes</td>\n",
              "      <td>Yes</td>\n",
              "      <td>DSL</td>\n",
              "      <td>Yes</td>\n",
              "      <td>...</td>\n",
              "      <td>Yes</td>\n",
              "      <td>Yes</td>\n",
              "      <td>Yes</td>\n",
              "      <td>Yes</td>\n",
              "      <td>One year</td>\n",
              "      <td>Yes</td>\n",
              "      <td>Mailed check</td>\n",
              "      <td>84.80</td>\n",
              "      <td>1990.5</td>\n",
              "      <td>No</td>\n",
              "    </tr>\n",
              "    <tr>\n",
              "      <th>7039</th>\n",
              "      <td>2234-XADUH</td>\n",
              "      <td>Female</td>\n",
              "      <td>0</td>\n",
              "      <td>Yes</td>\n",
              "      <td>Yes</td>\n",
              "      <td>72</td>\n",
              "      <td>Yes</td>\n",
              "      <td>Yes</td>\n",
              "      <td>Fiber optic</td>\n",
              "      <td>No</td>\n",
              "      <td>...</td>\n",
              "      <td>Yes</td>\n",
              "      <td>No</td>\n",
              "      <td>Yes</td>\n",
              "      <td>Yes</td>\n",
              "      <td>One year</td>\n",
              "      <td>Yes</td>\n",
              "      <td>Credit card (automatic)</td>\n",
              "      <td>103.20</td>\n",
              "      <td>7362.9</td>\n",
              "      <td>No</td>\n",
              "    </tr>\n",
              "    <tr>\n",
              "      <th>7040</th>\n",
              "      <td>4801-JZAZL</td>\n",
              "      <td>Female</td>\n",
              "      <td>0</td>\n",
              "      <td>Yes</td>\n",
              "      <td>Yes</td>\n",
              "      <td>11</td>\n",
              "      <td>No</td>\n",
              "      <td>No phone service</td>\n",
              "      <td>DSL</td>\n",
              "      <td>Yes</td>\n",
              "      <td>...</td>\n",
              "      <td>No</td>\n",
              "      <td>No</td>\n",
              "      <td>No</td>\n",
              "      <td>No</td>\n",
              "      <td>Month-to-month</td>\n",
              "      <td>Yes</td>\n",
              "      <td>Electronic check</td>\n",
              "      <td>29.60</td>\n",
              "      <td>346.45</td>\n",
              "      <td>No</td>\n",
              "    </tr>\n",
              "    <tr>\n",
              "      <th>7041</th>\n",
              "      <td>8361-LTMKD</td>\n",
              "      <td>Male</td>\n",
              "      <td>1</td>\n",
              "      <td>Yes</td>\n",
              "      <td>No</td>\n",
              "      <td>4</td>\n",
              "      <td>Yes</td>\n",
              "      <td>Yes</td>\n",
              "      <td>Fiber optic</td>\n",
              "      <td>No</td>\n",
              "      <td>...</td>\n",
              "      <td>No</td>\n",
              "      <td>No</td>\n",
              "      <td>No</td>\n",
              "      <td>No</td>\n",
              "      <td>Month-to-month</td>\n",
              "      <td>Yes</td>\n",
              "      <td>Mailed check</td>\n",
              "      <td>74.40</td>\n",
              "      <td>306.6</td>\n",
              "      <td>Yes</td>\n",
              "    </tr>\n",
              "    <tr>\n",
              "      <th>7042</th>\n",
              "      <td>3186-AJIEK</td>\n",
              "      <td>Male</td>\n",
              "      <td>0</td>\n",
              "      <td>No</td>\n",
              "      <td>No</td>\n",
              "      <td>66</td>\n",
              "      <td>Yes</td>\n",
              "      <td>No</td>\n",
              "      <td>Fiber optic</td>\n",
              "      <td>Yes</td>\n",
              "      <td>...</td>\n",
              "      <td>Yes</td>\n",
              "      <td>Yes</td>\n",
              "      <td>Yes</td>\n",
              "      <td>Yes</td>\n",
              "      <td>Two year</td>\n",
              "      <td>Yes</td>\n",
              "      <td>Bank transfer (automatic)</td>\n",
              "      <td>105.65</td>\n",
              "      <td>6844.5</td>\n",
              "      <td>No</td>\n",
              "    </tr>\n",
              "  </tbody>\n",
              "</table>\n",
              "<p>10 rows × 21 columns</p>\n",
              "</div>"
            ],
            "text/plain": [
              "      customerID  gender  SeniorCitizen Partner Dependents  tenure  \\\n",
              "7033  9767-FFLEM    Male              0      No         No      38   \n",
              "7034  0639-TSIQW  Female              0      No         No      67   \n",
              "7035  8456-QDAVC    Male              0      No         No      19   \n",
              "7036  7750-EYXWZ  Female              0      No         No      12   \n",
              "7037  2569-WGERO  Female              0      No         No      72   \n",
              "7038  6840-RESVB    Male              0     Yes        Yes      24   \n",
              "7039  2234-XADUH  Female              0     Yes        Yes      72   \n",
              "7040  4801-JZAZL  Female              0     Yes        Yes      11   \n",
              "7041  8361-LTMKD    Male              1     Yes         No       4   \n",
              "7042  3186-AJIEK    Male              0      No         No      66   \n",
              "\n",
              "     PhoneService     MultipleLines InternetService       OnlineSecurity  ...  \\\n",
              "7033          Yes                No     Fiber optic                   No  ...   \n",
              "7034          Yes               Yes     Fiber optic                  Yes  ...   \n",
              "7035          Yes                No     Fiber optic                   No  ...   \n",
              "7036           No  No phone service             DSL                   No  ...   \n",
              "7037          Yes                No              No  No internet service  ...   \n",
              "7038          Yes               Yes             DSL                  Yes  ...   \n",
              "7039          Yes               Yes     Fiber optic                   No  ...   \n",
              "7040           No  No phone service             DSL                  Yes  ...   \n",
              "7041          Yes               Yes     Fiber optic                   No  ...   \n",
              "7042          Yes                No     Fiber optic                  Yes  ...   \n",
              "\n",
              "         DeviceProtection          TechSupport          StreamingTV  \\\n",
              "7033                   No                   No                   No   \n",
              "7034                  Yes                   No                  Yes   \n",
              "7035                   No                   No                  Yes   \n",
              "7036                  Yes                  Yes                  Yes   \n",
              "7037  No internet service  No internet service  No internet service   \n",
              "7038                  Yes                  Yes                  Yes   \n",
              "7039                  Yes                   No                  Yes   \n",
              "7040                   No                   No                   No   \n",
              "7041                   No                   No                   No   \n",
              "7042                  Yes                  Yes                  Yes   \n",
              "\n",
              "          StreamingMovies        Contract PaperlessBilling  \\\n",
              "7033                   No  Month-to-month              Yes   \n",
              "7034                   No  Month-to-month              Yes   \n",
              "7035                   No  Month-to-month              Yes   \n",
              "7036                  Yes        One year               No   \n",
              "7037  No internet service        Two year              Yes   \n",
              "7038                  Yes        One year              Yes   \n",
              "7039                  Yes        One year              Yes   \n",
              "7040                   No  Month-to-month              Yes   \n",
              "7041                   No  Month-to-month              Yes   \n",
              "7042                  Yes        Two year              Yes   \n",
              "\n",
              "                  PaymentMethod MonthlyCharges  TotalCharges Churn  \n",
              "7033    Credit card (automatic)          69.50       2625.25    No  \n",
              "7034    Credit card (automatic)         102.95       6886.25   Yes  \n",
              "7035  Bank transfer (automatic)          78.70        1495.1    No  \n",
              "7036           Electronic check          60.65         743.3    No  \n",
              "7037  Bank transfer (automatic)          21.15        1419.4    No  \n",
              "7038               Mailed check          84.80        1990.5    No  \n",
              "7039    Credit card (automatic)         103.20        7362.9    No  \n",
              "7040           Electronic check          29.60        346.45    No  \n",
              "7041               Mailed check          74.40         306.6   Yes  \n",
              "7042  Bank transfer (automatic)         105.65        6844.5    No  \n",
              "\n",
              "[10 rows x 21 columns]"
            ]
          },
          "execution_count": 111,
          "metadata": {},
          "output_type": "execute_result"
        }
      ],
      "source": [
        "# Menampilkan 10 data terakhir.\n",
        "df.tail(10)"
      ]
    },
    {
      "cell_type": "code",
      "execution_count": 112,
      "metadata": {
        "colab": {
          "base_uri": "https://localhost:8080/"
        },
        "id": "XzAFgUwnaBEx",
        "outputId": "f93154fb-1b74-46a3-92ee-358e658c5ffe"
      },
      "outputs": [
        {
          "data": {
            "text/plain": [
              "(7043, 21)"
            ]
          },
          "execution_count": 112,
          "metadata": {},
          "output_type": "execute_result"
        }
      ],
      "source": [
        "# Menampilkan jumlah baris dan kolom dataframe.\n",
        "df.shape"
      ]
    },
    {
      "cell_type": "code",
      "execution_count": 113,
      "metadata": {
        "colab": {
          "base_uri": "https://localhost:8080/"
        },
        "id": "ePAPNo4waFlr",
        "outputId": "36100c0b-6887-45c9-d80f-55792972cd16"
      },
      "outputs": [
        {
          "name": "stdout",
          "output_type": "stream",
          "text": [
            "<class 'pandas.core.frame.DataFrame'>\n",
            "RangeIndex: 7043 entries, 0 to 7042\n",
            "Data columns (total 21 columns):\n",
            " #   Column            Non-Null Count  Dtype  \n",
            "---  ------            --------------  -----  \n",
            " 0   customerID        7043 non-null   object \n",
            " 1   gender            7043 non-null   object \n",
            " 2   SeniorCitizen     7043 non-null   int64  \n",
            " 3   Partner           7043 non-null   object \n",
            " 4   Dependents        7043 non-null   object \n",
            " 5   tenure            7043 non-null   int64  \n",
            " 6   PhoneService      7043 non-null   object \n",
            " 7   MultipleLines     7043 non-null   object \n",
            " 8   InternetService   7043 non-null   object \n",
            " 9   OnlineSecurity    7043 non-null   object \n",
            " 10  OnlineBackup      7043 non-null   object \n",
            " 11  DeviceProtection  7043 non-null   object \n",
            " 12  TechSupport       7043 non-null   object \n",
            " 13  StreamingTV       7043 non-null   object \n",
            " 14  StreamingMovies   7043 non-null   object \n",
            " 15  Contract          7043 non-null   object \n",
            " 16  PaperlessBilling  7043 non-null   object \n",
            " 17  PaymentMethod     7043 non-null   object \n",
            " 18  MonthlyCharges    7043 non-null   float64\n",
            " 19  TotalCharges      7043 non-null   object \n",
            " 20  Churn             7043 non-null   object \n",
            "dtypes: float64(1), int64(2), object(18)\n",
            "memory usage: 1.1+ MB\n"
          ]
        }
      ],
      "source": [
        "#Menampilkan info dasar dari dataframe.\n",
        "df.info()"
      ]
    },
    {
      "cell_type": "code",
      "execution_count": 114,
      "metadata": {
        "colab": {
          "base_uri": "https://localhost:8080/"
        },
        "id": "lCZf8ybDaICN",
        "outputId": "b9a83ba2-25b6-4a24-b2c2-17fff68ffb6f"
      },
      "outputs": [
        {
          "data": {
            "text/plain": [
              "['customerID',\n",
              " 'gender',\n",
              " 'SeniorCitizen',\n",
              " 'Partner',\n",
              " 'Dependents',\n",
              " 'tenure',\n",
              " 'PhoneService',\n",
              " 'MultipleLines',\n",
              " 'InternetService',\n",
              " 'OnlineSecurity',\n",
              " 'OnlineBackup',\n",
              " 'DeviceProtection',\n",
              " 'TechSupport',\n",
              " 'StreamingTV',\n",
              " 'StreamingMovies',\n",
              " 'Contract',\n",
              " 'PaperlessBilling',\n",
              " 'PaymentMethod',\n",
              " 'MonthlyCharges',\n",
              " 'TotalCharges',\n",
              " 'Churn']"
            ]
          },
          "execution_count": 114,
          "metadata": {},
          "output_type": "execute_result"
        }
      ],
      "source": [
        "df.columns.tolist()"
      ]
    },
    {
      "cell_type": "code",
      "execution_count": 115,
      "metadata": {
        "colab": {
          "base_uri": "https://localhost:8080/",
          "height": 300
        },
        "id": "E3w9Xgbv2D8j",
        "outputId": "6157d2a9-a581-4ce9-a751-b4ad6cfbc953"
      },
      "outputs": [
        {
          "data": {
            "text/html": [
              "<div>\n",
              "<style scoped>\n",
              "    .dataframe tbody tr th:only-of-type {\n",
              "        vertical-align: middle;\n",
              "    }\n",
              "\n",
              "    .dataframe tbody tr th {\n",
              "        vertical-align: top;\n",
              "    }\n",
              "\n",
              "    .dataframe thead th {\n",
              "        text-align: right;\n",
              "    }\n",
              "</style>\n",
              "<table border=\"1\" class=\"dataframe\">\n",
              "  <thead>\n",
              "    <tr style=\"text-align: right;\">\n",
              "      <th></th>\n",
              "      <th>SeniorCitizen</th>\n",
              "      <th>tenure</th>\n",
              "      <th>MonthlyCharges</th>\n",
              "    </tr>\n",
              "  </thead>\n",
              "  <tbody>\n",
              "    <tr>\n",
              "      <th>count</th>\n",
              "      <td>7043.000000</td>\n",
              "      <td>7043.000000</td>\n",
              "      <td>7043.000000</td>\n",
              "    </tr>\n",
              "    <tr>\n",
              "      <th>mean</th>\n",
              "      <td>0.162147</td>\n",
              "      <td>32.371149</td>\n",
              "      <td>64.761692</td>\n",
              "    </tr>\n",
              "    <tr>\n",
              "      <th>std</th>\n",
              "      <td>0.368612</td>\n",
              "      <td>24.559481</td>\n",
              "      <td>30.090047</td>\n",
              "    </tr>\n",
              "    <tr>\n",
              "      <th>min</th>\n",
              "      <td>0.000000</td>\n",
              "      <td>0.000000</td>\n",
              "      <td>18.250000</td>\n",
              "    </tr>\n",
              "    <tr>\n",
              "      <th>25%</th>\n",
              "      <td>0.000000</td>\n",
              "      <td>9.000000</td>\n",
              "      <td>35.500000</td>\n",
              "    </tr>\n",
              "    <tr>\n",
              "      <th>50%</th>\n",
              "      <td>0.000000</td>\n",
              "      <td>29.000000</td>\n",
              "      <td>70.350000</td>\n",
              "    </tr>\n",
              "    <tr>\n",
              "      <th>75%</th>\n",
              "      <td>0.000000</td>\n",
              "      <td>55.000000</td>\n",
              "      <td>89.850000</td>\n",
              "    </tr>\n",
              "    <tr>\n",
              "      <th>max</th>\n",
              "      <td>1.000000</td>\n",
              "      <td>72.000000</td>\n",
              "      <td>118.750000</td>\n",
              "    </tr>\n",
              "  </tbody>\n",
              "</table>\n",
              "</div>"
            ],
            "text/plain": [
              "       SeniorCitizen       tenure  MonthlyCharges\n",
              "count    7043.000000  7043.000000     7043.000000\n",
              "mean        0.162147    32.371149       64.761692\n",
              "std         0.368612    24.559481       30.090047\n",
              "min         0.000000     0.000000       18.250000\n",
              "25%         0.000000     9.000000       35.500000\n",
              "50%         0.000000    29.000000       70.350000\n",
              "75%         0.000000    55.000000       89.850000\n",
              "max         1.000000    72.000000      118.750000"
            ]
          },
          "execution_count": 115,
          "metadata": {},
          "output_type": "execute_result"
        }
      ],
      "source": [
        "df.describe()"
      ]
    },
    {
      "cell_type": "markdown",
      "metadata": {
        "id": "inJlPZfvaM2s"
      },
      "source": [
        "## IIIb. Data Cleaning"
      ]
    },
    {
      "cell_type": "code",
      "execution_count": 116,
      "metadata": {
        "id": "lgrquqtWaQtB"
      },
      "outputs": [],
      "source": [
        "# Membuat copy dataframe.\n",
        "df_dc = df.copy()"
      ]
    },
    {
      "cell_type": "code",
      "execution_count": 117,
      "metadata": {
        "colab": {
          "base_uri": "https://localhost:8080/"
        },
        "id": "fE_ylynHaS7s",
        "outputId": "b369fcb8-b498-4f48-d487-9ac581ae671d"
      },
      "outputs": [
        {
          "name": "stdout",
          "output_type": "stream",
          "text": [
            "customerID          0\n",
            "gender              0\n",
            "SeniorCitizen       0\n",
            "Partner             0\n",
            "Dependents          0\n",
            "tenure              0\n",
            "PhoneService        0\n",
            "MultipleLines       0\n",
            "InternetService     0\n",
            "OnlineSecurity      0\n",
            "OnlineBackup        0\n",
            "DeviceProtection    0\n",
            "TechSupport         0\n",
            "StreamingTV         0\n",
            "StreamingMovies     0\n",
            "Contract            0\n",
            "PaperlessBilling    0\n",
            "PaymentMethod       0\n",
            "MonthlyCharges      0\n",
            "TotalCharges        0\n",
            "Churn               0\n",
            "dtype: int64\n"
          ]
        }
      ],
      "source": [
        "# Cek missing value.\n",
        "jumlah_missing_per_kolom = df_dc.isna().sum()\n",
        "print(jumlah_missing_per_kolom)"
      ]
    },
    {
      "cell_type": "code",
      "execution_count": 118,
      "metadata": {
        "colab": {
          "base_uri": "https://localhost:8080/"
        },
        "id": "6zqH3whmaU5Y",
        "outputId": "6a1ba3d1-a986-47ef-cd3d-c89e480bba41"
      },
      "outputs": [
        {
          "name": "stdout",
          "output_type": "stream",
          "text": [
            "Tidak ada duplikat dalam data.\n"
          ]
        }
      ],
      "source": [
        "#  cek duplikasi data di dataframe\n",
        "if df_dc.duplicated().any():\n",
        "    print(\"Ada duplikat dalam data.\")\n",
        "else:\n",
        "    print(\"Tidak ada duplikat dalam data.\")"
      ]
    },
    {
      "cell_type": "code",
      "execution_count": 119,
      "metadata": {
        "colab": {
          "base_uri": "https://localhost:8080/"
        },
        "id": "1M4N1090ASCF",
        "outputId": "df1e7328-14cd-42dd-9cc5-d8fc91a41ef0"
      },
      "outputs": [
        {
          "data": {
            "text/plain": [
              "No     5174\n",
              "Yes    1869\n",
              "Name: Churn, dtype: int64"
            ]
          },
          "execution_count": 119,
          "metadata": {},
          "output_type": "execute_result"
        }
      ],
      "source": [
        "# target encoding\n",
        "df_dc.Churn.value_counts()"
      ]
    },
    {
      "cell_type": "code",
      "execution_count": 120,
      "metadata": {
        "colab": {
          "base_uri": "https://localhost:8080/"
        },
        "id": "JanU9kbXBGL7",
        "outputId": "da9e3425-85a1-445c-a04f-8623701eae69"
      },
      "outputs": [
        {
          "data": {
            "text/plain": [
              "1    5174\n",
              "0    1869\n",
              "Name: Churn, dtype: int64"
            ]
          },
          "execution_count": 120,
          "metadata": {},
          "output_type": "execute_result"
        }
      ],
      "source": [
        "df_dc.Churn.replace({'No': 1, 'Yes': 0}, inplace=True)\n",
        "df_dc.Churn.value_counts()"
      ]
    },
    {
      "cell_type": "code",
      "execution_count": 121,
      "metadata": {
        "colab": {
          "base_uri": "https://localhost:8080/"
        },
        "id": "SdLnsVr_C3BT",
        "outputId": "d475c4ba-90a8-4eea-97dc-8437437ce638"
      },
      "outputs": [
        {
          "name": "stdout",
          "output_type": "stream",
          "text": [
            "<class 'pandas.core.frame.DataFrame'>\n",
            "RangeIndex: 7043 entries, 0 to 7042\n",
            "Data columns (total 20 columns):\n",
            " #   Column            Non-Null Count  Dtype  \n",
            "---  ------            --------------  -----  \n",
            " 0   gender            7043 non-null   object \n",
            " 1   SeniorCitizen     7043 non-null   int64  \n",
            " 2   Partner           7043 non-null   object \n",
            " 3   Dependents        7043 non-null   object \n",
            " 4   tenure            7043 non-null   int64  \n",
            " 5   PhoneService      7043 non-null   object \n",
            " 6   MultipleLines     7043 non-null   object \n",
            " 7   InternetService   7043 non-null   object \n",
            " 8   OnlineSecurity    7043 non-null   object \n",
            " 9   OnlineBackup      7043 non-null   object \n",
            " 10  DeviceProtection  7043 non-null   object \n",
            " 11  TechSupport       7043 non-null   object \n",
            " 12  StreamingTV       7043 non-null   object \n",
            " 13  StreamingMovies   7043 non-null   object \n",
            " 14  Contract          7043 non-null   object \n",
            " 15  PaperlessBilling  7043 non-null   object \n",
            " 16  PaymentMethod     7043 non-null   object \n",
            " 17  MonthlyCharges    7043 non-null   float64\n",
            " 18  TotalCharges      7043 non-null   object \n",
            " 19  Churn             7043 non-null   int64  \n",
            "dtypes: float64(1), int64(3), object(16)\n",
            "memory usage: 1.1+ MB\n"
          ]
        }
      ],
      "source": [
        "df_dc.drop('customerID', axis=1, inplace=True)\n",
        "df_dc.info()"
      ]
    },
    {
      "cell_type": "code",
      "execution_count": 122,
      "metadata": {
        "colab": {
          "base_uri": "https://localhost:8080/"
        },
        "id": "ZJeJCm9vQ6IH",
        "outputId": "9b5934d1-33b9-4a54-cf2a-13a5c9a30506"
      },
      "outputs": [
        {
          "name": "stdout",
          "output_type": "stream",
          "text": [
            "Jumlah Missing Value:\n",
            "gender               0\n",
            "SeniorCitizen        0\n",
            "Partner              0\n",
            "Dependents           0\n",
            "tenure               0\n",
            "PhoneService         0\n",
            "MultipleLines        0\n",
            "InternetService      0\n",
            "OnlineSecurity       0\n",
            "OnlineBackup         0\n",
            "DeviceProtection     0\n",
            "TechSupport          0\n",
            "StreamingTV          0\n",
            "StreamingMovies      0\n",
            "Contract             0\n",
            "PaperlessBilling     0\n",
            "PaymentMethod        0\n",
            "MonthlyCharges       0\n",
            "TotalCharges        11\n",
            "Churn                0\n",
            "dtype: int64\n",
            "\n",
            "Persentase Missing Value:\n",
            "gender              0.000000\n",
            "SeniorCitizen       0.000000\n",
            "Partner             0.000000\n",
            "Dependents          0.000000\n",
            "tenure              0.000000\n",
            "PhoneService        0.000000\n",
            "MultipleLines       0.000000\n",
            "InternetService     0.000000\n",
            "OnlineSecurity      0.000000\n",
            "OnlineBackup        0.000000\n",
            "DeviceProtection    0.000000\n",
            "TechSupport         0.000000\n",
            "StreamingTV         0.000000\n",
            "StreamingMovies     0.000000\n",
            "Contract            0.000000\n",
            "PaperlessBilling    0.000000\n",
            "PaymentMethod       0.000000\n",
            "MonthlyCharges      0.000000\n",
            "TotalCharges        0.156428\n",
            "Churn               0.000000\n",
            "dtype: float64\n"
          ]
        }
      ],
      "source": [
        "df_dc['TotalCharges'] = df_dc['TotalCharges'].str.replace(' ', '')\n",
        "df_dc['TotalCharges'] = df_dc['TotalCharges'].str.strip()\n",
        "df_dc['TotalCharges'] = df_dc['TotalCharges'].replace('', float('nan'))\n",
        "df_dc['TotalCharges'] = df_dc['TotalCharges'].astype(float)\n",
        "\n",
        "missing_values = df_dc.isna().sum()\n",
        "\n",
        "# Menghitung jumlah total entri di setiap kolom\n",
        "total_values = df_dc.count()\n",
        "\n",
        "# Menghitung persentase nilai yang hilang\n",
        "percentage_missing = (missing_values / total_values) * 100\n",
        "\n",
        "# Menampilkan hasil\n",
        "print(\"Jumlah Missing Value:\")\n",
        "print(missing_values)\n",
        "print(\"\\nPersentase Missing Value:\")\n",
        "print(percentage_missing)\n",
        "\n"
      ]
    },
    {
      "cell_type": "code",
      "execution_count": 123,
      "metadata": {
        "colab": {
          "base_uri": "https://localhost:8080/"
        },
        "id": "wtMrea4ZUqG9",
        "outputId": "dc6288b5-27da-4770-e867-9e0f5e42b675"
      },
      "outputs": [
        {
          "name": "stdout",
          "output_type": "stream",
          "text": [
            "Jumlah nilai yang hilang:\n",
            "gender              0\n",
            "SeniorCitizen       0\n",
            "Partner             0\n",
            "Dependents          0\n",
            "tenure              0\n",
            "PhoneService        0\n",
            "MultipleLines       0\n",
            "InternetService     0\n",
            "OnlineSecurity      0\n",
            "OnlineBackup        0\n",
            "DeviceProtection    0\n",
            "TechSupport         0\n",
            "StreamingTV         0\n",
            "StreamingMovies     0\n",
            "Contract            0\n",
            "PaperlessBilling    0\n",
            "PaymentMethod       0\n",
            "MonthlyCharges      0\n",
            "TotalCharges        0\n",
            "Churn               0\n",
            "dtype: int64\n",
            "\n",
            "Persentase nilai yang hilang:\n",
            "gender              0.0\n",
            "SeniorCitizen       0.0\n",
            "Partner             0.0\n",
            "Dependents          0.0\n",
            "tenure              0.0\n",
            "PhoneService        0.0\n",
            "MultipleLines       0.0\n",
            "InternetService     0.0\n",
            "OnlineSecurity      0.0\n",
            "OnlineBackup        0.0\n",
            "DeviceProtection    0.0\n",
            "TechSupport         0.0\n",
            "StreamingTV         0.0\n",
            "StreamingMovies     0.0\n",
            "Contract            0.0\n",
            "PaperlessBilling    0.0\n",
            "PaymentMethod       0.0\n",
            "MonthlyCharges      0.0\n",
            "TotalCharges        0.0\n",
            "Churn               0.0\n",
            "dtype: float64\n",
            "\n",
            "<class 'pandas.core.frame.DataFrame'>\n",
            "Int64Index: 7032 entries, 0 to 7042\n",
            "Data columns (total 20 columns):\n",
            " #   Column            Non-Null Count  Dtype  \n",
            "---  ------            --------------  -----  \n",
            " 0   gender            7032 non-null   object \n",
            " 1   SeniorCitizen     7032 non-null   int64  \n",
            " 2   Partner           7032 non-null   object \n",
            " 3   Dependents        7032 non-null   object \n",
            " 4   tenure            7032 non-null   int64  \n",
            " 5   PhoneService      7032 non-null   object \n",
            " 6   MultipleLines     7032 non-null   object \n",
            " 7   InternetService   7032 non-null   object \n",
            " 8   OnlineSecurity    7032 non-null   object \n",
            " 9   OnlineBackup      7032 non-null   object \n",
            " 10  DeviceProtection  7032 non-null   object \n",
            " 11  TechSupport       7032 non-null   object \n",
            " 12  StreamingTV       7032 non-null   object \n",
            " 13  StreamingMovies   7032 non-null   object \n",
            " 14  Contract          7032 non-null   object \n",
            " 15  PaperlessBilling  7032 non-null   object \n",
            " 16  PaymentMethod     7032 non-null   object \n",
            " 17  MonthlyCharges    7032 non-null   float64\n",
            " 18  TotalCharges      7032 non-null   float64\n",
            " 19  Churn             7032 non-null   int64  \n",
            "dtypes: float64(2), int64(3), object(15)\n",
            "memory usage: 1.1+ MB\n"
          ]
        }
      ],
      "source": [
        "df_dc_cleaned = df_dc.dropna()\n",
        "\n",
        "missing_values = df_dc_cleaned.isna().sum()\n",
        "\n",
        "# Menghitung jumlah total entri di setiap kolom\n",
        "total_values = df_dc_cleaned.count()\n",
        "\n",
        "# Menghitung persentase nilai yang hilang\n",
        "percentage_missing = (missing_values / total_values) * 100\n",
        "\n",
        "# Menampilkan hasil\n",
        "print(\"Jumlah nilai yang hilang:\")\n",
        "print(missing_values)\n",
        "print(\"\\nPersentase nilai yang hilang:\")\n",
        "print(percentage_missing)\n",
        "print()\n",
        "df_dc_cleaned.info()"
      ]
    },
    {
      "cell_type": "markdown",
      "metadata": {},
      "source": [
        "## Summary "
      ]
    },
    {
      "cell_type": "markdown",
      "metadata": {},
      "source": [
        "* Dataset terdiri dari 21 kolom dan 7043 baris.\n",
        "* Rekapitulasi tipe data dalam dataset :\n",
        "    - Float : 1\n",
        "    - Integer : 2\n",
        "    - Object : 18\n",
        "* Tidak terdapat data duplikat dalam dataset.\n",
        "* Terdapat missing value di kolom TotalCharges, sebanyak 11 baris (0,15 %). Handling sudah dilakukan.\n",
        "* Kolom customerID di drop karena mengandung terlalu banyak value, dan tergolong high cardinality.\n",
        "* Melakukan label encoder, di kolom target yaitu kolom churn, value no menjadi 0, value yes menjadi 1."
      ]
    },
    {
      "cell_type": "markdown",
      "metadata": {
        "id": "ptjmu5W9avd1"
      },
      "source": [
        "# IV. EXPLORATORY DATA ANALYSIS (EDA)\n",
        "\n",
        "Pada session ini, saya akan memberikan beberapa visualisasi singkat yang dapat memberikan *insight* kepada bisnis."
      ]
    },
    {
      "cell_type": "code",
      "execution_count": 124,
      "metadata": {
        "id": "TKoecAUk4-k4"
      },
      "outputs": [],
      "source": [
        "# Membuat copy dataframe khusus sesi EDA.\n",
        "\n",
        "df_eda = df.copy()"
      ]
    },
    {
      "cell_type": "markdown",
      "metadata": {
        "id": "8qQfja9fa-ox"
      },
      "source": [
        "## IVa. Jumlah Pelanggan yang Berlangganan *Streaming TV* dan *Streaming Movies*."
      ]
    },
    {
      "cell_type": "code",
      "execution_count": 125,
      "metadata": {
        "colab": {
          "base_uri": "https://localhost:8080/",
          "height": 692
        },
        "id": "80Fj_FBibGa_",
        "outputId": "b37d2a2f-1c01-44aa-a802-c2619e9c5286"
      },
      "outputs": [
        {
          "data": {
            "image/png": "[encoded data removed]",
            "text/plain": [
              "<Figure size 1000x500 with 2 Axes>"
            ]
          },
          "metadata": {},
          "output_type": "display_data"
        },
        {
          "name": "stdout",
          "output_type": "stream",
          "text": [
            "\n",
            "Distribusi Pelanggan di layanan Streaming TV:\n",
            "Berlangganan: 2707\n",
            "Tidak Berlangganan: 2810\n",
            "Tidak Ada Internet: 1526\n",
            "\n",
            "Distribusi Pelanggan di Layanan Streaming Movies:\n",
            "Berlangganan: 2732\n",
            "Tidak Berlangganan: 2785\n",
            "Tidak Ada Internet: 1526\n"
          ]
        }
      ],
      "source": [
        "# Menghitung jumlah pelanggan yang menggunakan StreamingTV dan StreamingMovies\n",
        "streaming_tv_counts = df_eda['StreamingTV'].value_counts()\n",
        "streaming_movies_counts = df_eda['StreamingMovies'].value_counts()\n",
        "\n",
        "# Membuat visualisasi\n",
        "plt.figure(figsize=(10, 5))\n",
        "\n",
        "# Diagram batang StreamingTV\n",
        "plt.subplot(1, 2, 1)\n",
        "plt.bar(streaming_tv_counts.index, streaming_tv_counts.values, color='skyblue')\n",
        "plt.title('StreamingTV')\n",
        "plt.xlabel('Status StreamingTV')\n",
        "plt.ylabel('Jumlah Pelanggan')\n",
        "\n",
        "# Diagram batang StreamingMovies\n",
        "plt.subplot(1, 2, 2)\n",
        "plt.bar(streaming_movies_counts.index, streaming_movies_counts.values, color='lightcoral')\n",
        "plt.title('StreamingMovies')\n",
        "plt.xlabel('Status StreamingMovies')\n",
        "plt.ylabel('Jumlah Pelanggan')\n",
        "\n",
        "plt.tight_layout()\n",
        "plt.show()\n",
        "#Pastikan Anda telah menggantikan 'nama_file.csv' dengan nama file yang berisi data Anda dan telah mengimpor data ke dalam dataframe. Kode di atas akan menghasilkan dua diagram batang terpisah untuk \"StreamingTV\" dan \"StreamingMovies\" dengan jumlah pelanggan yang menggunakan dan tidak menggunakan layanan tersebut. Anda dapat menyesuaikan tampilan dan warna sesuai kebutuhan Anda.\n",
        "\n",
        "# Menghitung jumlah nilai unik di kolom StreamingTV\n",
        "streaming_tv_counts = df_eda['StreamingTV'].value_counts()\n",
        "\n",
        "# Menghitung jumlah nilai unik di kolom StreamingMovies\n",
        "streaming_movies_counts = df_eda['StreamingMovies'].value_counts()\n",
        "\n",
        "# Menampilkan hasil\n",
        "\n",
        "print(\"\\nDistribusi Pelanggan di layanan Streaming TV:\")\n",
        "print(\"Berlangganan:\", streaming_tv_counts['Yes'])\n",
        "print(\"Tidak Berlangganan:\", streaming_tv_counts['No'])\n",
        "print(\"Tidak Ada Internet:\", streaming_tv_counts['No internet service'])\n",
        "\n",
        "print(\"\\nDistribusi Pelanggan di Layanan Streaming Movies:\")\n",
        "print(\"Berlangganan:\", streaming_movies_counts['Yes'])\n",
        "print(\"Tidak Berlangganan:\", streaming_movies_counts['No'])\n",
        "print(\"Tidak Ada Internet:\", streaming_movies_counts['No internet service'])\n",
        "\n",
        "\n",
        "\n",
        "\n",
        "\n"
      ]
    },
    {
      "cell_type": "markdown",
      "metadata": {},
      "source": [
        "Dari visualisasi diatas, dapat disimpulkan :\n",
        "    \n",
        "* Customer yang berlangganan layanan Streaming TV berjumlah 2707 orang, selisih 103 orang dari customer yang tidak berlangganan yang berjumlah 2810. Sisanya 1526 tidak berlangganan, karena tidak memiliki koneksi internet.\n",
        "    \n",
        "* Customer yang berlangganan layanan Streaming Movies berjumlah 2732 orang, selisih 53 orang dari customer yang tidak berlangganan yang berjumlah 2785. Sisanya 1526 tidak berlangganan, karena tidak memiliki koneksi internet.\n",
        "\n",
        "Terdapat potensi penambahan revenue dari 2810 orang yang belum berlangganan Streaming TV dan 2785 orang yang belum berlanggan Streaming Movies. Strategi marketing/promo bisa segera dibuat untuk akuisisi tersebut diatas."
      ]
    },
    {
      "cell_type": "markdown",
      "metadata": {
        "id": "wR0_iSO8cYEn"
      },
      "source": [
        "## IVb. Distribusi Gender"
      ]
    },
    {
      "cell_type": "code",
      "execution_count": 126,
      "metadata": {
        "colab": {
          "base_uri": "https://localhost:8080/",
          "height": 647
        },
        "id": "ndYkJTzYcoO5",
        "outputId": "0548cb3c-3d4e-45ae-da71-f2dfdaaebca7"
      },
      "outputs": [
        {
          "data": {
            "image/png": "[encoded data removed]",
            "text/plain": [
              "<Figure size 800x600 with 1 Axes>"
            ]
          },
          "metadata": {},
          "output_type": "display_data"
        },
        {
          "name": "stdout",
          "output_type": "stream",
          "text": [
            "Distribusi Gender:\n",
            "Male      3555\n",
            "Female    3488\n",
            "Name: gender, dtype: int64\n"
          ]
        }
      ],
      "source": [
        "sns.set(style=\"whitegrid\")\n",
        "plt.figure(figsize=(8, 6))\n",
        "sns.countplot(data=df_eda,x='gender', palette=\"Set1\")\n",
        "plt.xlabel(\"Gender\")\n",
        "plt.ylabel(\"Count\")\n",
        "plt.title(\"Distribusi Gender\")\n",
        "plt.show()\n",
        "gender_counts = df_eda['gender'].value_counts()\n",
        "print('Distribusi Gender:')\n",
        "print(gender_counts)"
      ]
    },
    {
      "cell_type": "markdown",
      "metadata": {},
      "source": [
        "Dari visualisasi diatas, dapat disimpulkan :\n",
        "- Jumlah customer laki-laki sejumlah 3555 orang, lebih banyak dari customer perempuan sebanyak 3488 orang."
      ]
    },
    {
      "cell_type": "markdown",
      "metadata": {
        "id": "9MHwjU6ldDwv"
      },
      "source": [
        "## IVc. Distribusi Metode Pembayaran"
      ]
    },
    {
      "cell_type": "code",
      "execution_count": 127,
      "metadata": {
        "colab": {
          "base_uri": "https://localhost:8080/",
          "height": 804
        },
        "id": "GkgItp2DdJbJ",
        "outputId": "bc84ca61-da3c-4bd7-dd3f-0c1a912f7336"
      },
      "outputs": [
        {
          "data": {
            "image/png": "[encoded data removed]",
            "text/plain": [
              "<Figure size 800x800 with 1 Axes>"
            ]
          },
          "metadata": {},
          "output_type": "display_data"
        },
        {
          "name": "stdout",
          "output_type": "stream",
          "text": [
            "\n",
            "Distribusi Metode Pembayaran:\n",
            "Electronic check             2365\n",
            "Mailed check                 1612\n",
            "Bank transfer (automatic)    1544\n",
            "Credit card (automatic)      1522\n",
            "Name: PaymentMethod, dtype: int64\n"
          ]
        }
      ],
      "source": [
        "payment_method_counts = df_eda['PaymentMethod'].value_counts()\n",
        "\n",
        "# Membuat plot diagram lingkaran\n",
        "plt.figure(figsize=(8, 8))\n",
        "plt.pie(payment_method_counts.values, labels=payment_method_counts.index, autopct='%1.1f%%', startangle=140)\n",
        "plt.title(\"Distribusi Payment Method\")\n",
        "plt.axis('equal')\n",
        "plt.show()\n",
        "print()\n",
        "print('Distribusi Metode Pembayaran:')\n",
        "print(payment_method_counts)"
      ]
    },
    {
      "cell_type": "markdown",
      "metadata": {},
      "source": [
        "Dari visualisasi diatas, dapat disimpulkan :\n",
        "* Cek elektronik merupakan metode pembayaran yang paling banyak digunakan oleh customer untuk membayar tagihan. Untuk menjaga kontinuitas pembayaran tagihan, jumlah customer yang membayar menggunakan autodebet, baik kredit maupun kredit perlu ditingkatkan. Fitur auotdebet mengautomasi pembayaran tagihan, meminimalisir resiko telat membayar tagihan. \n",
        "\n"
      ]
    },
    {
      "cell_type": "markdown",
      "metadata": {
        "id": "JNrajoIBUbyY"
      },
      "source": [
        "## VId. Distribusi Metode Pembayaran"
      ]
    },
    {
      "cell_type": "code",
      "execution_count": 128,
      "metadata": {
        "colab": {
          "base_uri": "https://localhost:8080/",
          "height": 512
        },
        "id": "9XoJNEUfSmz6",
        "outputId": "fc194f62-6fe1-4a29-b407-6f07c473f3bd"
      },
      "outputs": [
        {
          "data": {
            "image/png": "[encoded data removed]",
            "text/plain": [
              "<Figure size 800x400 with 1 Axes>"
            ]
          },
          "metadata": {},
          "output_type": "display_data"
        },
        {
          "name": "stdout",
          "output_type": "stream",
          "text": [
            "\n",
            "Distribusi Jenis Kontrak:\n",
            "Month-to-month    3875\n",
            "Two year          1695\n",
            "One year          1473\n",
            "Name: Contract, dtype: int64\n"
          ]
        }
      ],
      "source": [
        "# Menghitung jumlah setiap jenis kontrak\n",
        "contract_counts = df_eda['Contract'].value_counts()\n",
        "\n",
        "# Membuat plot horizontal bar\n",
        "plt.figure(figsize=(8, 4))\n",
        "sns.set(style=\"whitegrid\")\n",
        "sns.barplot(x=contract_counts.values, y=contract_counts.index, palette='Set2')\n",
        "plt.ylabel(\"Contract Type\")\n",
        "plt.xlabel(\"Count\")\n",
        "plt.title(\"Distribusi Jenis Kontrak\")\n",
        "plt.tight_layout()\n",
        "plt.show()\n",
        "print()\n",
        "print('Distribusi Jenis Kontrak:')\n",
        "print(contract_counts)"
      ]
    },
    {
      "cell_type": "markdown",
      "metadata": {},
      "source": [
        "Dari visualisasi di atas, dapat disimpulkan :\n",
        "\n",
        "Customer yang membayar tagihan per bulan merupakan yang paling banyak. Untuk menjaga loyalitas customer, pembayaran tagihan langsung untuk 1 tahun dan 2 tahun harus ditingkatkan, dengan cara , misal : memberikan potongan harga kepada customer yang langsung membayar tagihan selama satu tahun/ lebih."
      ]
    },
    {
      "cell_type": "markdown",
      "metadata": {
        "id": "oA9wCszkeN6M"
      },
      "source": [
        "## IVe. Loyalitas Pelanggan"
      ]
    },
    {
      "cell_type": "code",
      "execution_count": 129,
      "metadata": {
        "colab": {
          "base_uri": "https://localhost:8080/",
          "height": 511
        },
        "id": "epH3guCZeP3x",
        "outputId": "3fe7746c-5f0b-4c09-eccd-97d4df8c637f"
      },
      "outputs": [
        {
          "data": {
            "image/png": "[encoded data removed]",
            "text/plain": [
              "<Figure size 600x400 with 1 Axes>"
            ]
          },
          "metadata": {},
          "output_type": "display_data"
        },
        {
          "name": "stdout",
          "output_type": "stream",
          "text": [
            "\n",
            "Distribusi Loyalitas Pelanggan:\n",
            "No     5174\n",
            "Yes    1869\n",
            "Name: Churn, dtype: int64\n"
          ]
        }
      ],
      "source": [
        "churn_counts = df_eda['Churn'].value_counts()\n",
        "\n",
        "# Membuat plot diagram lingkaran\n",
        "plt.figure(figsize=(6, 4))\n",
        "sns.set(style=\"whitegrid\")\n",
        "sns.countplot(data=df_eda, x='Churn', palette='Set2')\n",
        "plt.xlabel(\"Churn\")\n",
        "plt.ylabel(\"Count\")\n",
        "plt.title(\"Distribusi Churn\")\n",
        "plt.show()\n",
        "print()\n",
        "print('Distribusi Loyalitas Pelanggan:')\n",
        "print(churn_counts)"
      ]
    },
    {
      "cell_type": "markdown",
      "metadata": {},
      "source": [
        "Dari visualisasi diatas, dapat disimpulkan :\n",
        "\n",
        "Customer yang loyal jauh lebih banyak dari customer yang berhenti berlangganan. Pola perilaku mereka lah yang akan di pelajari oleh model yang akan dibuat. Agar calon customer yang memiliki trait yang sama, mendapat treatment yang seharusnya."
      ]
    },
    {
      "cell_type": "markdown",
      "metadata": {
        "id": "3y82MEvRf1EV"
      },
      "source": [
        "## IVe. EDA Conclusion"
      ]
    },
    {
      "cell_type": "markdown",
      "metadata": {},
      "source": [
        "* Terdapat potensi revenue dari 2810 orang yang belum berlangganan Streaming TV dan 2785 yang belum berlangganan Streaming Movies.\n",
        "\n",
        "* Customer berjenis kelamin pria lebih banyak dari customer berjenis kelamin perempuan.\n",
        "\n",
        "* Mayoritas customer, membayar tagihan menggunakan cek elektronik. Untuk meningkatkan dan menjaga kontinuitas pembayaran tagihan, customer lama dan customer baru, mungkin bisa diarahkan untuk membayar tagihan dengan metode autodebet, baik kredit ataupun debit untuk mengautomasi proses pembayaran dan meminimalisir keterlambatan pembyaran tagihan karena lupa.\n",
        "\n",
        "* Pembayaran tagihan per bulan menjadi pilihan terbanyak dari customer. Pembayaran iuran lumpsump, atau sekaligus untuk 1 tahun atau lebih bisa ditingkatkan untuk menjaga loyalitas customer.\n",
        "\n",
        "* Customer yang loyal berjumlah lebih banyak dari customer yang berhenti berlangganan. Menunjukan perusahaan dalam keadaan sehat. Pola-pola dair customer yang loyal yang akan dipelajari dalam pembuatan model ini."
      ]
    },
    {
      "cell_type": "markdown",
      "metadata": {
        "id": "a5aG8liXgBRE"
      },
      "source": [
        "# V. FEATURE ENGINEERING"
      ]
    },
    {
      "cell_type": "code",
      "execution_count": 130,
      "metadata": {
        "id": "M9Yf_TGHXcMj"
      },
      "outputs": [],
      "source": [
        "df_feat_eng = df_dc_cleaned.copy()"
      ]
    },
    {
      "cell_type": "markdown",
      "metadata": {
        "id": "JpXtZ2x7gQDW"
      },
      "source": [
        "## Va. Cardinality"
      ]
    },
    {
      "cell_type": "code",
      "execution_count": 131,
      "metadata": {
        "colab": {
          "base_uri": "https://localhost:8080/"
        },
        "id": "fbCwk6SBhH9M",
        "outputId": "9eebc9f5-72ff-4b24-dca2-20f3920756d8"
      },
      "outputs": [
        {
          "name": "stdout",
          "output_type": "stream",
          "text": [
            "cardinality columns gender: 2\n",
            "cardinality columns SeniorCitizen: 2\n",
            "cardinality columns Partner: 2\n",
            "cardinality columns Dependents: 2\n",
            "cardinality columns PhoneService: 2\n",
            "cardinality columns MultipleLines: 3\n",
            "cardinality columns InternetService: 3\n",
            "cardinality columns OnlineSecurity: 3\n",
            "cardinality columns OnlineBackup: 3\n",
            "cardinality columns DeviceProtection: 3\n",
            "cardinality columns TechSupport: 3\n",
            "cardinality columns StreamingTV: 3\n",
            "cardinality columns StreamingMovies: 3\n",
            "cardinality columns Contract: 3\n",
            "cardinality columns PaperlessBilling: 2\n",
            "cardinality columns PaymentMethod: 4\n"
          ]
        }
      ],
      "source": [
        "# Cek kardinalitas di kolom kategorikal\n",
        "categorical_col = df_feat_eng[['gender','SeniorCitizen','Partner','Dependents','PhoneService','MultipleLines','InternetService','OnlineSecurity','OnlineBackup','DeviceProtection','TechSupport','StreamingTV','StreamingMovies','Contract','PaperlessBilling','PaymentMethod']]\n",
        "\n",
        "for i in categorical_col.columns:\n",
        "    print(f'cardinality columns {i}:', categorical_col[i].nunique())"
      ]
    },
    {
      "cell_type": "markdown",
      "metadata": {},
      "source": [
        "Dari hasil cek kardinalitas, tidak ada kolom yang tergolong high cardinality."
      ]
    },
    {
      "cell_type": "code",
      "execution_count": 132,
      "metadata": {
        "colab": {
          "base_uri": "https://localhost:8080/"
        },
        "id": "qo-Kbh02hVqI",
        "outputId": "de2aa9c2-a47d-4ff9-d56e-cd6ffd8a6b83"
      },
      "outputs": [
        {
          "name": "stdout",
          "output_type": "stream",
          "text": [
            "cardinality kolom gender: Male      3549\n",
            "Female    3483\n",
            "Name: gender, dtype: int64\n",
            "cardinality kolom SeniorCitizen: 0    5890\n",
            "1    1142\n",
            "Name: SeniorCitizen, dtype: int64\n",
            "cardinality kolom Partner: No     3639\n",
            "Yes    3393\n",
            "Name: Partner, dtype: int64\n",
            "cardinality kolom Dependents: No     4933\n",
            "Yes    2099\n",
            "Name: Dependents, dtype: int64\n",
            "cardinality kolom PhoneService: Yes    6352\n",
            "No      680\n",
            "Name: PhoneService, dtype: int64\n",
            "cardinality kolom MultipleLines: No                  3385\n",
            "Yes                 2967\n",
            "No phone service     680\n",
            "Name: MultipleLines, dtype: int64\n",
            "cardinality kolom InternetService: Fiber optic    3096\n",
            "DSL            2416\n",
            "No             1520\n",
            "Name: InternetService, dtype: int64\n",
            "cardinality kolom OnlineSecurity: No                     3497\n",
            "Yes                    2015\n",
            "No internet service    1520\n",
            "Name: OnlineSecurity, dtype: int64\n",
            "cardinality kolom OnlineBackup: No                     3087\n",
            "Yes                    2425\n",
            "No internet service    1520\n",
            "Name: OnlineBackup, dtype: int64\n",
            "cardinality kolom DeviceProtection: No                     3094\n",
            "Yes                    2418\n",
            "No internet service    1520\n",
            "Name: DeviceProtection, dtype: int64\n",
            "cardinality kolom TechSupport: No                     3472\n",
            "Yes                    2040\n",
            "No internet service    1520\n",
            "Name: TechSupport, dtype: int64\n",
            "cardinality kolom StreamingTV: No                     2809\n",
            "Yes                    2703\n",
            "No internet service    1520\n",
            "Name: StreamingTV, dtype: int64\n",
            "cardinality kolom StreamingMovies: No                     2781\n",
            "Yes                    2731\n",
            "No internet service    1520\n",
            "Name: StreamingMovies, dtype: int64\n",
            "cardinality kolom Contract: Month-to-month    3875\n",
            "Two year          1685\n",
            "One year          1472\n",
            "Name: Contract, dtype: int64\n",
            "cardinality kolom PaperlessBilling: Yes    4168\n",
            "No     2864\n",
            "Name: PaperlessBilling, dtype: int64\n",
            "cardinality kolom PaymentMethod: Electronic check             2365\n",
            "Mailed check                 1604\n",
            "Bank transfer (automatic)    1542\n",
            "Credit card (automatic)      1521\n",
            "Name: PaymentMethod, dtype: int64\n"
          ]
        }
      ],
      "source": [
        "# Menampilkan nilai unik yang ada di kolom kategorikal.\n",
        "capture_cardinality = df_feat_eng[['gender','SeniorCitizen','Partner','Dependents','PhoneService','MultipleLines','InternetService','OnlineSecurity','OnlineBackup','DeviceProtection','TechSupport','StreamingTV','StreamingMovies','Contract','PaperlessBilling','PaymentMethod']]\n",
        "\n",
        "\n",
        "for i in capture_cardinality.columns:\n",
        "    print(f'cardinality kolom {i}:', capture_cardinality[i].value_counts())"
      ]
    },
    {
      "cell_type": "markdown",
      "metadata": {},
      "source": [
        "Menampilkan nilai unik dari masing-masing kolom kategorikal. Karena, value nya masih berbentuk object, akan dilakukan label encoding setelah ini."
      ]
    },
    {
      "cell_type": "markdown",
      "metadata": {
        "id": "qpvrokjzvYXI"
      },
      "source": [
        "### Va.1. Label Encoder"
      ]
    },
    {
      "cell_type": "code",
      "execution_count": 133,
      "metadata": {
        "colab": {
          "base_uri": "https://localhost:8080/",
          "height": 226
        },
        "id": "Dp83BzITChdF",
        "outputId": "22b1f474-b620-4132-b627-6207009e2f21"
      },
      "outputs": [
        {
          "data": {
            "text/html": [
              "<div>\n",
              "<style scoped>\n",
              "    .dataframe tbody tr th:only-of-type {\n",
              "        vertical-align: middle;\n",
              "    }\n",
              "\n",
              "    .dataframe tbody tr th {\n",
              "        vertical-align: top;\n",
              "    }\n",
              "\n",
              "    .dataframe thead th {\n",
              "        text-align: right;\n",
              "    }\n",
              "</style>\n",
              "<table border=\"1\" class=\"dataframe\">\n",
              "  <thead>\n",
              "    <tr style=\"text-align: right;\">\n",
              "      <th></th>\n",
              "      <th>gender</th>\n",
              "      <th>SeniorCitizen</th>\n",
              "      <th>Partner</th>\n",
              "      <th>Dependents</th>\n",
              "      <th>tenure</th>\n",
              "      <th>PhoneService</th>\n",
              "      <th>MultipleLines</th>\n",
              "      <th>InternetService</th>\n",
              "      <th>OnlineSecurity</th>\n",
              "      <th>OnlineBackup</th>\n",
              "      <th>DeviceProtection</th>\n",
              "      <th>TechSupport</th>\n",
              "      <th>StreamingTV</th>\n",
              "      <th>StreamingMovies</th>\n",
              "      <th>Contract</th>\n",
              "      <th>PaperlessBilling</th>\n",
              "      <th>PaymentMethod</th>\n",
              "      <th>MonthlyCharges</th>\n",
              "      <th>TotalCharges</th>\n",
              "      <th>Churn</th>\n",
              "    </tr>\n",
              "  </thead>\n",
              "  <tbody>\n",
              "    <tr>\n",
              "      <th>0</th>\n",
              "      <td>0</td>\n",
              "      <td>0</td>\n",
              "      <td>1</td>\n",
              "      <td>0</td>\n",
              "      <td>1</td>\n",
              "      <td>0</td>\n",
              "      <td>1</td>\n",
              "      <td>1</td>\n",
              "      <td>0</td>\n",
              "      <td>2</td>\n",
              "      <td>0</td>\n",
              "      <td>0</td>\n",
              "      <td>0</td>\n",
              "      <td>0</td>\n",
              "      <td>0</td>\n",
              "      <td>1</td>\n",
              "      <td>0</td>\n",
              "      <td>29.85</td>\n",
              "      <td>29.85</td>\n",
              "      <td>1</td>\n",
              "    </tr>\n",
              "    <tr>\n",
              "      <th>1</th>\n",
              "      <td>1</td>\n",
              "      <td>0</td>\n",
              "      <td>0</td>\n",
              "      <td>0</td>\n",
              "      <td>34</td>\n",
              "      <td>1</td>\n",
              "      <td>0</td>\n",
              "      <td>1</td>\n",
              "      <td>2</td>\n",
              "      <td>0</td>\n",
              "      <td>2</td>\n",
              "      <td>0</td>\n",
              "      <td>0</td>\n",
              "      <td>0</td>\n",
              "      <td>1</td>\n",
              "      <td>0</td>\n",
              "      <td>1</td>\n",
              "      <td>56.95</td>\n",
              "      <td>1889.50</td>\n",
              "      <td>1</td>\n",
              "    </tr>\n",
              "    <tr>\n",
              "      <th>2</th>\n",
              "      <td>1</td>\n",
              "      <td>0</td>\n",
              "      <td>0</td>\n",
              "      <td>0</td>\n",
              "      <td>2</td>\n",
              "      <td>1</td>\n",
              "      <td>0</td>\n",
              "      <td>1</td>\n",
              "      <td>2</td>\n",
              "      <td>2</td>\n",
              "      <td>0</td>\n",
              "      <td>0</td>\n",
              "      <td>0</td>\n",
              "      <td>0</td>\n",
              "      <td>0</td>\n",
              "      <td>1</td>\n",
              "      <td>1</td>\n",
              "      <td>53.85</td>\n",
              "      <td>108.15</td>\n",
              "      <td>0</td>\n",
              "    </tr>\n",
              "    <tr>\n",
              "      <th>3</th>\n",
              "      <td>1</td>\n",
              "      <td>0</td>\n",
              "      <td>0</td>\n",
              "      <td>0</td>\n",
              "      <td>45</td>\n",
              "      <td>0</td>\n",
              "      <td>1</td>\n",
              "      <td>1</td>\n",
              "      <td>2</td>\n",
              "      <td>0</td>\n",
              "      <td>2</td>\n",
              "      <td>2</td>\n",
              "      <td>0</td>\n",
              "      <td>0</td>\n",
              "      <td>1</td>\n",
              "      <td>0</td>\n",
              "      <td>2</td>\n",
              "      <td>42.30</td>\n",
              "      <td>1840.75</td>\n",
              "      <td>1</td>\n",
              "    </tr>\n",
              "    <tr>\n",
              "      <th>4</th>\n",
              "      <td>0</td>\n",
              "      <td>0</td>\n",
              "      <td>0</td>\n",
              "      <td>0</td>\n",
              "      <td>2</td>\n",
              "      <td>1</td>\n",
              "      <td>0</td>\n",
              "      <td>2</td>\n",
              "      <td>0</td>\n",
              "      <td>0</td>\n",
              "      <td>0</td>\n",
              "      <td>0</td>\n",
              "      <td>0</td>\n",
              "      <td>0</td>\n",
              "      <td>0</td>\n",
              "      <td>1</td>\n",
              "      <td>0</td>\n",
              "      <td>70.70</td>\n",
              "      <td>151.65</td>\n",
              "      <td>0</td>\n",
              "    </tr>\n",
              "  </tbody>\n",
              "</table>\n",
              "</div>"
            ],
            "text/plain": [
              "   gender  SeniorCitizen  Partner  Dependents  tenure  PhoneService  \\\n",
              "0       0              0        1           0       1             0   \n",
              "1       1              0        0           0      34             1   \n",
              "2       1              0        0           0       2             1   \n",
              "3       1              0        0           0      45             0   \n",
              "4       0              0        0           0       2             1   \n",
              "\n",
              "   MultipleLines  InternetService  OnlineSecurity  OnlineBackup  \\\n",
              "0              1                1               0             2   \n",
              "1              0                1               2             0   \n",
              "2              0                1               2             2   \n",
              "3              1                1               2             0   \n",
              "4              0                2               0             0   \n",
              "\n",
              "   DeviceProtection  TechSupport  StreamingTV  StreamingMovies  Contract  \\\n",
              "0                 0            0            0                0         0   \n",
              "1                 2            0            0                0         1   \n",
              "2                 0            0            0                0         0   \n",
              "3                 2            2            0                0         1   \n",
              "4                 0            0            0                0         0   \n",
              "\n",
              "   PaperlessBilling  PaymentMethod  MonthlyCharges  TotalCharges  Churn  \n",
              "0                 1              0           29.85         29.85      1  \n",
              "1                 0              1           56.95       1889.50      1  \n",
              "2                 1              1           53.85        108.15      0  \n",
              "3                 0              2           42.30       1840.75      1  \n",
              "4                 1              0           70.70        151.65      0  "
            ]
          },
          "execution_count": 133,
          "metadata": {},
          "output_type": "execute_result"
        }
      ],
      "source": [
        "df_feat_eng['gender'] = df_feat_eng['gender'].replace({'Male': 1, 'Female': 0})\n",
        "df_feat_eng['Partner'] = df_feat_eng['Partner'].replace({'Yes' : 1, 'No': 0})\n",
        "df_feat_eng['Dependents'] = df_feat_eng['Dependents'].replace({'Yes' : 1, 'No': 0})\n",
        "df_feat_eng['PhoneService'] = df_feat_eng['PhoneService'].replace({'Yes' : 1, 'No': 0})\n",
        "df_feat_eng['MultipleLines'] = df_feat_eng['MultipleLines'].replace({'No' : 0, 'No phone service': 1,'Yes' : 2 })\n",
        "df_feat_eng['InternetService'] = df_feat_eng['InternetService'].replace({'No' : 0, 'DSL': 1, 'Fiber optic':2})\n",
        "df_feat_eng['OnlineSecurity'] = df_feat_eng['OnlineSecurity'].replace({'No' : 0, 'No internet service': 1,'Yes' : 2 })\n",
        "df_feat_eng['OnlineBackup'] = df_feat_eng['OnlineBackup'].replace({'No' : 0, 'No internet service': 1,'Yes' : 2 })\n",
        "df_feat_eng['DeviceProtection'] = df_feat_eng['DeviceProtection'].replace({'No' : 0, 'No internet service': 1,'Yes' : 2 })\n",
        "df_feat_eng['TechSupport'] = df_feat_eng['TechSupport'].replace({'No' : 0, 'No internet service': 1,'Yes' : 2 })\n",
        "df_feat_eng['StreamingTV'] = df_feat_eng['StreamingTV'].replace({'No' : 0, 'No internet service': 1,'Yes' : 2 })\n",
        "df_feat_eng['StreamingMovies'] = df_feat_eng['StreamingMovies'].replace({'No' : 0, 'No internet service': 1,'Yes' : 2 })\n",
        "df_feat_eng['Contract'] = df_feat_eng['Contract'].replace({'Month-to-month' : 0, 'One year': 1,'Two year' : 2 })\n",
        "df_feat_eng['PaperlessBilling'] = df_feat_eng['PaperlessBilling'].replace({'No' : 0, 'Yes' : 1 })\n",
        "df_feat_eng['PaymentMethod'] = df_feat_eng['PaymentMethod'].replace({'Electronic check' : 0, 'Mailed check' : 1, 'Bank transfer (automatic)': 2, 'Credit card (automatic)' : 3  })\n",
        "df_feat_eng.head(5)\n"
      ]
    },
    {
      "cell_type": "markdown",
      "metadata": {},
      "source": [
        "Values di kolom kategorikal sudah berbentuk angka, untuk bisa diolah oleh model."
      ]
    },
    {
      "cell_type": "markdown",
      "metadata": {
        "id": "T7uXHFdygSv9"
      },
      "source": [
        "## Vb. Data Preprocessing"
      ]
    },
    {
      "cell_type": "code",
      "execution_count": 134,
      "metadata": {
        "id": "_cEvz21viFO3"
      },
      "outputs": [],
      "source": [
        "# Split data fitur dan data target\n",
        "X= df_feat_eng.drop('Churn', axis=1) #fitur\n",
        "y= df_feat_eng['Churn'] #target"
      ]
    },
    {
      "cell_type": "code",
      "execution_count": 135,
      "metadata": {
        "id": "ELBHv5EViIKU"
      },
      "outputs": [],
      "source": [
        "# Split menjadi train dan test\n",
        "X_train, X_test, y_train, y_test= train_test_split(X,y, test_size= 0.3,\n",
        "                                                  random_state=2023,\n",
        "                                                   stratify=y\n",
        "                                                   )"
      ]
    },
    {
      "cell_type": "code",
      "execution_count": 136,
      "metadata": {
        "colab": {
          "base_uri": "https://localhost:8080/"
        },
        "id": "1edmcohwiMij",
        "outputId": "3ff1ad1c-d0f9-469d-e65b-c37f04e1a2c8"
      },
      "outputs": [
        {
          "name": "stdout",
          "output_type": "stream",
          "text": [
            "Train Size :  (4922, 19)\n",
            "Test Size  :  (2110, 19)\n",
            "Train Size :  (4922,)\n",
            "Test Size  :  (2110,)\n"
          ]
        }
      ],
      "source": [
        "# Menampilkan size data\n",
        "print('Train Size : ', X_train.shape)\n",
        "print('Test Size  : ', X_test.shape)\n",
        "print('Train Size : ', y_train.shape)\n",
        "print('Test Size  : ', y_test.shape)"
      ]
    },
    {
      "cell_type": "markdown",
      "metadata": {
        "id": "Dr4IPCIUgVfv"
      },
      "source": [
        "## Vc. Handling Outlier"
      ]
    },
    {
      "cell_type": "code",
      "execution_count": 137,
      "metadata": {
        "colab": {
          "base_uri": "https://localhost:8080/"
        },
        "id": "5TJOJC0fige8",
        "outputId": "7c18036e-ceff-4eee-820b-2c552aa2e6bb"
      },
      "outputs": [
        {
          "name": "stdout",
          "output_type": "stream",
          "text": [
            "Skewness dari tenure adalah 0.23773083190513133\n",
            "Skewness dari MonthlyCharges adalah -0.22210292770166232\n",
            "Skewness dari TotalCharges adalah 0.9616424997242504\n"
          ]
        }
      ],
      "source": [
        "numeric_col = df_feat_eng[['tenure','MonthlyCharges','TotalCharges']]\n",
        "# Cek kenormalan data menggunakan skewness\n",
        "normal_numeric_data = []\n",
        "non_normal_numeric_data = []\n",
        "for i in numeric_col.columns :\n",
        "    skew = numeric_col[i].skew()\n",
        "    if (skew >=0.5) | (skew <=-0.5):\n",
        "        non_normal_numeric_data.append(i)\n",
        "\n",
        "    elif (skew<0.5) & (skew >=-0.5):\n",
        "        normal_numeric_data.append(i)\n",
        "\n",
        "    print('Skewness dari', i ,'adalah', skew )"
      ]
    },
    {
      "cell_type": "markdown",
      "metadata": {},
      "source": [
        "Cek skewness masing-masing kolom numeric."
      ]
    },
    {
      "cell_type": "code",
      "execution_count": 138,
      "metadata": {
        "colab": {
          "base_uri": "https://localhost:8080/"
        },
        "id": "3d3IM2qgipN2",
        "outputId": "470c9ec9-f554-407b-cb67-02dbfb2d1984"
      },
      "outputs": [
        {
          "data": {
            "text/plain": [
              "['tenure', 'MonthlyCharges']"
            ]
          },
          "execution_count": 138,
          "metadata": {},
          "output_type": "execute_result"
        }
      ],
      "source": [
        "normal_numeric_data"
      ]
    },
    {
      "cell_type": "code",
      "execution_count": 139,
      "metadata": {
        "colab": {
          "base_uri": "https://localhost:8080/"
        },
        "id": "53KzxtlnlW8t",
        "outputId": "25e98122-2424-4b2e-a25c-dc004892e065"
      },
      "outputs": [
        {
          "data": {
            "text/plain": [
              "['TotalCharges']"
            ]
          },
          "execution_count": 139,
          "metadata": {},
          "output_type": "execute_result"
        }
      ],
      "source": [
        "non_normal_numeric_data"
      ]
    },
    {
      "cell_type": "markdown",
      "metadata": {},
      "source": [
        "Terdapat distribusi data yang  normal di kolom tenure dan monthlycharges, dan distribusi data yang tidak normal di kolom totalcharges. Untuk distrubsi normal, akan di handling outlier menggunakan metode capping gaussian. Untuk distribusi tidak normal akan di handling menggunakan metode capping iqr."
      ]
    },
    {
      "cell_type": "code",
      "execution_count": 140,
      "metadata": {
        "id": "GLE2bzkjiv7q"
      },
      "outputs": [],
      "source": [
        "capping_normal_numeric = Winsorizer(capping_method='gaussian',\n",
        "                             tail='both',\n",
        "                             fold=3,\n",
        "                             variables= normal_numeric_data)\n",
        "\n",
        "capping_normal_numeric_train = capping_normal_numeric.fit_transform(X_train[normal_numeric_data])\n",
        "capping_normal_numeric_test = capping_normal_numeric.transform(X_test[normal_numeric_data])\n"
      ]
    },
    {
      "cell_type": "code",
      "execution_count": 141,
      "metadata": {
        "id": "_8XKreVii4-Z"
      },
      "outputs": [],
      "source": [
        "capping_non_normal_numeric = Winsorizer(capping_method='iqr',\n",
        "                             tail='both',\n",
        "                             fold=3,\n",
        "                             variables= non_normal_numeric_data)\n",
        "\n",
        "capping_non_normal_numeric_train = capping_non_normal_numeric.fit_transform(X_train[non_normal_numeric_data])\n",
        "capping_non_normal_numeric_test = capping_non_normal_numeric.transform(X_test[non_normal_numeric_data])"
      ]
    },
    {
      "cell_type": "code",
      "execution_count": 142,
      "metadata": {
        "id": "9Vnscl1PmLfx"
      },
      "outputs": [],
      "source": [
        "capped_df_train = pd.concat([capping_normal_numeric_train,capping_non_normal_numeric_train],axis = 1)\n",
        "capped_df_test = pd.concat([capping_normal_numeric_test,capping_non_normal_numeric_test],axis = 1)"
      ]
    },
    {
      "cell_type": "markdown",
      "metadata": {},
      "source": [
        "Outlier berhasil di handle."
      ]
    },
    {
      "cell_type": "markdown",
      "metadata": {
        "id": "1LittUX1oL9v"
      },
      "source": [
        "## Vd. Scaling"
      ]
    },
    {
      "cell_type": "markdown",
      "metadata": {},
      "source": [
        "Melakukan Scaling untuk kolom numerik, yang bertujuan untuk percepatan konvergensi, menghindari dominasi fitur, dan meningkatkan performa model. metode yang digunakan ada MinMaxScaler."
      ]
    },
    {
      "cell_type": "code",
      "execution_count": 143,
      "metadata": {
        "colab": {
          "base_uri": "https://localhost:8080/",
          "height": 423
        },
        "id": "C3Q5K7_bjdmd",
        "outputId": "67e07c39-22cc-451b-efe2-364a6647068d"
      },
      "outputs": [
        {
          "data": {
            "text/html": [
              "<div>\n",
              "<style scoped>\n",
              "    .dataframe tbody tr th:only-of-type {\n",
              "        vertical-align: middle;\n",
              "    }\n",
              "\n",
              "    .dataframe tbody tr th {\n",
              "        vertical-align: top;\n",
              "    }\n",
              "\n",
              "    .dataframe thead th {\n",
              "        text-align: right;\n",
              "    }\n",
              "</style>\n",
              "<table border=\"1\" class=\"dataframe\">\n",
              "  <thead>\n",
              "    <tr style=\"text-align: right;\">\n",
              "      <th></th>\n",
              "      <th>tenure</th>\n",
              "      <th>MonthlyCharges</th>\n",
              "      <th>TotalCharges</th>\n",
              "    </tr>\n",
              "  </thead>\n",
              "  <tbody>\n",
              "    <tr>\n",
              "      <th>0</th>\n",
              "      <td>0.000000</td>\n",
              "      <td>0.114214</td>\n",
              "      <td>0.001289</td>\n",
              "    </tr>\n",
              "    <tr>\n",
              "      <th>448</th>\n",
              "      <td>0.098592</td>\n",
              "      <td>0.761596</td>\n",
              "      <td>0.086379</td>\n",
              "    </tr>\n",
              "    <tr>\n",
              "      <th>5916</th>\n",
              "      <td>1.000000</td>\n",
              "      <td>0.941147</td>\n",
              "      <td>0.953146</td>\n",
              "    </tr>\n",
              "    <tr>\n",
              "      <th>4389</th>\n",
              "      <td>0.408451</td>\n",
              "      <td>0.817955</td>\n",
              "      <td>0.340204</td>\n",
              "    </tr>\n",
              "    <tr>\n",
              "      <th>2172</th>\n",
              "      <td>0.000000</td>\n",
              "      <td>0.254863</td>\n",
              "      <td>0.002933</td>\n",
              "    </tr>\n",
              "    <tr>\n",
              "      <th>...</th>\n",
              "      <td>...</td>\n",
              "      <td>...</td>\n",
              "      <td>...</td>\n",
              "    </tr>\n",
              "    <tr>\n",
              "      <th>3760</th>\n",
              "      <td>0.028169</td>\n",
              "      <td>0.550623</td>\n",
              "      <td>0.024920</td>\n",
              "    </tr>\n",
              "    <tr>\n",
              "      <th>3315</th>\n",
              "      <td>0.915493</td>\n",
              "      <td>0.887282</td>\n",
              "      <td>0.820135</td>\n",
              "    </tr>\n",
              "    <tr>\n",
              "      <th>4744</th>\n",
              "      <td>0.887324</td>\n",
              "      <td>0.016459</td>\n",
              "      <td>0.137512</td>\n",
              "    </tr>\n",
              "    <tr>\n",
              "      <th>7037</th>\n",
              "      <td>1.000000</td>\n",
              "      <td>0.027431</td>\n",
              "      <td>0.163324</td>\n",
              "    </tr>\n",
              "    <tr>\n",
              "      <th>1506</th>\n",
              "      <td>0.943662</td>\n",
              "      <td>0.356110</td>\n",
              "      <td>0.440284</td>\n",
              "    </tr>\n",
              "  </tbody>\n",
              "</table>\n",
              "<p>4922 rows × 3 columns</p>\n",
              "</div>"
            ],
            "text/plain": [
              "        tenure  MonthlyCharges  TotalCharges\n",
              "0     0.000000        0.114214      0.001289\n",
              "448   0.098592        0.761596      0.086379\n",
              "5916  1.000000        0.941147      0.953146\n",
              "4389  0.408451        0.817955      0.340204\n",
              "2172  0.000000        0.254863      0.002933\n",
              "...        ...             ...           ...\n",
              "3760  0.028169        0.550623      0.024920\n",
              "3315  0.915493        0.887282      0.820135\n",
              "4744  0.887324        0.016459      0.137512\n",
              "7037  1.000000        0.027431      0.163324\n",
              "1506  0.943662        0.356110      0.440284\n",
              "\n",
              "[4922 rows x 3 columns]"
            ]
          },
          "execution_count": 143,
          "metadata": {},
          "output_type": "execute_result"
        }
      ],
      "source": [
        "scaler = MinMaxScaler()\n",
        "\n",
        "capped_df_train[numeric_col.columns] = scaler.fit_transform(capped_df_train[numeric_col.columns])\n",
        "capped_df_test[numeric_col.columns] = scaler.transform(capped_df_test[numeric_col.columns])\n",
        "\n",
        "capped_df_train[numeric_col.columns]"
      ]
    },
    {
      "cell_type": "markdown",
      "metadata": {},
      "source": [
        "Scaling berhasil dilakukan."
      ]
    },
    {
      "cell_type": "markdown",
      "metadata": {
        "id": "06rQlU9OgeEC"
      },
      "source": [
        "## Ve. Feature Selection"
      ]
    },
    {
      "cell_type": "markdown",
      "metadata": {},
      "source": [
        "Pada sesi ini, akan di define kolom kategorikal untuk dicari korelasinya dengan target untuk berikutnya dicari yang paling besar nilainya dan dipilih untuk pemodelan."
      ]
    },
    {
      "cell_type": "code",
      "execution_count": 144,
      "metadata": {
        "id": "8ZBvzhcEj4HU"
      },
      "outputs": [],
      "source": [
        "X_train_categorical = X_train.drop(columns = capped_df_train.columns)\n",
        "X_test_categorical = X_test.drop(columns = capped_df_train.columns)"
      ]
    },
    {
      "cell_type": "code",
      "execution_count": 145,
      "metadata": {
        "colab": {
          "base_uri": "https://localhost:8080/"
        },
        "id": "iUWe8yf5bJeH",
        "outputId": "ac68964b-0cca-43b3-be04-27a6357eeaf4"
      },
      "outputs": [
        {
          "name": "stdout",
          "output_type": "stream",
          "text": [
            "(4922, 16)\n",
            "(4922,)\n"
          ]
        }
      ],
      "source": [
        "print(X_train_categorical.shape)  # Untuk melihat jumlah baris di X_train_categorical\n",
        "print(y_train.shape)  # Untuk melihat jumlah baris di y_train\n"
      ]
    },
    {
      "cell_type": "code",
      "execution_count": 146,
      "metadata": {
        "colab": {
          "base_uri": "https://localhost:8080/",
          "height": 206
        },
        "id": "Hx0xAT7bj_wf",
        "outputId": "6a51d5e4-4f88-4225-9b54-a2d975a16d6f"
      },
      "outputs": [
        {
          "data": {
            "text/html": [
              "<div>\n",
              "<style scoped>\n",
              "    .dataframe tbody tr th:only-of-type {\n",
              "        vertical-align: middle;\n",
              "    }\n",
              "\n",
              "    .dataframe tbody tr th {\n",
              "        vertical-align: top;\n",
              "    }\n",
              "\n",
              "    .dataframe thead th {\n",
              "        text-align: right;\n",
              "    }\n",
              "</style>\n",
              "<table border=\"1\" class=\"dataframe\">\n",
              "  <thead>\n",
              "    <tr style=\"text-align: right;\">\n",
              "      <th></th>\n",
              "      <th>Feature</th>\n",
              "      <th>Score</th>\n",
              "      <th>p-value</th>\n",
              "    </tr>\n",
              "  </thead>\n",
              "  <tbody>\n",
              "    <tr>\n",
              "      <th>13</th>\n",
              "      <td>Contract</td>\n",
              "      <td>749.180459</td>\n",
              "      <td>0.0</td>\n",
              "    </tr>\n",
              "    <tr>\n",
              "      <th>7</th>\n",
              "      <td>OnlineSecurity</td>\n",
              "      <td>372.064457</td>\n",
              "      <td>0.0</td>\n",
              "    </tr>\n",
              "    <tr>\n",
              "      <th>10</th>\n",
              "      <td>TechSupport</td>\n",
              "      <td>334.909767</td>\n",
              "      <td>0.0</td>\n",
              "    </tr>\n",
              "    <tr>\n",
              "      <th>15</th>\n",
              "      <td>PaymentMethod</td>\n",
              "      <td>314.018491</td>\n",
              "      <td>0.0</td>\n",
              "    </tr>\n",
              "    <tr>\n",
              "      <th>6</th>\n",
              "      <td>InternetService</td>\n",
              "      <td>236.029145</td>\n",
              "      <td>0.0</td>\n",
              "    </tr>\n",
              "  </tbody>\n",
              "</table>\n",
              "</div>"
            ],
            "text/plain": [
              "            Feature       Score  p-value\n",
              "13         Contract  749.180459      0.0\n",
              "7    OnlineSecurity  372.064457      0.0\n",
              "10      TechSupport  334.909767      0.0\n",
              "15    PaymentMethod  314.018491      0.0\n",
              "6   InternetService  236.029145      0.0"
            ]
          },
          "execution_count": 146,
          "metadata": {},
          "output_type": "execute_result"
        }
      ],
      "source": [
        "# seleksi fitur menggunakan uji statistik Chi-squared (chi2)\n",
        "selector = SelectKBest(score_func=chi2, k=5) #--> memilih 5 fitur terbaik\n",
        "\n",
        "# memanggil metode fit pada objek selector untuk menyesuaikan model dengan data pelatihan\n",
        "selector.fit(X_train_categorical, y_train)\n",
        "\n",
        "# Buat DataFrame dengan nama kolom fitur\n",
        "df_scores = pd.DataFrame({'Feature': X_train_categorical.columns,\n",
        "                          'Score': selector.scores_,\n",
        "                          'p-value': (selector.pvalues_).round(4)})\n",
        "\n",
        "# Tampilkan DataFrame  berdasarkan skor Chi-squared\n",
        "df_scores = df_scores.sort_values(by=['Score'], ascending=False)\n",
        "df_scores.head()"
      ]
    },
    {
      "cell_type": "code",
      "execution_count": 147,
      "metadata": {
        "colab": {
          "base_uri": "https://localhost:8080/",
          "height": 703
        },
        "id": "fVQbXTeDkB4J",
        "outputId": "795b0ab2-45d2-408a-d18a-8429b8e9df62"
      },
      "outputs": [
        {
          "data": {
            "image/png": "[encoded data removed]",
            "text/plain": [
              "<Figure size 1000x800 with 2 Axes>"
            ]
          },
          "metadata": {},
          "output_type": "display_data"
        }
      ],
      "source": [
        "numeric_cols = df_feat_eng.drop(columns = categorical_col)\n",
        "# Hitung matriks korelasi\n",
        "correlation_matrix = numeric_cols.corr()\n",
        "\n",
        "# Buat heatmap\n",
        "plt.figure(figsize=(10, 8))\n",
        "sns.heatmap(correlation_matrix, annot=True, cmap='coolwarm', linewidths=0.5)\n",
        "plt.title('Heatmap Korelasi')\n",
        "plt.show()"
      ]
    },
    {
      "cell_type": "code",
      "execution_count": 148,
      "metadata": {
        "colab": {
          "base_uri": "https://localhost:8080/",
          "height": 143
        },
        "id": "B26K3jrPcviq",
        "outputId": "b0648ac1-01cd-471a-ddca-67f0c36e77a7"
      },
      "outputs": [
        {
          "data": {
            "text/html": [
              "<div>\n",
              "<style scoped>\n",
              "    .dataframe tbody tr th:only-of-type {\n",
              "        vertical-align: middle;\n",
              "    }\n",
              "\n",
              "    .dataframe tbody tr th {\n",
              "        vertical-align: top;\n",
              "    }\n",
              "\n",
              "    .dataframe thead th {\n",
              "        text-align: right;\n",
              "    }\n",
              "</style>\n",
              "<table border=\"1\" class=\"dataframe\">\n",
              "  <thead>\n",
              "    <tr style=\"text-align: right;\">\n",
              "      <th></th>\n",
              "      <th>variables</th>\n",
              "      <th>VIF</th>\n",
              "    </tr>\n",
              "  </thead>\n",
              "  <tbody>\n",
              "    <tr>\n",
              "      <th>0</th>\n",
              "      <td>tenure</td>\n",
              "      <td>6.493144</td>\n",
              "    </tr>\n",
              "    <tr>\n",
              "      <th>1</th>\n",
              "      <td>MonthlyCharges</td>\n",
              "      <td>3.529282</td>\n",
              "    </tr>\n",
              "    <tr>\n",
              "      <th>2</th>\n",
              "      <td>TotalCharges</td>\n",
              "      <td>9.960020</td>\n",
              "    </tr>\n",
              "  </tbody>\n",
              "</table>\n",
              "</div>"
            ],
            "text/plain": [
              "        variables       VIF\n",
              "0          tenure  6.493144\n",
              "1  MonthlyCharges  3.529282\n",
              "2    TotalCharges  9.960020"
            ]
          },
          "execution_count": 148,
          "metadata": {},
          "output_type": "execute_result"
        }
      ],
      "source": [
        "import statsmodels.api as sm\n",
        "from statsmodels.stats.outliers_influence import variance_inflation_factor\n",
        "\n",
        "def calc_vif(X):\n",
        "    vif = pd.DataFrame()\n",
        "    vif[\"variables\"] = X.columns\n",
        "    vif[\"VIF\"] = [variance_inflation_factor(X.values, i) for i in range(X.shape[1])]\n",
        "\n",
        "    return(vif)\n",
        "\n",
        "\n",
        "data_VIF = capped_df_train[['tenure','MonthlyCharges','TotalCharges']]\n",
        "\n",
        "calc_vif(data_VIF)"
      ]
    },
    {
      "cell_type": "code",
      "execution_count": 149,
      "metadata": {
        "colab": {
          "base_uri": "https://localhost:8080/",
          "height": 112
        },
        "id": "Gp0jDFEZiuYP",
        "outputId": "b0e7f4e9-a7e9-4c98-8a20-233701686c9b"
      },
      "outputs": [
        {
          "data": {
            "text/html": [
              "<div>\n",
              "<style scoped>\n",
              "    .dataframe tbody tr th:only-of-type {\n",
              "        vertical-align: middle;\n",
              "    }\n",
              "\n",
              "    .dataframe tbody tr th {\n",
              "        vertical-align: top;\n",
              "    }\n",
              "\n",
              "    .dataframe thead th {\n",
              "        text-align: right;\n",
              "    }\n",
              "</style>\n",
              "<table border=\"1\" class=\"dataframe\">\n",
              "  <thead>\n",
              "    <tr style=\"text-align: right;\">\n",
              "      <th></th>\n",
              "      <th>variables</th>\n",
              "      <th>VIF</th>\n",
              "    </tr>\n",
              "  </thead>\n",
              "  <tbody>\n",
              "    <tr>\n",
              "      <th>0</th>\n",
              "      <td>tenure</td>\n",
              "      <td>2.261252</td>\n",
              "    </tr>\n",
              "    <tr>\n",
              "      <th>1</th>\n",
              "      <td>MonthlyCharges</td>\n",
              "      <td>2.261252</td>\n",
              "    </tr>\n",
              "  </tbody>\n",
              "</table>\n",
              "</div>"
            ],
            "text/plain": [
              "        variables       VIF\n",
              "0          tenure  2.261252\n",
              "1  MonthlyCharges  2.261252"
            ]
          },
          "execution_count": 149,
          "metadata": {},
          "output_type": "execute_result"
        }
      ],
      "source": [
        "selected_numeric_df = capped_df_train.drop(columns = ['TotalCharges']) # --> drop dari nilai yang terbesar dulu, running cell dengan menambah satu persatu kolom dengan nilai vif diatas 5.\n",
        "calc_vif(selected_numeric_df)"
      ]
    },
    {
      "cell_type": "markdown",
      "metadata": {},
      "source": [
        "Dari hasil visualisasi heatmap, dan metode VIF terpilih 2 kolom dari kolom numerikal yaitu tenure dan MonthlyCharges."
      ]
    },
    {
      "cell_type": "markdown",
      "metadata": {},
      "source": [
        "## Vf. Pipeline Preprocess"
      ]
    },
    {
      "cell_type": "markdown",
      "metadata": {},
      "source": [
        "Pembuatan pipeline pada proses preprocess untuk memudahkan load data di model inference."
      ]
    },
    {
      "cell_type": "code",
      "execution_count": 150,
      "metadata": {
        "colab": {
          "base_uri": "https://localhost:8080/"
        },
        "id": "LAyomV_5kLIF",
        "outputId": "913fd5fd-f6c2-4e56-9473-ae3ff874aaba"
      },
      "outputs": [
        {
          "data": {
            "text/plain": [
              "array([[0.        , 0.11421446],\n",
              "       [0.09859155, 0.76159601],\n",
              "       [1.        , 0.94114713],\n",
              "       ...,\n",
              "       [0.88732394, 0.01645885],\n",
              "       [1.        , 0.02743142],\n",
              "       [0.94366197, 0.35610973]])"
            ]
          },
          "execution_count": 150,
          "metadata": {},
          "output_type": "execute_result"
        }
      ],
      "source": [
        "# pipeline untuk kolom\n",
        "num_pipeline = Pipeline([\n",
        "        ('outlier',Winsorizer(capping_method='gaussian', tail='both', fold=3, variables=['MonthlyCharges','tenure'])),\n",
        "        ('scaler', MinMaxScaler())\n",
        "        ])\n",
        "\n",
        "num_tr = num_pipeline.fit_transform(X_train[['tenure','MonthlyCharges']])\n",
        "num_tr"
      ]
    },
    {
      "cell_type": "code",
      "execution_count": 151,
      "metadata": {
        "colab": {
          "base_uri": "https://localhost:8080/"
        },
        "id": "1J0voGobeEDD",
        "outputId": "4abce0b8-8259-4bbd-a732-e4dd49097807"
      },
      "outputs": [
        {
          "data": {
            "text/plain": [
              "array([[0, 0, 0, 0, 1],\n",
              "       [0, 0, 0, 0, 2],\n",
              "       [2, 2, 2, 3, 2],\n",
              "       ...,\n",
              "       [2, 1, 1, 2, 0],\n",
              "       [2, 1, 1, 2, 0],\n",
              "       [2, 2, 0, 2, 1]], dtype=int64)"
            ]
          },
          "execution_count": 151,
          "metadata": {},
          "output_type": "execute_result"
        }
      ],
      "source": [
        "# pipeline untuk kolom kategorikal\n",
        "cat_pipeline = Pipeline([\n",
        "            (   'passthrough', None),\n",
        "            (    'selector',SelectKBest(score_func=chi2, k=5))\n",
        "\n",
        "])\n",
        "\n",
        "cat_tr = cat_pipeline.fit_transform(X_train[['Contract', 'OnlineSecurity','TechSupport','PaymentMethod','InternetService']],y_train)\n",
        "cat_tr_arr = np.array(cat_tr)\n",
        "\n",
        "cat_tr_arr"
      ]
    },
    {
      "cell_type": "code",
      "execution_count": 152,
      "metadata": {
        "colab": {
          "base_uri": "https://localhost:8080/"
        },
        "id": "j6Krr3LAkN6b",
        "outputId": "c8f7100a-e5c8-462d-9edf-a6a285ad273a"
      },
      "outputs": [
        {
          "data": {
            "text/plain": [
              "array([[0.        , 0.11421446, 0.        , ..., 0.        , 0.        ,\n",
              "        1.        ],\n",
              "       [0.09859155, 0.76159601, 0.        , ..., 0.        , 0.        ,\n",
              "        2.        ],\n",
              "       [1.        , 0.94114713, 2.        , ..., 2.        , 3.        ,\n",
              "        2.        ],\n",
              "       ...,\n",
              "       [0.88732394, 0.01645885, 2.        , ..., 1.        , 2.        ,\n",
              "        0.        ],\n",
              "       [1.        , 0.02743142, 2.        , ..., 1.        , 2.        ,\n",
              "        0.        ],\n",
              "       [0.94366197, 0.35610973, 2.        , ..., 0.        , 2.        ,\n",
              "        1.        ]])"
            ]
          },
          "execution_count": 152,
          "metadata": {},
          "output_type": "execute_result"
        }
      ],
      "source": [
        "# menggabungkan pipeline kategorikal dengan numerikal\n",
        "full_pipeline = ColumnTransformer([\n",
        "        (\"num\", num_pipeline, ['tenure','MonthlyCharges']),\n",
        "        (\"cat\", cat_pipeline, ['Contract', 'OnlineSecurity','TechSupport','PaymentMethod','InternetService']),\n",
        "    ])\n",
        "\n",
        "train_tr = full_pipeline.fit_transform(X_train,y_train)\n",
        "train_tr"
      ]
    },
    {
      "cell_type": "code",
      "execution_count": 153,
      "metadata": {
        "colab": {
          "base_uri": "https://localhost:8080/"
        },
        "id": "9n3oMki6fm-S",
        "outputId": "61628fbf-b237-410d-bdcc-f63e5505f7f6"
      },
      "outputs": [
        {
          "data": {
            "text/plain": [
              "array([[0.74647887, 0.4713217 , 2.        , ..., 2.        , 3.        ,\n",
              "        1.        ],\n",
              "       [0.33802817, 0.86334165, 0.        , ..., 2.        , 2.        ,\n",
              "        2.        ],\n",
              "       [0.01408451, 0.52169576, 0.        , ..., 0.        , 0.        ,\n",
              "        2.        ],\n",
              "       ...,\n",
              "       [0.45070423, 0.47880299, 0.        , ..., 0.        , 3.        ,\n",
              "        1.        ],\n",
              "       [0.66197183, 0.20947631, 2.        , ..., 2.        , 1.        ,\n",
              "        1.        ],\n",
              "       [1.        , 0.86982544, 2.        , ..., 2.        , 2.        ,\n",
              "        2.        ]])"
            ]
          },
          "execution_count": 153,
          "metadata": {},
          "output_type": "execute_result"
        }
      ],
      "source": [
        "# transform pipeline gabungan dan dijadikan variabel baru\n",
        "test_tr = full_pipeline.transform(X_test)\n",
        "test_tr"
      ]
    },
    {
      "cell_type": "markdown",
      "metadata": {},
      "source": [
        "Pipeline preprocess selesai dibuat."
      ]
    },
    {
      "cell_type": "markdown",
      "metadata": {},
      "source": [
        "## Vg. Handling Imbalance Data"
      ]
    },
    {
      "cell_type": "markdown",
      "metadata": {},
      "source": [
        "Karena distribusi data di kolom target tidak balance, akan di handling menggunakan metode ovemsampler."
      ]
    },
    {
      "cell_type": "code",
      "execution_count": 154,
      "metadata": {
        "colab": {
          "base_uri": "https://localhost:8080/"
        },
        "id": "reQwguS8pcFB",
        "outputId": "c6157f73-5d3a-4e40-8e98-f9c9d8ce557c"
      },
      "outputs": [
        {
          "name": "stdout",
          "output_type": "stream",
          "text": [
            "1    3614\n",
            "0    3614\n",
            "Name: Churn, dtype: int64\n"
          ]
        }
      ],
      "source": [
        "\n",
        "from imblearn.over_sampling import RandomOverSampler\n",
        "\n",
        "\n",
        "# Inisialisasi oversampler, (data dibawha 1m, jadi pakai oversampler)\n",
        "oversampler = RandomOverSampler(sampling_strategy='minority')\n",
        "\n",
        "\n",
        "# Melakukan oversampling pada data training\n",
        "X_train_resampled, y_train_resampled = oversampler.fit_resample(train_tr, y_train)\n",
        "\n",
        "# Konversi fitur dan target yang telah di-resample menjadi DataFrame (jika belum)\n",
        "y_train_resampled_df = pd.DataFrame(y_train_resampled, columns=['Churn'])\n",
        "X_train_resampled_df = pd.DataFrame(X_train_resampled)\n",
        "# Hitung jumlah masing-masing kelas\n",
        "class_counts = y_train_resampled_df['Churn'].value_counts()\n",
        "\n",
        "# Tampilkan hasil\n",
        "print(class_counts)\n"
      ]
    },
    {
      "cell_type": "markdown",
      "metadata": {},
      "source": [
        "Data di kolom target sudah seimbang."
      ]
    },
    {
      "cell_type": "markdown",
      "metadata": {
        "id": "betm9dKFkmvR"
      },
      "source": [
        "# VI. MODEL DEFINITION"
      ]
    },
    {
      "cell_type": "markdown",
      "metadata": {},
      "source": [
        "Model yang akan di define : KNN, SVM, Decision Tree, Random Forest & Ada Boost."
      ]
    },
    {
      "cell_type": "code",
      "execution_count": 155,
      "metadata": {
        "colab": {
          "base_uri": "https://localhost:8080/",
          "height": 75
        },
        "id": "mH_LPujxs6ez",
        "outputId": "3ec64bc3-fe77-4d2c-8ac9-77a0bd45c314"
      },
      "outputs": [
        {
          "data": {
            "text/html": [
              "<style>#sk-container-id-9 {color: black;}#sk-container-id-9 pre{padding: 0;}#sk-container-id-9 div.sk-toggleable {background-color: white;}#sk-container-id-9 label.sk-toggleable__label {cursor: pointer;display: block;width: 100%;margin-bottom: 0;padding: 0.3em;box-sizing: border-box;text-align: center;}#sk-container-id-9 label.sk-toggleable__label-arrow:before {content: \"▸\";float: left;margin-right: 0.25em;color: #696969;}#sk-container-id-9 label.sk-toggleable__label-arrow:hover:before {color: black;}#sk-container-id-9 div.sk-estimator:hover label.sk-toggleable__label-arrow:before {color: black;}#sk-container-id-9 div.sk-toggleable__content {max-height: 0;max-width: 0;overflow: hidden;text-align: left;background-color: #f0f8ff;}#sk-container-id-9 div.sk-toggleable__content pre {margin: 0.2em;color: black;border-radius: 0.25em;background-color: #f0f8ff;}#sk-container-id-9 input.sk-toggleable__control:checked~div.sk-toggleable__content {max-height: 200px;max-width: 100%;overflow: auto;}#sk-container-id-9 input.sk-toggleable__control:checked~label.sk-toggleable__label-arrow:before {content: \"▾\";}#sk-container-id-9 div.sk-estimator input.sk-toggleable__control:checked~label.sk-toggleable__label {background-color: #d4ebff;}#sk-container-id-9 div.sk-label input.sk-toggleable__control:checked~label.sk-toggleable__label {background-color: #d4ebff;}#sk-container-id-9 input.sk-hidden--visually {border: 0;clip: rect(1px 1px 1px 1px);clip: rect(1px, 1px, 1px, 1px);height: 1px;margin: -1px;overflow: hidden;padding: 0;position: absolute;width: 1px;}#sk-container-id-9 div.sk-estimator {font-family: monospace;background-color: #f0f8ff;border: 1px dotted black;border-radius: 0.25em;box-sizing: border-box;margin-bottom: 0.5em;}#sk-container-id-9 div.sk-estimator:hover {background-color: #d4ebff;}#sk-container-id-9 div.sk-parallel-item::after {content: \"\";width: 100%;border-bottom: 1px solid gray;flex-grow: 1;}#sk-container-id-9 div.sk-label:hover label.sk-toggleable__label {background-color: #d4ebff;}#sk-container-id-9 div.sk-serial::before {content: \"\";position: absolute;border-left: 1px solid gray;box-sizing: border-box;top: 0;bottom: 0;left: 50%;z-index: 0;}#sk-container-id-9 div.sk-serial {display: flex;flex-direction: column;align-items: center;background-color: white;padding-right: 0.2em;padding-left: 0.2em;position: relative;}#sk-container-id-9 div.sk-item {position: relative;z-index: 1;}#sk-container-id-9 div.sk-parallel {display: flex;align-items: stretch;justify-content: center;background-color: white;position: relative;}#sk-container-id-9 div.sk-item::before, #sk-container-id-9 div.sk-parallel-item::before {content: \"\";position: absolute;border-left: 1px solid gray;box-sizing: border-box;top: 0;bottom: 0;left: 50%;z-index: -1;}#sk-container-id-9 div.sk-parallel-item {display: flex;flex-direction: column;z-index: 1;position: relative;background-color: white;}#sk-container-id-9 div.sk-parallel-item:first-child::after {align-self: flex-end;width: 50%;}#sk-container-id-9 div.sk-parallel-item:last-child::after {align-self: flex-start;width: 50%;}#sk-container-id-9 div.sk-parallel-item:only-child::after {width: 0;}#sk-container-id-9 div.sk-dashed-wrapped {border: 1px dashed gray;margin: 0 0.4em 0.5em 0.4em;box-sizing: border-box;padding-bottom: 0.4em;background-color: white;}#sk-container-id-9 div.sk-label label {font-family: monospace;font-weight: bold;display: inline-block;line-height: 1.2em;}#sk-container-id-9 div.sk-label-container {text-align: center;}#sk-container-id-9 div.sk-container {/* jupyter's `normalize.less` sets `[hidden] { display: none; }` but bootstrap.min.css set `[hidden] { display: none !important; }` so we also need the `!important` here to be able to override the default hidden behavior on the sphinx rendered scikit-learn.org. See: https://github.com/scikit-learn/scikit-learn/issues/21755 */display: inline-block !important;position: relative;}#sk-container-id-9 div.sk-text-repr-fallback {display: none;}</style><div id=\"sk-container-id-9\" class=\"sk-top-container\"><div class=\"sk-text-repr-fallback\"><pre>KNeighborsClassifier()</pre><b>In a Jupyter environment, please rerun this cell to show the HTML representation or trust the notebook. <br />On GitHub, the HTML representation is unable to render, please try loading this page with nbviewer.org.</b></div><div class=\"sk-container\" hidden><div class=\"sk-item\"><div class=\"sk-estimator sk-toggleable\"><input class=\"sk-toggleable__control sk-hidden--visually\" id=\"sk-estimator-id-34\" type=\"checkbox\" checked><label for=\"sk-estimator-id-34\" class=\"sk-toggleable__label sk-toggleable__label-arrow\">KNeighborsClassifier</label><div class=\"sk-toggleable__content\"><pre>KNeighborsClassifier()</pre></div></div></div></div></div>"
            ],
            "text/plain": [
              "KNeighborsClassifier()"
            ]
          },
          "execution_count": 155,
          "metadata": {},
          "output_type": "execute_result"
        }
      ],
      "source": [
        "# define model KNN\n",
        "model_knn = KNeighborsClassifier()\n",
        "model_knn.fit(X_train_resampled_df, y_train_resampled_df)"
      ]
    },
    {
      "cell_type": "code",
      "execution_count": 156,
      "metadata": {
        "colab": {
          "base_uri": "https://localhost:8080/",
          "height": 75
        },
        "id": "EbA9VW20tFpQ",
        "outputId": "4e8bd523-c07c-4225-e07c-5bac56fc3201"
      },
      "outputs": [
        {
          "data": {
            "text/html": [
              "<style>#sk-container-id-10 {color: black;}#sk-container-id-10 pre{padding: 0;}#sk-container-id-10 div.sk-toggleable {background-color: white;}#sk-container-id-10 label.sk-toggleable__label {cursor: pointer;display: block;width: 100%;margin-bottom: 0;padding: 0.3em;box-sizing: border-box;text-align: center;}#sk-container-id-10 label.sk-toggleable__label-arrow:before {content: \"▸\";float: left;margin-right: 0.25em;color: #696969;}#sk-container-id-10 label.sk-toggleable__label-arrow:hover:before {color: black;}#sk-container-id-10 div.sk-estimator:hover label.sk-toggleable__label-arrow:before {color: black;}#sk-container-id-10 div.sk-toggleable__content {max-height: 0;max-width: 0;overflow: hidden;text-align: left;background-color: #f0f8ff;}#sk-container-id-10 div.sk-toggleable__content pre {margin: 0.2em;color: black;border-radius: 0.25em;background-color: #f0f8ff;}#sk-container-id-10 input.sk-toggleable__control:checked~div.sk-toggleable__content {max-height: 200px;max-width: 100%;overflow: auto;}#sk-container-id-10 input.sk-toggleable__control:checked~label.sk-toggleable__label-arrow:before {content: \"▾\";}#sk-container-id-10 div.sk-estimator input.sk-toggleable__control:checked~label.sk-toggleable__label {background-color: #d4ebff;}#sk-container-id-10 div.sk-label input.sk-toggleable__control:checked~label.sk-toggleable__label {background-color: #d4ebff;}#sk-container-id-10 input.sk-hidden--visually {border: 0;clip: rect(1px 1px 1px 1px);clip: rect(1px, 1px, 1px, 1px);height: 1px;margin: -1px;overflow: hidden;padding: 0;position: absolute;width: 1px;}#sk-container-id-10 div.sk-estimator {font-family: monospace;background-color: #f0f8ff;border: 1px dotted black;border-radius: 0.25em;box-sizing: border-box;margin-bottom: 0.5em;}#sk-container-id-10 div.sk-estimator:hover {background-color: #d4ebff;}#sk-container-id-10 div.sk-parallel-item::after {content: \"\";width: 100%;border-bottom: 1px solid gray;flex-grow: 1;}#sk-container-id-10 div.sk-label:hover label.sk-toggleable__label {background-color: #d4ebff;}#sk-container-id-10 div.sk-serial::before {content: \"\";position: absolute;border-left: 1px solid gray;box-sizing: border-box;top: 0;bottom: 0;left: 50%;z-index: 0;}#sk-container-id-10 div.sk-serial {display: flex;flex-direction: column;align-items: center;background-color: white;padding-right: 0.2em;padding-left: 0.2em;position: relative;}#sk-container-id-10 div.sk-item {position: relative;z-index: 1;}#sk-container-id-10 div.sk-parallel {display: flex;align-items: stretch;justify-content: center;background-color: white;position: relative;}#sk-container-id-10 div.sk-item::before, #sk-container-id-10 div.sk-parallel-item::before {content: \"\";position: absolute;border-left: 1px solid gray;box-sizing: border-box;top: 0;bottom: 0;left: 50%;z-index: -1;}#sk-container-id-10 div.sk-parallel-item {display: flex;flex-direction: column;z-index: 1;position: relative;background-color: white;}#sk-container-id-10 div.sk-parallel-item:first-child::after {align-self: flex-end;width: 50%;}#sk-container-id-10 div.sk-parallel-item:last-child::after {align-self: flex-start;width: 50%;}#sk-container-id-10 div.sk-parallel-item:only-child::after {width: 0;}#sk-container-id-10 div.sk-dashed-wrapped {border: 1px dashed gray;margin: 0 0.4em 0.5em 0.4em;box-sizing: border-box;padding-bottom: 0.4em;background-color: white;}#sk-container-id-10 div.sk-label label {font-family: monospace;font-weight: bold;display: inline-block;line-height: 1.2em;}#sk-container-id-10 div.sk-label-container {text-align: center;}#sk-container-id-10 div.sk-container {/* jupyter's `normalize.less` sets `[hidden] { display: none; }` but bootstrap.min.css set `[hidden] { display: none !important; }` so we also need the `!important` here to be able to override the default hidden behavior on the sphinx rendered scikit-learn.org. See: https://github.com/scikit-learn/scikit-learn/issues/21755 */display: inline-block !important;position: relative;}#sk-container-id-10 div.sk-text-repr-fallback {display: none;}</style><div id=\"sk-container-id-10\" class=\"sk-top-container\"><div class=\"sk-text-repr-fallback\"><pre>SVC()</pre><b>In a Jupyter environment, please rerun this cell to show the HTML representation or trust the notebook. <br />On GitHub, the HTML representation is unable to render, please try loading this page with nbviewer.org.</b></div><div class=\"sk-container\" hidden><div class=\"sk-item\"><div class=\"sk-estimator sk-toggleable\"><input class=\"sk-toggleable__control sk-hidden--visually\" id=\"sk-estimator-id-35\" type=\"checkbox\" checked><label for=\"sk-estimator-id-35\" class=\"sk-toggleable__label sk-toggleable__label-arrow\">SVC</label><div class=\"sk-toggleable__content\"><pre>SVC()</pre></div></div></div></div></div>"
            ],
            "text/plain": [
              "SVC()"
            ]
          },
          "execution_count": 156,
          "metadata": {},
          "output_type": "execute_result"
        }
      ],
      "source": [
        "#define model SVM\n",
        "model_svm = SVC()\n",
        "model_svm.fit(X_train_resampled_df, y_train_resampled_df)"
      ]
    },
    {
      "cell_type": "code",
      "execution_count": 157,
      "metadata": {
        "colab": {
          "base_uri": "https://localhost:8080/",
          "height": 75
        },
        "id": "wr7hdIrMtb2H",
        "outputId": "21186808-cc41-49c7-8c00-10a3afc03fe4"
      },
      "outputs": [
        {
          "data": {
            "text/html": [
              "<style>#sk-container-id-11 {color: black;}#sk-container-id-11 pre{padding: 0;}#sk-container-id-11 div.sk-toggleable {background-color: white;}#sk-container-id-11 label.sk-toggleable__label {cursor: pointer;display: block;width: 100%;margin-bottom: 0;padding: 0.3em;box-sizing: border-box;text-align: center;}#sk-container-id-11 label.sk-toggleable__label-arrow:before {content: \"▸\";float: left;margin-right: 0.25em;color: #696969;}#sk-container-id-11 label.sk-toggleable__label-arrow:hover:before {color: black;}#sk-container-id-11 div.sk-estimator:hover label.sk-toggleable__label-arrow:before {color: black;}#sk-container-id-11 div.sk-toggleable__content {max-height: 0;max-width: 0;overflow: hidden;text-align: left;background-color: #f0f8ff;}#sk-container-id-11 div.sk-toggleable__content pre {margin: 0.2em;color: black;border-radius: 0.25em;background-color: #f0f8ff;}#sk-container-id-11 input.sk-toggleable__control:checked~div.sk-toggleable__content {max-height: 200px;max-width: 100%;overflow: auto;}#sk-container-id-11 input.sk-toggleable__control:checked~label.sk-toggleable__label-arrow:before {content: \"▾\";}#sk-container-id-11 div.sk-estimator input.sk-toggleable__control:checked~label.sk-toggleable__label {background-color: #d4ebff;}#sk-container-id-11 div.sk-label input.sk-toggleable__control:checked~label.sk-toggleable__label {background-color: #d4ebff;}#sk-container-id-11 input.sk-hidden--visually {border: 0;clip: rect(1px 1px 1px 1px);clip: rect(1px, 1px, 1px, 1px);height: 1px;margin: -1px;overflow: hidden;padding: 0;position: absolute;width: 1px;}#sk-container-id-11 div.sk-estimator {font-family: monospace;background-color: #f0f8ff;border: 1px dotted black;border-radius: 0.25em;box-sizing: border-box;margin-bottom: 0.5em;}#sk-container-id-11 div.sk-estimator:hover {background-color: #d4ebff;}#sk-container-id-11 div.sk-parallel-item::after {content: \"\";width: 100%;border-bottom: 1px solid gray;flex-grow: 1;}#sk-container-id-11 div.sk-label:hover label.sk-toggleable__label {background-color: #d4ebff;}#sk-container-id-11 div.sk-serial::before {content: \"\";position: absolute;border-left: 1px solid gray;box-sizing: border-box;top: 0;bottom: 0;left: 50%;z-index: 0;}#sk-container-id-11 div.sk-serial {display: flex;flex-direction: column;align-items: center;background-color: white;padding-right: 0.2em;padding-left: 0.2em;position: relative;}#sk-container-id-11 div.sk-item {position: relative;z-index: 1;}#sk-container-id-11 div.sk-parallel {display: flex;align-items: stretch;justify-content: center;background-color: white;position: relative;}#sk-container-id-11 div.sk-item::before, #sk-container-id-11 div.sk-parallel-item::before {content: \"\";position: absolute;border-left: 1px solid gray;box-sizing: border-box;top: 0;bottom: 0;left: 50%;z-index: -1;}#sk-container-id-11 div.sk-parallel-item {display: flex;flex-direction: column;z-index: 1;position: relative;background-color: white;}#sk-container-id-11 div.sk-parallel-item:first-child::after {align-self: flex-end;width: 50%;}#sk-container-id-11 div.sk-parallel-item:last-child::after {align-self: flex-start;width: 50%;}#sk-container-id-11 div.sk-parallel-item:only-child::after {width: 0;}#sk-container-id-11 div.sk-dashed-wrapped {border: 1px dashed gray;margin: 0 0.4em 0.5em 0.4em;box-sizing: border-box;padding-bottom: 0.4em;background-color: white;}#sk-container-id-11 div.sk-label label {font-family: monospace;font-weight: bold;display: inline-block;line-height: 1.2em;}#sk-container-id-11 div.sk-label-container {text-align: center;}#sk-container-id-11 div.sk-container {/* jupyter's `normalize.less` sets `[hidden] { display: none; }` but bootstrap.min.css set `[hidden] { display: none !important; }` so we also need the `!important` here to be able to override the default hidden behavior on the sphinx rendered scikit-learn.org. See: https://github.com/scikit-learn/scikit-learn/issues/21755 */display: inline-block !important;position: relative;}#sk-container-id-11 div.sk-text-repr-fallback {display: none;}</style><div id=\"sk-container-id-11\" class=\"sk-top-container\"><div class=\"sk-text-repr-fallback\"><pre>DecisionTreeClassifier()</pre><b>In a Jupyter environment, please rerun this cell to show the HTML representation or trust the notebook. <br />On GitHub, the HTML representation is unable to render, please try loading this page with nbviewer.org.</b></div><div class=\"sk-container\" hidden><div class=\"sk-item\"><div class=\"sk-estimator sk-toggleable\"><input class=\"sk-toggleable__control sk-hidden--visually\" id=\"sk-estimator-id-36\" type=\"checkbox\" checked><label for=\"sk-estimator-id-36\" class=\"sk-toggleable__label sk-toggleable__label-arrow\">DecisionTreeClassifier</label><div class=\"sk-toggleable__content\"><pre>DecisionTreeClassifier()</pre></div></div></div></div></div>"
            ],
            "text/plain": [
              "DecisionTreeClassifier()"
            ]
          },
          "execution_count": 157,
          "metadata": {},
          "output_type": "execute_result"
        }
      ],
      "source": [
        "#define model DecisionTree\n",
        "from sklearn.tree import DecisionTreeClassifier\n",
        "model_dct = DecisionTreeClassifier()\n",
        "model_dct.fit(X_train_resampled_df, y_train_resampled_df)"
      ]
    },
    {
      "cell_type": "code",
      "execution_count": 158,
      "metadata": {
        "colab": {
          "base_uri": "https://localhost:8080/",
          "height": 75
        },
        "id": "5xkIMK-Ct22n",
        "outputId": "75165671-236f-42c9-bfce-8be4d74340db"
      },
      "outputs": [
        {
          "data": {
            "text/html": [
              "<style>#sk-container-id-12 {color: black;}#sk-container-id-12 pre{padding: 0;}#sk-container-id-12 div.sk-toggleable {background-color: white;}#sk-container-id-12 label.sk-toggleable__label {cursor: pointer;display: block;width: 100%;margin-bottom: 0;padding: 0.3em;box-sizing: border-box;text-align: center;}#sk-container-id-12 label.sk-toggleable__label-arrow:before {content: \"▸\";float: left;margin-right: 0.25em;color: #696969;}#sk-container-id-12 label.sk-toggleable__label-arrow:hover:before {color: black;}#sk-container-id-12 div.sk-estimator:hover label.sk-toggleable__label-arrow:before {color: black;}#sk-container-id-12 div.sk-toggleable__content {max-height: 0;max-width: 0;overflow: hidden;text-align: left;background-color: #f0f8ff;}#sk-container-id-12 div.sk-toggleable__content pre {margin: 0.2em;color: black;border-radius: 0.25em;background-color: #f0f8ff;}#sk-container-id-12 input.sk-toggleable__control:checked~div.sk-toggleable__content {max-height: 200px;max-width: 100%;overflow: auto;}#sk-container-id-12 input.sk-toggleable__control:checked~label.sk-toggleable__label-arrow:before {content: \"▾\";}#sk-container-id-12 div.sk-estimator input.sk-toggleable__control:checked~label.sk-toggleable__label {background-color: #d4ebff;}#sk-container-id-12 div.sk-label input.sk-toggleable__control:checked~label.sk-toggleable__label {background-color: #d4ebff;}#sk-container-id-12 input.sk-hidden--visually {border: 0;clip: rect(1px 1px 1px 1px);clip: rect(1px, 1px, 1px, 1px);height: 1px;margin: -1px;overflow: hidden;padding: 0;position: absolute;width: 1px;}#sk-container-id-12 div.sk-estimator {font-family: monospace;background-color: #f0f8ff;border: 1px dotted black;border-radius: 0.25em;box-sizing: border-box;margin-bottom: 0.5em;}#sk-container-id-12 div.sk-estimator:hover {background-color: #d4ebff;}#sk-container-id-12 div.sk-parallel-item::after {content: \"\";width: 100%;border-bottom: 1px solid gray;flex-grow: 1;}#sk-container-id-12 div.sk-label:hover label.sk-toggleable__label {background-color: #d4ebff;}#sk-container-id-12 div.sk-serial::before {content: \"\";position: absolute;border-left: 1px solid gray;box-sizing: border-box;top: 0;bottom: 0;left: 50%;z-index: 0;}#sk-container-id-12 div.sk-serial {display: flex;flex-direction: column;align-items: center;background-color: white;padding-right: 0.2em;padding-left: 0.2em;position: relative;}#sk-container-id-12 div.sk-item {position: relative;z-index: 1;}#sk-container-id-12 div.sk-parallel {display: flex;align-items: stretch;justify-content: center;background-color: white;position: relative;}#sk-container-id-12 div.sk-item::before, #sk-container-id-12 div.sk-parallel-item::before {content: \"\";position: absolute;border-left: 1px solid gray;box-sizing: border-box;top: 0;bottom: 0;left: 50%;z-index: -1;}#sk-container-id-12 div.sk-parallel-item {display: flex;flex-direction: column;z-index: 1;position: relative;background-color: white;}#sk-container-id-12 div.sk-parallel-item:first-child::after {align-self: flex-end;width: 50%;}#sk-container-id-12 div.sk-parallel-item:last-child::after {align-self: flex-start;width: 50%;}#sk-container-id-12 div.sk-parallel-item:only-child::after {width: 0;}#sk-container-id-12 div.sk-dashed-wrapped {border: 1px dashed gray;margin: 0 0.4em 0.5em 0.4em;box-sizing: border-box;padding-bottom: 0.4em;background-color: white;}#sk-container-id-12 div.sk-label label {font-family: monospace;font-weight: bold;display: inline-block;line-height: 1.2em;}#sk-container-id-12 div.sk-label-container {text-align: center;}#sk-container-id-12 div.sk-container {/* jupyter's `normalize.less` sets `[hidden] { display: none; }` but bootstrap.min.css set `[hidden] { display: none !important; }` so we also need the `!important` here to be able to override the default hidden behavior on the sphinx rendered scikit-learn.org. See: https://github.com/scikit-learn/scikit-learn/issues/21755 */display: inline-block !important;position: relative;}#sk-container-id-12 div.sk-text-repr-fallback {display: none;}</style><div id=\"sk-container-id-12\" class=\"sk-top-container\"><div class=\"sk-text-repr-fallback\"><pre>RandomForestClassifier()</pre><b>In a Jupyter environment, please rerun this cell to show the HTML representation or trust the notebook. <br />On GitHub, the HTML representation is unable to render, please try loading this page with nbviewer.org.</b></div><div class=\"sk-container\" hidden><div class=\"sk-item\"><div class=\"sk-estimator sk-toggleable\"><input class=\"sk-toggleable__control sk-hidden--visually\" id=\"sk-estimator-id-37\" type=\"checkbox\" checked><label for=\"sk-estimator-id-37\" class=\"sk-toggleable__label sk-toggleable__label-arrow\">RandomForestClassifier</label><div class=\"sk-toggleable__content\"><pre>RandomForestClassifier()</pre></div></div></div></div></div>"
            ],
            "text/plain": [
              "RandomForestClassifier()"
            ]
          },
          "execution_count": 158,
          "metadata": {},
          "output_type": "execute_result"
        }
      ],
      "source": [
        "# define model random forest\n",
        "from sklearn.ensemble import RandomForestClassifier\n",
        "model_rf = RandomForestClassifier()\n",
        "model_rf.fit(X_train_resampled_df, y_train_resampled_df)"
      ]
    },
    {
      "cell_type": "code",
      "execution_count": 159,
      "metadata": {},
      "outputs": [
        {
          "data": {
            "text/html": [
              "<style>#sk-container-id-13 {color: black;}#sk-container-id-13 pre{padding: 0;}#sk-container-id-13 div.sk-toggleable {background-color: white;}#sk-container-id-13 label.sk-toggleable__label {cursor: pointer;display: block;width: 100%;margin-bottom: 0;padding: 0.3em;box-sizing: border-box;text-align: center;}#sk-container-id-13 label.sk-toggleable__label-arrow:before {content: \"▸\";float: left;margin-right: 0.25em;color: #696969;}#sk-container-id-13 label.sk-toggleable__label-arrow:hover:before {color: black;}#sk-container-id-13 div.sk-estimator:hover label.sk-toggleable__label-arrow:before {color: black;}#sk-container-id-13 div.sk-toggleable__content {max-height: 0;max-width: 0;overflow: hidden;text-align: left;background-color: #f0f8ff;}#sk-container-id-13 div.sk-toggleable__content pre {margin: 0.2em;color: black;border-radius: 0.25em;background-color: #f0f8ff;}#sk-container-id-13 input.sk-toggleable__control:checked~div.sk-toggleable__content {max-height: 200px;max-width: 100%;overflow: auto;}#sk-container-id-13 input.sk-toggleable__control:checked~label.sk-toggleable__label-arrow:before {content: \"▾\";}#sk-container-id-13 div.sk-estimator input.sk-toggleable__control:checked~label.sk-toggleable__label {background-color: #d4ebff;}#sk-container-id-13 div.sk-label input.sk-toggleable__control:checked~label.sk-toggleable__label {background-color: #d4ebff;}#sk-container-id-13 input.sk-hidden--visually {border: 0;clip: rect(1px 1px 1px 1px);clip: rect(1px, 1px, 1px, 1px);height: 1px;margin: -1px;overflow: hidden;padding: 0;position: absolute;width: 1px;}#sk-container-id-13 div.sk-estimator {font-family: monospace;background-color: #f0f8ff;border: 1px dotted black;border-radius: 0.25em;box-sizing: border-box;margin-bottom: 0.5em;}#sk-container-id-13 div.sk-estimator:hover {background-color: #d4ebff;}#sk-container-id-13 div.sk-parallel-item::after {content: \"\";width: 100%;border-bottom: 1px solid gray;flex-grow: 1;}#sk-container-id-13 div.sk-label:hover label.sk-toggleable__label {background-color: #d4ebff;}#sk-container-id-13 div.sk-serial::before {content: \"\";position: absolute;border-left: 1px solid gray;box-sizing: border-box;top: 0;bottom: 0;left: 50%;z-index: 0;}#sk-container-id-13 div.sk-serial {display: flex;flex-direction: column;align-items: center;background-color: white;padding-right: 0.2em;padding-left: 0.2em;position: relative;}#sk-container-id-13 div.sk-item {position: relative;z-index: 1;}#sk-container-id-13 div.sk-parallel {display: flex;align-items: stretch;justify-content: center;background-color: white;position: relative;}#sk-container-id-13 div.sk-item::before, #sk-container-id-13 div.sk-parallel-item::before {content: \"\";position: absolute;border-left: 1px solid gray;box-sizing: border-box;top: 0;bottom: 0;left: 50%;z-index: -1;}#sk-container-id-13 div.sk-parallel-item {display: flex;flex-direction: column;z-index: 1;position: relative;background-color: white;}#sk-container-id-13 div.sk-parallel-item:first-child::after {align-self: flex-end;width: 50%;}#sk-container-id-13 div.sk-parallel-item:last-child::after {align-self: flex-start;width: 50%;}#sk-container-id-13 div.sk-parallel-item:only-child::after {width: 0;}#sk-container-id-13 div.sk-dashed-wrapped {border: 1px dashed gray;margin: 0 0.4em 0.5em 0.4em;box-sizing: border-box;padding-bottom: 0.4em;background-color: white;}#sk-container-id-13 div.sk-label label {font-family: monospace;font-weight: bold;display: inline-block;line-height: 1.2em;}#sk-container-id-13 div.sk-label-container {text-align: center;}#sk-container-id-13 div.sk-container {/* jupyter's `normalize.less` sets `[hidden] { display: none; }` but bootstrap.min.css set `[hidden] { display: none !important; }` so we also need the `!important` here to be able to override the default hidden behavior on the sphinx rendered scikit-learn.org. See: https://github.com/scikit-learn/scikit-learn/issues/21755 */display: inline-block !important;position: relative;}#sk-container-id-13 div.sk-text-repr-fallback {display: none;}</style><div id=\"sk-container-id-13\" class=\"sk-top-container\"><div class=\"sk-text-repr-fallback\"><pre>AdaBoostClassifier()</pre><b>In a Jupyter environment, please rerun this cell to show the HTML representation or trust the notebook. <br />On GitHub, the HTML representation is unable to render, please try loading this page with nbviewer.org.</b></div><div class=\"sk-container\" hidden><div class=\"sk-item\"><div class=\"sk-estimator sk-toggleable\"><input class=\"sk-toggleable__control sk-hidden--visually\" id=\"sk-estimator-id-38\" type=\"checkbox\" checked><label for=\"sk-estimator-id-38\" class=\"sk-toggleable__label sk-toggleable__label-arrow\">AdaBoostClassifier</label><div class=\"sk-toggleable__content\"><pre>AdaBoostClassifier()</pre></div></div></div></div></div>"
            ],
            "text/plain": [
              "AdaBoostClassifier()"
            ]
          },
          "execution_count": 159,
          "metadata": {},
          "output_type": "execute_result"
        }
      ],
      "source": [
        "# define model Ada Booost\n",
        "model_ada = AdaBoostClassifier()\n",
        "model_ada.fit(X_train_resampled_df, y_train_resampled_df)"
      ]
    },
    {
      "cell_type": "markdown",
      "metadata": {
        "id": "Y_dFOFdPlCdM"
      },
      "source": [
        "# VII. MODEL TRAINING"
      ]
    },
    {
      "cell_type": "markdown",
      "metadata": {},
      "source": [
        "Akan di training ke lima model yang telah di define, hasil terbaik akan menjadi model terpilih dan akan di hyperparameter tuning."
      ]
    },
    {
      "cell_type": "code",
      "execution_count": 160,
      "metadata": {
        "colab": {
          "base_uri": "https://localhost:8080/"
        },
        "id": "k-OtcRoMw964",
        "outputId": "c3098620-2811-4ac8-f14b-52761791dda8"
      },
      "outputs": [
        {
          "name": "stdout",
          "output_type": "stream",
          "text": [
            "recall - All - Cross Validation  :  [0.7164592  0.69986169 0.67219917 0.70124481 0.73822715]\n",
            "recall - Mean - Cross Validation :  0.7055984030834894\n",
            "recall - Std - Cross Validation  :  0.02167931821885389\n",
            "recall - Range of Test-Set       :  0.6839190848646355 - 0.7272777213023434\n"
          ]
        }
      ],
      "source": [
        "from sklearn.model_selection import cross_val_score\n",
        "\n",
        "\n",
        "recall_train_cross_val = cross_val_score(model_knn,\n",
        "                                     X_train_resampled,\n",
        "                                     y_train_resampled,\n",
        "                                     cv=5,\n",
        "                                     scoring=\"recall\")\n",
        "\n",
        "print('recall - All - Cross Validation  : ', recall_train_cross_val)\n",
        "print('recall - Mean - Cross Validation : ', recall_train_cross_val.mean())\n",
        "print('recall - Std - Cross Validation  : ', recall_train_cross_val.std())\n",
        "print('recall - Range of Test-Set       : ', (recall_train_cross_val.mean()-recall_train_cross_val.std()) , '-', (recall_train_cross_val.mean()+recall_train_cross_val.std()))\n",
        "\n",
        "# training model knn"
      ]
    },
    {
      "cell_type": "code",
      "execution_count": 161,
      "metadata": {
        "colab": {
          "base_uri": "https://localhost:8080/"
        },
        "id": "nav3Lj4l3-M4",
        "outputId": "d1275e73-0e7a-43ac-fb5b-98f375b8a303"
      },
      "outputs": [
        {
          "name": "stdout",
          "output_type": "stream",
          "text": [
            "recall - All - Cross Validation  :  [0.70954357 0.71784232 0.68879668 0.70124481 0.73130194]\n",
            "recall - Mean - Cross Validation :  0.7097458649900575\n",
            "recall - Std - Cross Validation  :  0.014431868257895022\n",
            "recall - Range of Test-Set       :  0.6953139967321625 - 0.7241777332479525\n"
          ]
        }
      ],
      "source": [
        "recall_train_cross_val = cross_val_score(model_svm,\n",
        "                                     X_train_resampled,\n",
        "                                     y_train_resampled,\n",
        "                                     cv=5,\n",
        "                                     scoring=\"recall\")\n",
        "\n",
        "print('recall - All - Cross Validation  : ', recall_train_cross_val)\n",
        "print('recall - Mean - Cross Validation : ', recall_train_cross_val.mean())\n",
        "print('recall - Std - Cross Validation  : ', recall_train_cross_val.std())\n",
        "print('recall - Range of Test-Set       : ', (recall_train_cross_val.mean()-recall_train_cross_val.std()) , '-', (recall_train_cross_val.mean()+recall_train_cross_val.std()))\n",
        "\n",
        "# training model svm"
      ]
    },
    {
      "cell_type": "code",
      "execution_count": 162,
      "metadata": {
        "colab": {
          "base_uri": "https://localhost:8080/"
        },
        "id": "x1xpMlc94qYj",
        "outputId": "c03c86b8-8ee2-438a-c2c9-ddc7e12d13fb"
      },
      "outputs": [
        {
          "name": "stdout",
          "output_type": "stream",
          "text": [
            "recall - All - Cross Validation  :  [0.79529737 0.77869986 0.77316736 0.75656985 0.79916898]\n",
            "recall - Mean - Cross Validation :  0.7805806829806554\n",
            "recall - Std - Cross Validation  :  0.015473335879712637\n",
            "recall - Range of Test-Set       :  0.7651073471009427 - 0.7960540188603681\n"
          ]
        }
      ],
      "source": [
        "recall_train_cross_val = cross_val_score(model_dct,\n",
        "                                     X_train_resampled,\n",
        "                                     y_train_resampled,\n",
        "                                     cv=5,\n",
        "                                     scoring=\"recall\")\n",
        "\n",
        "print('recall - All - Cross Validation  : ', recall_train_cross_val)\n",
        "print('recall - Mean - Cross Validation : ', recall_train_cross_val.mean())\n",
        "print('recall - Std - Cross Validation  : ', recall_train_cross_val.std())\n",
        "print('recall - Range of Test-Set       : ', (recall_train_cross_val.mean()-recall_train_cross_val.std()) , '-', (recall_train_cross_val.mean()+recall_train_cross_val.std()))\n",
        "\n",
        "# training model Decision Tree"
      ]
    },
    {
      "cell_type": "code",
      "execution_count": 163,
      "metadata": {
        "colab": {
          "base_uri": "https://localhost:8080/"
        },
        "id": "YKxOXqKn4_Tr",
        "outputId": "c73c2e5b-9bcc-4a68-bf8c-1604e6cd348e"
      },
      "outputs": [
        {
          "name": "stdout",
          "output_type": "stream",
          "text": [
            "recall - All - Cross Validation  :  [0.82157676 0.80636238 0.76901798 0.79391425 0.81163435]\n",
            "recall - Mean - Cross Validation :  0.8005011436650153\n",
            "recall - Std - Cross Validation  :  0.018094534337534468\n",
            "recall - Range of Test-Set       :  0.7824066093274809 - 0.8185956780025498\n"
          ]
        }
      ],
      "source": [
        "recall_train_cross_val = cross_val_score(model_rf,\n",
        "                                     X_train_resampled,\n",
        "                                     y_train_resampled,\n",
        "                                     cv=5,\n",
        "                                     scoring=\"recall\")\n",
        "\n",
        "print('recall - All - Cross Validation  : ', recall_train_cross_val)\n",
        "print('recall - Mean - Cross Validation : ', recall_train_cross_val.mean())\n",
        "print('recall - Std - Cross Validation  : ', recall_train_cross_val.std())\n",
        "print('recall - Range of Test-Set       : ', (recall_train_cross_val.mean()-recall_train_cross_val.std()) , '-', (recall_train_cross_val.mean()+recall_train_cross_val.std()))\n",
        "\n",
        "# training model Random Forest"
      ]
    },
    {
      "cell_type": "code",
      "execution_count": 164,
      "metadata": {},
      "outputs": [
        {
          "name": "stdout",
          "output_type": "stream",
          "text": [
            "recall - All - Cross Validation  :  [0.73305671 0.73029046 0.69571231 0.7164592  0.73545706]\n",
            "recall - Mean - Cross Validation :  0.7221951471822162\n",
            "recall - Std - Cross Validation  :  0.014789372934470732\n",
            "recall - Range of Test-Set       :  0.7074057742477455 - 0.7369845201166869\n"
          ]
        }
      ],
      "source": [
        "recall_train_cross_val = cross_val_score(model_ada,\n",
        "                                     X_train_resampled,\n",
        "                                     y_train_resampled,\n",
        "                                     cv=5,\n",
        "                                     scoring=\"recall\")\n",
        "\n",
        "print('recall - All - Cross Validation  : ', recall_train_cross_val)\n",
        "print('recall - Mean - Cross Validation : ', recall_train_cross_val.mean())\n",
        "print('recall - Std - Cross Validation  : ', recall_train_cross_val.std())\n",
        "print('recall - Range of Test-Set       : ', (recall_train_cross_val.mean()-recall_train_cross_val.std()) , '-', (recall_train_cross_val.mean()+recall_train_cross_val.std()))\n",
        "\n",
        "# training model ada"
      ]
    },
    {
      "cell_type": "code",
      "execution_count": 165,
      "metadata": {
        "colab": {
          "base_uri": "https://localhost:8080/",
          "height": 919
        },
        "id": "af7l816xGgYP",
        "outputId": "987307da-f4f4-497e-f181-71fbbd77bb7c"
      },
      "outputs": [
        {
          "name": "stdout",
          "output_type": "stream",
          "text": [
            "              precision    recall  f1-score   support\n",
            "\n",
            "           0       0.59      0.89      0.71      1308\n",
            "           1       0.95      0.78      0.86      3614\n",
            "\n",
            "    accuracy                           0.81      4922\n",
            "   macro avg       0.77      0.84      0.78      4922\n",
            "weighted avg       0.86      0.81      0.82      4922\n",
            "\n",
            "\n",
            "recall Score - Test Set   :  0.7191736604260813 \n",
            "\n",
            "Classification Report : \n",
            "               precision    recall  f1-score   support\n",
            "\n",
            "           0       0.49      0.75      0.59       561\n",
            "           1       0.89      0.72      0.79      1549\n",
            "\n",
            "    accuracy                           0.73      2110\n",
            "   macro avg       0.69      0.73      0.69      2110\n",
            "weighted avg       0.78      0.73      0.74      2110\n",
            " \n",
            "\n",
            "Confusion Matrix      : \n",
            " <sklearn.metrics._plot.confusion_matrix.ConfusionMatrixDisplay object at 0x000002430879EE80>\n"
          ]
        },
        {
          "data": {
            "image/png": "[encoded data removed]",
            "text/plain": [
              "<Figure size 640x480 with 2 Axes>"
            ]
          },
          "metadata": {},
          "output_type": "display_data"
        }
      ],
      "source": [
        "# KNN\n",
        "model_train = model_knn.predict(train_tr)\n",
        "print(classification_report(y_train, model_train))\n",
        "print()\n",
        "model_test = model_knn.predict(test_tr)\n",
        "print('recall Score - Test Set   : ', recall_score(y_test, model_test), '\\n')\n",
        "print('Classification Report : \\n', classification_report(y_test, model_test), '\\n')\n",
        "print('Confusion Matrix      : \\n', ConfusionMatrixDisplay.from_estimator(model_knn, test_tr, y_test))"
      ]
    },
    {
      "cell_type": "code",
      "execution_count": 166,
      "metadata": {
        "colab": {
          "base_uri": "https://localhost:8080/",
          "height": 919
        },
        "id": "NVcmk2FUGzhl",
        "outputId": "f780e4c0-805f-4879-c076-426abfa418d4"
      },
      "outputs": [
        {
          "name": "stdout",
          "output_type": "stream",
          "text": [
            "              precision    recall  f1-score   support\n",
            "\n",
            "           0       0.50      0.80      0.61      1308\n",
            "           1       0.91      0.71      0.80      3614\n",
            "\n",
            "    accuracy                           0.73      4922\n",
            "   macro avg       0.70      0.75      0.70      4922\n",
            "weighted avg       0.80      0.73      0.75      4922\n",
            "\n",
            "\n",
            "recall Score - Test Set   :  0.7249838605551969 \n",
            "\n",
            "Classification Report : \n",
            "               precision    recall  f1-score   support\n",
            "\n",
            "           0       0.52      0.81      0.63       561\n",
            "           1       0.91      0.72      0.81      1549\n",
            "\n",
            "    accuracy                           0.75      2110\n",
            "   macro avg       0.71      0.77      0.72      2110\n",
            "weighted avg       0.81      0.75      0.76      2110\n",
            " \n",
            "\n",
            "Confusion Matrix      : \n",
            " <sklearn.metrics._plot.confusion_matrix.ConfusionMatrixDisplay object at 0x0000024312EB19A0>\n"
          ]
        },
        {
          "data": {
            "image/png": "[encoded data removed]",
            "text/plain": [
              "<Figure size 640x480 with 2 Axes>"
            ]
          },
          "metadata": {},
          "output_type": "display_data"
        }
      ],
      "source": [
        "# SVM\n",
        "model_train = model_svm.predict(train_tr)\n",
        "print(classification_report(y_train, model_train))\n",
        "print()\n",
        "model_test = model_svm.predict(test_tr)\n",
        "print('recall Score - Test Set   : ', recall_score(y_test, model_test), '\\n')\n",
        "print('Classification Report : \\n', classification_report(y_test, model_test), '\\n')\n",
        "print('Confusion Matrix      : \\n', ConfusionMatrixDisplay.from_estimator(model_svm, test_tr, y_test))"
      ]
    },
    {
      "cell_type": "code",
      "execution_count": 167,
      "metadata": {
        "colab": {
          "base_uri": "https://localhost:8080/",
          "height": 919
        },
        "id": "9u-60zErHTuX",
        "outputId": "cf9650e9-d609-4093-b831-86d3a899989f"
      },
      "outputs": [
        {
          "name": "stdout",
          "output_type": "stream",
          "text": [
            "              precision    recall  f1-score   support\n",
            "\n",
            "           0       0.97      1.00      0.98      1308\n",
            "           1       1.00      0.99      0.99      3614\n",
            "\n",
            "    accuracy                           0.99      4922\n",
            "   macro avg       0.98      0.99      0.99      4922\n",
            "weighted avg       0.99      0.99      0.99      4922\n",
            "\n",
            "\n",
            "recall Score - Test Set   :  0.8263395739186572 \n",
            "\n",
            "Classification Report : \n",
            "               precision    recall  f1-score   support\n",
            "\n",
            "           0       0.53      0.54      0.53       561\n",
            "           1       0.83      0.83      0.83      1549\n",
            "\n",
            "    accuracy                           0.75      2110\n",
            "   macro avg       0.68      0.68      0.68      2110\n",
            "weighted avg       0.75      0.75      0.75      2110\n",
            " \n",
            "\n",
            "Confusion Matrix      : \n",
            " <sklearn.metrics._plot.confusion_matrix.ConfusionMatrixDisplay object at 0x0000024313D5E5E0>\n"
          ]
        },
        {
          "data": {
            "image/png": "[encoded data removed]",
            "text/plain": [
              "<Figure size 640x480 with 2 Axes>"
            ]
          },
          "metadata": {},
          "output_type": "display_data"
        }
      ],
      "source": [
        "# Decision Tree\n",
        "model_train = model_dct.predict(train_tr)\n",
        "print(classification_report(y_train, model_train))\n",
        "print()\n",
        "model_test = model_dct.predict(test_tr)\n",
        "print('recall Score - Test Set   : ', recall_score(y_test, model_test), '\\n')\n",
        "print('Classification Report : \\n', classification_report(y_test, model_test), '\\n')\n",
        "print('Confusion Matrix      : \\n', ConfusionMatrixDisplay.from_estimator(model_dct, test_tr, y_test))"
      ]
    },
    {
      "cell_type": "code",
      "execution_count": 168,
      "metadata": {
        "colab": {
          "base_uri": "https://localhost:8080/",
          "height": 919
        },
        "id": "P3BA0KW2GJZl",
        "outputId": "3f295a40-1ea3-4363-e38e-f0b2153fa24b"
      },
      "outputs": [
        {
          "name": "stdout",
          "output_type": "stream",
          "text": [
            "              precision    recall  f1-score   support\n",
            "\n",
            "           0       0.97      1.00      0.98      1308\n",
            "           1       1.00      0.99      0.99      3614\n",
            "\n",
            "    accuracy                           0.99      4922\n",
            "   macro avg       0.98      0.99      0.99      4922\n",
            "weighted avg       0.99      0.99      0.99      4922\n",
            "\n",
            "\n",
            "recall Score - Test Set   :  0.8353776630083926 \n",
            "\n",
            "Classification Report : \n",
            "               precision    recall  f1-score   support\n",
            "\n",
            "           0       0.55      0.56      0.56       561\n",
            "           1       0.84      0.84      0.84      1549\n",
            "\n",
            "    accuracy                           0.76      2110\n",
            "   macro avg       0.70      0.70      0.70      2110\n",
            "weighted avg       0.76      0.76      0.76      2110\n",
            " \n",
            "\n"
          ]
        },
        {
          "name": "stdout",
          "output_type": "stream",
          "text": [
            "Confusion Matrix      : \n",
            " <sklearn.metrics._plot.confusion_matrix.ConfusionMatrixDisplay object at 0x0000024313A3F8B0>\n"
          ]
        },
        {
          "data": {
            "image/png": "[encoded data removed]",
            "text/plain": [
              "<Figure size 640x480 with 2 Axes>"
            ]
          },
          "metadata": {},
          "output_type": "display_data"
        }
      ],
      "source": [
        "# Random Forest\n",
        "model_train = model_rf.predict(train_tr)\n",
        "print(classification_report(y_train, model_train))\n",
        "print()\n",
        "model_test = model_rf.predict(test_tr)\n",
        "print('recall Score - Test Set   : ', recall_score(y_test, model_test), '\\n')\n",
        "print('Classification Report : \\n', classification_report(y_test, model_test), '\\n')\n",
        "print('Confusion Matrix      : \\n', ConfusionMatrixDisplay.from_estimator(model_rf, test_tr, y_test))"
      ]
    },
    {
      "cell_type": "code",
      "execution_count": 169,
      "metadata": {},
      "outputs": [
        {
          "name": "stdout",
          "output_type": "stream",
          "text": [
            "              precision    recall  f1-score   support\n",
            "\n",
            "           0       0.52      0.81      0.63      1308\n",
            "           1       0.92      0.73      0.81      3614\n",
            "\n",
            "    accuracy                           0.75      4922\n",
            "   macro avg       0.72      0.77      0.72      4922\n",
            "weighted avg       0.81      0.75      0.76      4922\n",
            "\n",
            "\n",
            "recall Score - Test Set   :  0.7404777275661717 \n",
            "\n",
            "Classification Report : \n",
            "               precision    recall  f1-score   support\n",
            "\n",
            "           0       0.53      0.82      0.64       561\n",
            "           1       0.92      0.74      0.82      1549\n",
            "\n",
            "    accuracy                           0.76      2110\n",
            "   macro avg       0.73      0.78      0.73      2110\n",
            "weighted avg       0.82      0.76      0.77      2110\n",
            " \n",
            "\n"
          ]
        },
        {
          "name": "stdout",
          "output_type": "stream",
          "text": [
            "Confusion Matrix      : \n",
            " <sklearn.metrics._plot.confusion_matrix.ConfusionMatrixDisplay object at 0x0000024313A3F8B0>\n"
          ]
        },
        {
          "data": {
            "image/png": "[encoded data removed]",
            "text/plain": [
              "<Figure size 640x480 with 2 Axes>"
            ]
          },
          "metadata": {},
          "output_type": "display_data"
        }
      ],
      "source": [
        "# Ada Boost\n",
        "model_train = model_ada.predict(train_tr)\n",
        "print(classification_report(y_train, model_train))\n",
        "print()\n",
        "model_test = model_ada.predict(test_tr)\n",
        "print('recall Score - Test Set   : ', recall_score(y_test, model_test), '\\n')\n",
        "print('Classification Report : \\n', classification_report(y_test, model_test), '\\n')\n",
        "print('Confusion Matrix      : \\n', ConfusionMatrixDisplay.from_estimator(model_rf, test_tr, y_test))"
      ]
    },
    {
      "cell_type": "markdown",
      "metadata": {},
      "source": [
        "Random Forest merupakan model pilihan saya, karena memiliki recall score paling tinggi dibanding 4 model lainnya.  recall Score - Test Set   :  0.8366688185926404 .\n"
      ]
    },
    {
      "cell_type": "markdown",
      "metadata": {},
      "source": [
        "## VIIa. Hyperparameter Tuning"
      ]
    },
    {
      "cell_type": "code",
      "execution_count": 170,
      "metadata": {
        "colab": {
          "base_uri": "https://localhost:8080/",
          "height": 118
        },
        "id": "1ftDd_wO_jjK",
        "outputId": "785d1155-76a2-47de-f00f-29bfd4238704"
      },
      "outputs": [],
      "source": [
        "from sklearn.ensemble  import RandomForestClassifier, AdaBoostClassifier\n",
        "from sklearn.model_selection import RandomizedSearchCV\n",
        "\n",
        "rand_param = {\n",
        "    'n_estimators': [10,20,30],  # Jumlah pohon dalam hutan\n",
        "    'max_depth': [None, 10, 20, 30],  # Kedalaman maksimum pohon\n",
        "    'min_samples_split': [2, 5, 10],  # Jumlah sampel minimum untuk membagi simpul\n",
        "    'min_samples_leaf': [1, 2, 4],  # Jumlah sampel minimum dalam daun\n",
        "    'bootstrap': [True, False]  # Apakah akan melakukan bootstrap sampel saat membuat pohon\n",
        "}\n",
        "randomforest_randomsearch = RandomizedSearchCV(estimator=RandomForestClassifier(), param_distributions=rand_param, n_iter=30, cv=5, scoring='recall', random_state=2023)\n",
        "\n",
        "# Melatih model dengan kombinasi hyperparameter yang berbeda\n",
        "randomforest_randomsearch.fit(X_train_resampled_df, y_train_resampled_df)  # Ganti X_train dan y_train dengan data Anda\n",
        "\n",
        "y_train_pred_randomforest_randomsearch = randomforest_randomsearch.predict(train_tr)\n",
        "\n",
        "y_test_pred_randomforest_randomsearch = randomforest_randomsearch.predict(test_tr)\n",
        "\n",
        "\n"
      ]
    },
    {
      "cell_type": "code",
      "execution_count": 171,
      "metadata": {
        "colab": {
          "base_uri": "https://localhost:8080/"
        },
        "id": "uB1NUuIfTy1l",
        "outputId": "972e72ac-9723-47d9-a1de-b1d9b4ce41a0"
      },
      "outputs": [
        {
          "name": "stdout",
          "output_type": "stream",
          "text": [
            "mean randomsearch: 0.7796385737584114\n",
            "Stdev randomsearch: 0.0187609297737757\n",
            "Best Paramater randomsearch: {'n_estimators': 30, 'min_samples_split': 5, 'min_samples_leaf': 1, 'max_depth': 30, 'bootstrap': False}\n"
          ]
        }
      ],
      "source": [
        "mean_rand = randomforest_randomsearch.cv_results_['mean_test_score'].mean()\n",
        "std_rand = randomforest_randomsearch.cv_results_['mean_test_score'].std()\n",
        "RandomForest_randcv_best = randomforest_randomsearch.best_params_\n",
        "\n",
        "\n",
        "print(f'mean randomsearch: {mean_rand}')\n",
        "print(f'Stdev randomsearch: {std_rand}')\n",
        "print(f'Best Paramater randomsearch: {RandomForest_randcv_best}')"
      ]
    },
    {
      "cell_type": "code",
      "execution_count": 172,
      "metadata": {},
      "outputs": [
        {
          "name": "stdout",
          "output_type": "stream",
          "text": [
            "              precision    recall  f1-score   support\n",
            "\n",
            "           0       0.96      0.99      0.97      1308\n",
            "           1       1.00      0.99      0.99      3614\n",
            "\n",
            "    accuracy                           0.99      4922\n",
            "   macro avg       0.98      0.99      0.98      4922\n",
            "weighted avg       0.99      0.99      0.99      4922\n",
            "\n",
            "\n",
            "recall Score - Test Set   :  0.8599096191091027 \n",
            "\n",
            "Classification Report : \n",
            "               precision    recall  f1-score   support\n",
            "\n",
            "           0       0.58      0.52      0.55       561\n",
            "           1       0.83      0.86      0.85      1549\n",
            "\n",
            "    accuracy                           0.77      2110\n",
            "   macro avg       0.70      0.69      0.70      2110\n",
            "weighted avg       0.76      0.77      0.77      2110\n",
            " \n",
            "\n",
            "Confusion Matrix      : \n",
            " <sklearn.metrics._plot.confusion_matrix.ConfusionMatrixDisplay object at 0x0000024313D92970>\n"
          ]
        },
        {
          "data": {
            "image/png": "[encoded data removed]",
            "text/plain": [
              "<Figure size 640x480 with 2 Axes>"
            ]
          },
          "metadata": {},
          "output_type": "display_data"
        }
      ],
      "source": [
        "# Random Forest\n",
        "model_train = randomforest_randomsearch.predict(train_tr)\n",
        "print(classification_report(y_train, model_train))\n",
        "print()\n",
        "model_test = randomforest_randomsearch.predict(test_tr)\n",
        "print('recall Score - Test Set   : ', recall_score(y_test, model_test), '\\n')\n",
        "print('Classification Report : \\n', classification_report(y_test, model_test), '\\n')\n",
        "print('Confusion Matrix      : \\n', ConfusionMatrixDisplay.from_estimator(model_rf, test_tr, y_test))"
      ]
    },
    {
      "cell_type": "markdown",
      "metadata": {},
      "source": [
        "Model cenderung Overfit karena nilai train (0.99) lebih besar dari nilai test (0.85). Nilai recall sudah melebihi target yang dicanangkan, yaitu 80 %."
      ]
    },
    {
      "cell_type": "markdown",
      "metadata": {
        "id": "fw5drcMclHfl"
      },
      "source": [
        "# VIII. MODEL EVALUATION"
      ]
    },
    {
      "cell_type": "code",
      "execution_count": 173,
      "metadata": {
        "colab": {
          "base_uri": "https://localhost:8080/"
        },
        "id": "a-NfD4AahpSb",
        "outputId": "01061718-c5c1-48ad-b760-1120a5205bc1"
      },
      "outputs": [
        {
          "name": "stdout",
          "output_type": "stream",
          "text": [
            "\n",
            "Classification Report (Test):\n",
            "               precision    recall  f1-score   support\n",
            "\n",
            "           0       0.58      0.52      0.55       561\n",
            "           1       0.83      0.86      0.85      1549\n",
            "\n",
            "    accuracy                           0.77      2110\n",
            "   macro avg       0.70      0.69      0.70      2110\n",
            "weighted avg       0.76      0.77      0.77      2110\n",
            "\n",
            "Confusion Matrix (Train):\n",
            " [[1294   14]\n",
            " [  54 3560]]\n",
            "\n",
            "Confusion Matrix (Test):\n",
            " [[ 294  267]\n",
            " [ 217 1332]]\n"
          ]
        }
      ],
      "source": [
        "# Confusion Matrix\n",
        "# Classification report\n",
        "print(\"\\nClassification Report (Test):\\n\", classification_report(y_test, y_test_pred_randomforest_randomsearch))\n",
        "\n",
        "# Matriks kebingungan untuk data pelatihan\n",
        "confusion_matrix_train_rf = confusion_matrix(y_train, y_train_pred_randomforest_randomsearch)\n",
        "print(\"Confusion Matrix (Train):\\n\", confusion_matrix_train_rf)\n",
        "\n",
        "# Matriks kebingungan untuk data pengujian\n",
        "confusion_matrix_test_rf = confusion_matrix(y_test, y_test_pred_randomforest_randomsearch)\n",
        "print(\"\\nConfusion Matrix (Test):\\n\", confusion_matrix_test_rf)\n"
      ]
    },
    {
      "cell_type": "markdown",
      "metadata": {},
      "source": [
        "- Untuk kelas 0 (Churn), recallnya adalah 299 / (299 + 219) ≈ 0.57.\n",
        "- Untuk kelas 1 (Loyal), recallnya adalah 1330 / (1330 + 262) ≈ 0.84."
      ]
    },
    {
      "cell_type": "markdown",
      "metadata": {},
      "source": [
        "## VIIIa. EDA Modeling"
      ]
    },
    {
      "cell_type": "code",
      "execution_count": 174,
      "metadata": {
        "colab": {
          "base_uri": "https://localhost:8080/",
          "height": 452
        },
        "id": "1JJ4nLfDhs-S",
        "outputId": "c7eb7a34-5249-4065-abdb-e95815e3816e"
      },
      "outputs": [
        {
          "data": {
            "image/png": "[encoded data removed]",
            "text/plain": [
              "<Figure size 640x480 with 1 Axes>"
            ]
          },
          "metadata": {},
          "output_type": "display_data"
        },
        {
          "name": "stdout",
          "output_type": "stream",
          "text": [
            "AUC: 0.7845266165624651\n"
          ]
        }
      ],
      "source": [
        "from sklearn.metrics import roc_curve, roc_auc_score, auc\n",
        "import matplotlib.pyplot as plt\n",
        "\n",
        "# Menghitung probabilitas prediksi positif untuk kelas 1 (No Churn)\n",
        "y_test_prob = randomforest_randomsearch.predict_proba(test_tr)[:, 1]\n",
        "\n",
        "# Menghitung FPR, TPR, dan ambang batas\n",
        "fpr, tpr, thresholds = roc_curve(y_test, y_test_prob)\n",
        "\n",
        "fpr, tpr, thresholds = roc_curve(y_test, y_test_prob)\n",
        "plt.plot(fpr, tpr)\n",
        "plt.show()\n",
        "\n",
        "# Hitung AUC\n",
        "auc = roc_auc_score(y_test, y_test_prob)\n",
        "print(f\"AUC: {auc}\")"
      ]
    },
    {
      "cell_type": "markdown",
      "metadata": {},
      "source": [
        "## VIIIb. Pipeline Model"
      ]
    },
    {
      "cell_type": "code",
      "execution_count": 175,
      "metadata": {
        "colab": {
          "base_uri": "https://localhost:8080/",
          "height": 158
        },
        "id": "zy7Vo9HbTQGG",
        "outputId": "c1935ec0-3df2-4596-9d96-4645eea34bde"
      },
      "outputs": [
        {
          "data": {
            "text/html": [
              "<style>#sk-container-id-14 {color: black;}#sk-container-id-14 pre{padding: 0;}#sk-container-id-14 div.sk-toggleable {background-color: white;}#sk-container-id-14 label.sk-toggleable__label {cursor: pointer;display: block;width: 100%;margin-bottom: 0;padding: 0.3em;box-sizing: border-box;text-align: center;}#sk-container-id-14 label.sk-toggleable__label-arrow:before {content: \"▸\";float: left;margin-right: 0.25em;color: #696969;}#sk-container-id-14 label.sk-toggleable__label-arrow:hover:before {color: black;}#sk-container-id-14 div.sk-estimator:hover label.sk-toggleable__label-arrow:before {color: black;}#sk-container-id-14 div.sk-toggleable__content {max-height: 0;max-width: 0;overflow: hidden;text-align: left;background-color: #f0f8ff;}#sk-container-id-14 div.sk-toggleable__content pre {margin: 0.2em;color: black;border-radius: 0.25em;background-color: #f0f8ff;}#sk-container-id-14 input.sk-toggleable__control:checked~div.sk-toggleable__content {max-height: 200px;max-width: 100%;overflow: auto;}#sk-container-id-14 input.sk-toggleable__control:checked~label.sk-toggleable__label-arrow:before {content: \"▾\";}#sk-container-id-14 div.sk-estimator input.sk-toggleable__control:checked~label.sk-toggleable__label {background-color: #d4ebff;}#sk-container-id-14 div.sk-label input.sk-toggleable__control:checked~label.sk-toggleable__label {background-color: #d4ebff;}#sk-container-id-14 input.sk-hidden--visually {border: 0;clip: rect(1px 1px 1px 1px);clip: rect(1px, 1px, 1px, 1px);height: 1px;margin: -1px;overflow: hidden;padding: 0;position: absolute;width: 1px;}#sk-container-id-14 div.sk-estimator {font-family: monospace;background-color: #f0f8ff;border: 1px dotted black;border-radius: 0.25em;box-sizing: border-box;margin-bottom: 0.5em;}#sk-container-id-14 div.sk-estimator:hover {background-color: #d4ebff;}#sk-container-id-14 div.sk-parallel-item::after {content: \"\";width: 100%;border-bottom: 1px solid gray;flex-grow: 1;}#sk-container-id-14 div.sk-label:hover label.sk-toggleable__label {background-color: #d4ebff;}#sk-container-id-14 div.sk-serial::before {content: \"\";position: absolute;border-left: 1px solid gray;box-sizing: border-box;top: 0;bottom: 0;left: 50%;z-index: 0;}#sk-container-id-14 div.sk-serial {display: flex;flex-direction: column;align-items: center;background-color: white;padding-right: 0.2em;padding-left: 0.2em;position: relative;}#sk-container-id-14 div.sk-item {position: relative;z-index: 1;}#sk-container-id-14 div.sk-parallel {display: flex;align-items: stretch;justify-content: center;background-color: white;position: relative;}#sk-container-id-14 div.sk-item::before, #sk-container-id-14 div.sk-parallel-item::before {content: \"\";position: absolute;border-left: 1px solid gray;box-sizing: border-box;top: 0;bottom: 0;left: 50%;z-index: -1;}#sk-container-id-14 div.sk-parallel-item {display: flex;flex-direction: column;z-index: 1;position: relative;background-color: white;}#sk-container-id-14 div.sk-parallel-item:first-child::after {align-self: flex-end;width: 50%;}#sk-container-id-14 div.sk-parallel-item:last-child::after {align-self: flex-start;width: 50%;}#sk-container-id-14 div.sk-parallel-item:only-child::after {width: 0;}#sk-container-id-14 div.sk-dashed-wrapped {border: 1px dashed gray;margin: 0 0.4em 0.5em 0.4em;box-sizing: border-box;padding-bottom: 0.4em;background-color: white;}#sk-container-id-14 div.sk-label label {font-family: monospace;font-weight: bold;display: inline-block;line-height: 1.2em;}#sk-container-id-14 div.sk-label-container {text-align: center;}#sk-container-id-14 div.sk-container {/* jupyter's `normalize.less` sets `[hidden] { display: none; }` but bootstrap.min.css set `[hidden] { display: none !important; }` so we also need the `!important` here to be able to override the default hidden behavior on the sphinx rendered scikit-learn.org. See: https://github.com/scikit-learn/scikit-learn/issues/21755 */display: inline-block !important;position: relative;}#sk-container-id-14 div.sk-text-repr-fallback {display: none;}</style><div id=\"sk-container-id-14\" class=\"sk-top-container\"><div class=\"sk-text-repr-fallback\"><pre>Pipeline(steps=[(&#x27;Random Forest&#x27;,\n",
              "                 RandomizedSearchCV(cv=5, estimator=RandomForestClassifier(),\n",
              "                                    n_iter=30,\n",
              "                                    param_distributions={&#x27;bootstrap&#x27;: [True,\n",
              "                                                                       False],\n",
              "                                                         &#x27;max_depth&#x27;: [None, 10,\n",
              "                                                                       20, 30],\n",
              "                                                         &#x27;min_samples_leaf&#x27;: [1,\n",
              "                                                                              2,\n",
              "                                                                              4],\n",
              "                                                         &#x27;min_samples_split&#x27;: [2,\n",
              "                                                                               5,\n",
              "                                                                               10],\n",
              "                                                         &#x27;n_estimators&#x27;: [10,\n",
              "                                                                          20,\n",
              "                                                                          30]},\n",
              "                                    random_state=2023, scoring=&#x27;recall&#x27;))])</pre><b>In a Jupyter environment, please rerun this cell to show the HTML representation or trust the notebook. <br />On GitHub, the HTML representation is unable to render, please try loading this page with nbviewer.org.</b></div><div class=\"sk-container\" hidden><div class=\"sk-item sk-dashed-wrapped\"><div class=\"sk-label-container\"><div class=\"sk-label sk-toggleable\"><input class=\"sk-toggleable__control sk-hidden--visually\" id=\"sk-estimator-id-39\" type=\"checkbox\" ><label for=\"sk-estimator-id-39\" class=\"sk-toggleable__label sk-toggleable__label-arrow\">Pipeline</label><div class=\"sk-toggleable__content\"><pre>Pipeline(steps=[(&#x27;Random Forest&#x27;,\n",
              "                 RandomizedSearchCV(cv=5, estimator=RandomForestClassifier(),\n",
              "                                    n_iter=30,\n",
              "                                    param_distributions={&#x27;bootstrap&#x27;: [True,\n",
              "                                                                       False],\n",
              "                                                         &#x27;max_depth&#x27;: [None, 10,\n",
              "                                                                       20, 30],\n",
              "                                                         &#x27;min_samples_leaf&#x27;: [1,\n",
              "                                                                              2,\n",
              "                                                                              4],\n",
              "                                                         &#x27;min_samples_split&#x27;: [2,\n",
              "                                                                               5,\n",
              "                                                                               10],\n",
              "                                                         &#x27;n_estimators&#x27;: [10,\n",
              "                                                                          20,\n",
              "                                                                          30]},\n",
              "                                    random_state=2023, scoring=&#x27;recall&#x27;))])</pre></div></div></div><div class=\"sk-serial\"><div class=\"sk-item sk-dashed-wrapped\"><div class=\"sk-label-container\"><div class=\"sk-label sk-toggleable\"><input class=\"sk-toggleable__control sk-hidden--visually\" id=\"sk-estimator-id-40\" type=\"checkbox\" ><label for=\"sk-estimator-id-40\" class=\"sk-toggleable__label sk-toggleable__label-arrow\">Random Forest: RandomizedSearchCV</label><div class=\"sk-toggleable__content\"><pre>RandomizedSearchCV(cv=5, estimator=RandomForestClassifier(), n_iter=30,\n",
              "                   param_distributions={&#x27;bootstrap&#x27;: [True, False],\n",
              "                                        &#x27;max_depth&#x27;: [None, 10, 20, 30],\n",
              "                                        &#x27;min_samples_leaf&#x27;: [1, 2, 4],\n",
              "                                        &#x27;min_samples_split&#x27;: [2, 5, 10],\n",
              "                                        &#x27;n_estimators&#x27;: [10, 20, 30]},\n",
              "                   random_state=2023, scoring=&#x27;recall&#x27;)</pre></div></div></div><div class=\"sk-parallel\"><div class=\"sk-parallel-item\"><div class=\"sk-item\"><div class=\"sk-label-container\"><div class=\"sk-label sk-toggleable\"><input class=\"sk-toggleable__control sk-hidden--visually\" id=\"sk-estimator-id-41\" type=\"checkbox\" ><label for=\"sk-estimator-id-41\" class=\"sk-toggleable__label sk-toggleable__label-arrow\">estimator: RandomForestClassifier</label><div class=\"sk-toggleable__content\"><pre>RandomForestClassifier()</pre></div></div></div><div class=\"sk-serial\"><div class=\"sk-item\"><div class=\"sk-estimator sk-toggleable\"><input class=\"sk-toggleable__control sk-hidden--visually\" id=\"sk-estimator-id-42\" type=\"checkbox\" ><label for=\"sk-estimator-id-42\" class=\"sk-toggleable__label sk-toggleable__label-arrow\">RandomForestClassifier</label><div class=\"sk-toggleable__content\"><pre>RandomForestClassifier()</pre></div></div></div></div></div></div></div></div></div></div></div></div>"
            ],
            "text/plain": [
              "Pipeline(steps=[('Random Forest',\n",
              "                 RandomizedSearchCV(cv=5, estimator=RandomForestClassifier(),\n",
              "                                    n_iter=30,\n",
              "                                    param_distributions={'bootstrap': [True,\n",
              "                                                                       False],\n",
              "                                                         'max_depth': [None, 10,\n",
              "                                                                       20, 30],\n",
              "                                                         'min_samples_leaf': [1,\n",
              "                                                                              2,\n",
              "                                                                              4],\n",
              "                                                         'min_samples_split': [2,\n",
              "                                                                               5,\n",
              "                                                                               10],\n",
              "                                                         'n_estimators': [10,\n",
              "                                                                          20,\n",
              "                                                                          30]},\n",
              "                                    random_state=2023, scoring='recall'))])"
            ]
          },
          "execution_count": 175,
          "metadata": {},
          "output_type": "execute_result"
        }
      ],
      "source": [
        "pipeline_model = Pipeline([\n",
        "    ('Random Forest', RandomizedSearchCV(estimator=RandomForestClassifier(), param_distributions=rand_param, n_iter=30, cv=5, scoring='recall', random_state=2023))\n",
        "])\n",
        "\n",
        "model_tr = pipeline_model.fit(X_train_resampled, y_train_resampled)\n",
        "model_tr"
      ]
    },
    {
      "cell_type": "markdown",
      "metadata": {},
      "source": [
        "## VIIIc. Merge Pipelines"
      ]
    },
    {
      "cell_type": "code",
      "execution_count": 176,
      "metadata": {
        "colab": {
          "base_uri": "https://localhost:8080/",
          "height": 272
        },
        "id": "gXYseP1ecmJh",
        "outputId": "5fefb4b7-f063-48a0-e018-6ec23b7d5029"
      },
      "outputs": [
        {
          "data": {
            "text/html": [
              "<style>#sk-container-id-15 {color: black;}#sk-container-id-15 pre{padding: 0;}#sk-container-id-15 div.sk-toggleable {background-color: white;}#sk-container-id-15 label.sk-toggleable__label {cursor: pointer;display: block;width: 100%;margin-bottom: 0;padding: 0.3em;box-sizing: border-box;text-align: center;}#sk-container-id-15 label.sk-toggleable__label-arrow:before {content: \"▸\";float: left;margin-right: 0.25em;color: #696969;}#sk-container-id-15 label.sk-toggleable__label-arrow:hover:before {color: black;}#sk-container-id-15 div.sk-estimator:hover label.sk-toggleable__label-arrow:before {color: black;}#sk-container-id-15 div.sk-toggleable__content {max-height: 0;max-width: 0;overflow: hidden;text-align: left;background-color: #f0f8ff;}#sk-container-id-15 div.sk-toggleable__content pre {margin: 0.2em;color: black;border-radius: 0.25em;background-color: #f0f8ff;}#sk-container-id-15 input.sk-toggleable__control:checked~div.sk-toggleable__content {max-height: 200px;max-width: 100%;overflow: auto;}#sk-container-id-15 input.sk-toggleable__control:checked~label.sk-toggleable__label-arrow:before {content: \"▾\";}#sk-container-id-15 div.sk-estimator input.sk-toggleable__control:checked~label.sk-toggleable__label {background-color: #d4ebff;}#sk-container-id-15 div.sk-label input.sk-toggleable__control:checked~label.sk-toggleable__label {background-color: #d4ebff;}#sk-container-id-15 input.sk-hidden--visually {border: 0;clip: rect(1px 1px 1px 1px);clip: rect(1px, 1px, 1px, 1px);height: 1px;margin: -1px;overflow: hidden;padding: 0;position: absolute;width: 1px;}#sk-container-id-15 div.sk-estimator {font-family: monospace;background-color: #f0f8ff;border: 1px dotted black;border-radius: 0.25em;box-sizing: border-box;margin-bottom: 0.5em;}#sk-container-id-15 div.sk-estimator:hover {background-color: #d4ebff;}#sk-container-id-15 div.sk-parallel-item::after {content: \"\";width: 100%;border-bottom: 1px solid gray;flex-grow: 1;}#sk-container-id-15 div.sk-label:hover label.sk-toggleable__label {background-color: #d4ebff;}#sk-container-id-15 div.sk-serial::before {content: \"\";position: absolute;border-left: 1px solid gray;box-sizing: border-box;top: 0;bottom: 0;left: 50%;z-index: 0;}#sk-container-id-15 div.sk-serial {display: flex;flex-direction: column;align-items: center;background-color: white;padding-right: 0.2em;padding-left: 0.2em;position: relative;}#sk-container-id-15 div.sk-item {position: relative;z-index: 1;}#sk-container-id-15 div.sk-parallel {display: flex;align-items: stretch;justify-content: center;background-color: white;position: relative;}#sk-container-id-15 div.sk-item::before, #sk-container-id-15 div.sk-parallel-item::before {content: \"\";position: absolute;border-left: 1px solid gray;box-sizing: border-box;top: 0;bottom: 0;left: 50%;z-index: -1;}#sk-container-id-15 div.sk-parallel-item {display: flex;flex-direction: column;z-index: 1;position: relative;background-color: white;}#sk-container-id-15 div.sk-parallel-item:first-child::after {align-self: flex-end;width: 50%;}#sk-container-id-15 div.sk-parallel-item:last-child::after {align-self: flex-start;width: 50%;}#sk-container-id-15 div.sk-parallel-item:only-child::after {width: 0;}#sk-container-id-15 div.sk-dashed-wrapped {border: 1px dashed gray;margin: 0 0.4em 0.5em 0.4em;box-sizing: border-box;padding-bottom: 0.4em;background-color: white;}#sk-container-id-15 div.sk-label label {font-family: monospace;font-weight: bold;display: inline-block;line-height: 1.2em;}#sk-container-id-15 div.sk-label-container {text-align: center;}#sk-container-id-15 div.sk-container {/* jupyter's `normalize.less` sets `[hidden] { display: none; }` but bootstrap.min.css set `[hidden] { display: none !important; }` so we also need the `!important` here to be able to override the default hidden behavior on the sphinx rendered scikit-learn.org. See: https://github.com/scikit-learn/scikit-learn/issues/21755 */display: inline-block !important;position: relative;}#sk-container-id-15 div.sk-text-repr-fallback {display: none;}</style><div id=\"sk-container-id-15\" class=\"sk-top-container\"><div class=\"sk-text-repr-fallback\"><pre>Pipeline(steps=[(&#x27;Pipeline Preprocess&#x27;,\n",
              "                 ColumnTransformer(transformers=[(&#x27;num&#x27;,\n",
              "                                                  Pipeline(steps=[(&#x27;outlier&#x27;,\n",
              "                                                                   Winsorizer(tail=&#x27;both&#x27;,\n",
              "                                                                              variables=[&#x27;MonthlyCharges&#x27;,\n",
              "                                                                                         &#x27;tenure&#x27;])),\n",
              "                                                                  (&#x27;scaler&#x27;,\n",
              "                                                                   MinMaxScaler())]),\n",
              "                                                  [&#x27;tenure&#x27;, &#x27;MonthlyCharges&#x27;]),\n",
              "                                                 (&#x27;cat&#x27;,\n",
              "                                                  Pipeline(steps=[(&#x27;passthrough&#x27;,\n",
              "                                                                   None),\n",
              "                                                                  (&#x27;selector&#x27;,\n",
              "                                                                   SelectKBest(k=5,\n",
              "                                                                               score_func=&lt;function chi2 at 0x0000024307423310&gt;))]),\n",
              "                                                  [&#x27;Co...\n",
              "                                                   &#x27;PaymentMethod&#x27;,\n",
              "                                                   &#x27;InternetService&#x27;])])),\n",
              "                (&#x27;Random Forest&#x27;,\n",
              "                 Pipeline(steps=[(&#x27;Random Forest&#x27;,\n",
              "                                  RandomizedSearchCV(cv=5,\n",
              "                                                     estimator=RandomForestClassifier(),\n",
              "                                                     n_iter=30,\n",
              "                                                     param_distributions={&#x27;bootstrap&#x27;: [True,\n",
              "                                                                                        False],\n",
              "                                                                          &#x27;max_depth&#x27;: [None,\n",
              "                                                                                        10,\n",
              "                                                                                        20,\n",
              "                                                                                        30],\n",
              "                                                                          &#x27;min_samples_leaf&#x27;: [1,\n",
              "                                                                                               2,\n",
              "                                                                                               4],\n",
              "                                                                          &#x27;min_samples_split&#x27;: [2,\n",
              "                                                                                                5,\n",
              "                                                                                                10],\n",
              "                                                                          &#x27;n_estimators&#x27;: [10,\n",
              "                                                                                           20,\n",
              "                                                                                           30]},\n",
              "                                                     random_state=2023,\n",
              "                                                     scoring=&#x27;recall&#x27;))]))])</pre><b>In a Jupyter environment, please rerun this cell to show the HTML representation or trust the notebook. <br />On GitHub, the HTML representation is unable to render, please try loading this page with nbviewer.org.</b></div><div class=\"sk-container\" hidden><div class=\"sk-item sk-dashed-wrapped\"><div class=\"sk-label-container\"><div class=\"sk-label sk-toggleable\"><input class=\"sk-toggleable__control sk-hidden--visually\" id=\"sk-estimator-id-43\" type=\"checkbox\" ><label for=\"sk-estimator-id-43\" class=\"sk-toggleable__label sk-toggleable__label-arrow\">Pipeline</label><div class=\"sk-toggleable__content\"><pre>Pipeline(steps=[(&#x27;Pipeline Preprocess&#x27;,\n",
              "                 ColumnTransformer(transformers=[(&#x27;num&#x27;,\n",
              "                                                  Pipeline(steps=[(&#x27;outlier&#x27;,\n",
              "                                                                   Winsorizer(tail=&#x27;both&#x27;,\n",
              "                                                                              variables=[&#x27;MonthlyCharges&#x27;,\n",
              "                                                                                         &#x27;tenure&#x27;])),\n",
              "                                                                  (&#x27;scaler&#x27;,\n",
              "                                                                   MinMaxScaler())]),\n",
              "                                                  [&#x27;tenure&#x27;, &#x27;MonthlyCharges&#x27;]),\n",
              "                                                 (&#x27;cat&#x27;,\n",
              "                                                  Pipeline(steps=[(&#x27;passthrough&#x27;,\n",
              "                                                                   None),\n",
              "                                                                  (&#x27;selector&#x27;,\n",
              "                                                                   SelectKBest(k=5,\n",
              "                                                                               score_func=&lt;function chi2 at 0x0000024307423310&gt;))]),\n",
              "                                                  [&#x27;Co...\n",
              "                                                   &#x27;PaymentMethod&#x27;,\n",
              "                                                   &#x27;InternetService&#x27;])])),\n",
              "                (&#x27;Random Forest&#x27;,\n",
              "                 Pipeline(steps=[(&#x27;Random Forest&#x27;,\n",
              "                                  RandomizedSearchCV(cv=5,\n",
              "                                                     estimator=RandomForestClassifier(),\n",
              "                                                     n_iter=30,\n",
              "                                                     param_distributions={&#x27;bootstrap&#x27;: [True,\n",
              "                                                                                        False],\n",
              "                                                                          &#x27;max_depth&#x27;: [None,\n",
              "                                                                                        10,\n",
              "                                                                                        20,\n",
              "                                                                                        30],\n",
              "                                                                          &#x27;min_samples_leaf&#x27;: [1,\n",
              "                                                                                               2,\n",
              "                                                                                               4],\n",
              "                                                                          &#x27;min_samples_split&#x27;: [2,\n",
              "                                                                                                5,\n",
              "                                                                                                10],\n",
              "                                                                          &#x27;n_estimators&#x27;: [10,\n",
              "                                                                                           20,\n",
              "                                                                                           30]},\n",
              "                                                     random_state=2023,\n",
              "                                                     scoring=&#x27;recall&#x27;))]))])</pre></div></div></div><div class=\"sk-serial\"><div class=\"sk-item sk-dashed-wrapped\"><div class=\"sk-label-container\"><div class=\"sk-label sk-toggleable\"><input class=\"sk-toggleable__control sk-hidden--visually\" id=\"sk-estimator-id-44\" type=\"checkbox\" ><label for=\"sk-estimator-id-44\" class=\"sk-toggleable__label sk-toggleable__label-arrow\">Pipeline Preprocess: ColumnTransformer</label><div class=\"sk-toggleable__content\"><pre>ColumnTransformer(transformers=[(&#x27;num&#x27;,\n",
              "                                 Pipeline(steps=[(&#x27;outlier&#x27;,\n",
              "                                                  Winsorizer(tail=&#x27;both&#x27;,\n",
              "                                                             variables=[&#x27;MonthlyCharges&#x27;,\n",
              "                                                                        &#x27;tenure&#x27;])),\n",
              "                                                 (&#x27;scaler&#x27;, MinMaxScaler())]),\n",
              "                                 [&#x27;tenure&#x27;, &#x27;MonthlyCharges&#x27;]),\n",
              "                                (&#x27;cat&#x27;,\n",
              "                                 Pipeline(steps=[(&#x27;passthrough&#x27;, None),\n",
              "                                                 (&#x27;selector&#x27;,\n",
              "                                                  SelectKBest(k=5,\n",
              "                                                              score_func=&lt;function chi2 at 0x0000024307423310&gt;))]),\n",
              "                                 [&#x27;Contract&#x27;, &#x27;OnlineSecurity&#x27;, &#x27;TechSupport&#x27;,\n",
              "                                  &#x27;PaymentMethod&#x27;, &#x27;InternetService&#x27;])])</pre></div></div></div><div class=\"sk-parallel\"><div class=\"sk-parallel-item\"><div class=\"sk-item\"><div class=\"sk-label-container\"><div class=\"sk-label sk-toggleable\"><input class=\"sk-toggleable__control sk-hidden--visually\" id=\"sk-estimator-id-45\" type=\"checkbox\" ><label for=\"sk-estimator-id-45\" class=\"sk-toggleable__label sk-toggleable__label-arrow\">num</label><div class=\"sk-toggleable__content\"><pre>[&#x27;tenure&#x27;, &#x27;MonthlyCharges&#x27;]</pre></div></div></div><div class=\"sk-serial\"><div class=\"sk-item\"><div class=\"sk-serial\"><div class=\"sk-item\"><div class=\"sk-estimator sk-toggleable\"><input class=\"sk-toggleable__control sk-hidden--visually\" id=\"sk-estimator-id-46\" type=\"checkbox\" ><label for=\"sk-estimator-id-46\" class=\"sk-toggleable__label sk-toggleable__label-arrow\">Winsorizer</label><div class=\"sk-toggleable__content\"><pre>Winsorizer(tail=&#x27;both&#x27;, variables=[&#x27;MonthlyCharges&#x27;, &#x27;tenure&#x27;])</pre></div></div></div><div class=\"sk-item\"><div class=\"sk-estimator sk-toggleable\"><input class=\"sk-toggleable__control sk-hidden--visually\" id=\"sk-estimator-id-47\" type=\"checkbox\" ><label for=\"sk-estimator-id-47\" class=\"sk-toggleable__label sk-toggleable__label-arrow\">MinMaxScaler</label><div class=\"sk-toggleable__content\"><pre>MinMaxScaler()</pre></div></div></div></div></div></div></div></div><div class=\"sk-parallel-item\"><div class=\"sk-item\"><div class=\"sk-label-container\"><div class=\"sk-label sk-toggleable\"><input class=\"sk-toggleable__control sk-hidden--visually\" id=\"sk-estimator-id-48\" type=\"checkbox\" ><label for=\"sk-estimator-id-48\" class=\"sk-toggleable__label sk-toggleable__label-arrow\">cat</label><div class=\"sk-toggleable__content\"><pre>[&#x27;Contract&#x27;, &#x27;OnlineSecurity&#x27;, &#x27;TechSupport&#x27;, &#x27;PaymentMethod&#x27;, &#x27;InternetService&#x27;]</pre></div></div></div><div class=\"sk-serial\"><div class=\"sk-item\"><div class=\"sk-serial\"><div class=\"sk-item\"><div class=\"sk-estimator sk-toggleable\"><input class=\"sk-toggleable__control sk-hidden--visually\" id=\"sk-estimator-id-49\" type=\"checkbox\" ><label for=\"sk-estimator-id-49\" class=\"sk-toggleable__label sk-toggleable__label-arrow\">None</label><div class=\"sk-toggleable__content\"><pre>None</pre></div></div></div><div class=\"sk-item\"><div class=\"sk-estimator sk-toggleable\"><input class=\"sk-toggleable__control sk-hidden--visually\" id=\"sk-estimator-id-50\" type=\"checkbox\" ><label for=\"sk-estimator-id-50\" class=\"sk-toggleable__label sk-toggleable__label-arrow\">SelectKBest</label><div class=\"sk-toggleable__content\"><pre>SelectKBest(k=5, score_func=&lt;function chi2 at 0x0000024307423310&gt;)</pre></div></div></div></div></div></div></div></div></div></div><div class=\"sk-item\"><div class=\"sk-label-container\"><div class=\"sk-label sk-toggleable\"><input class=\"sk-toggleable__control sk-hidden--visually\" id=\"sk-estimator-id-51\" type=\"checkbox\" ><label for=\"sk-estimator-id-51\" class=\"sk-toggleable__label sk-toggleable__label-arrow\">Random Forest: Pipeline</label><div class=\"sk-toggleable__content\"><pre>Pipeline(steps=[(&#x27;Random Forest&#x27;,\n",
              "                 RandomizedSearchCV(cv=5, estimator=RandomForestClassifier(),\n",
              "                                    n_iter=30,\n",
              "                                    param_distributions={&#x27;bootstrap&#x27;: [True,\n",
              "                                                                       False],\n",
              "                                                         &#x27;max_depth&#x27;: [None, 10,\n",
              "                                                                       20, 30],\n",
              "                                                         &#x27;min_samples_leaf&#x27;: [1,\n",
              "                                                                              2,\n",
              "                                                                              4],\n",
              "                                                         &#x27;min_samples_split&#x27;: [2,\n",
              "                                                                               5,\n",
              "                                                                               10],\n",
              "                                                         &#x27;n_estimators&#x27;: [10,\n",
              "                                                                          20,\n",
              "                                                                          30]},\n",
              "                                    random_state=2023, scoring=&#x27;recall&#x27;))])</pre></div></div></div><div class=\"sk-serial\"><div class=\"sk-item sk-dashed-wrapped\"><div class=\"sk-label-container\"><div class=\"sk-label sk-toggleable\"><input class=\"sk-toggleable__control sk-hidden--visually\" id=\"sk-estimator-id-52\" type=\"checkbox\" ><label for=\"sk-estimator-id-52\" class=\"sk-toggleable__label sk-toggleable__label-arrow\">Random Forest: RandomizedSearchCV</label><div class=\"sk-toggleable__content\"><pre>RandomizedSearchCV(cv=5, estimator=RandomForestClassifier(), n_iter=30,\n",
              "                   param_distributions={&#x27;bootstrap&#x27;: [True, False],\n",
              "                                        &#x27;max_depth&#x27;: [None, 10, 20, 30],\n",
              "                                        &#x27;min_samples_leaf&#x27;: [1, 2, 4],\n",
              "                                        &#x27;min_samples_split&#x27;: [2, 5, 10],\n",
              "                                        &#x27;n_estimators&#x27;: [10, 20, 30]},\n",
              "                   random_state=2023, scoring=&#x27;recall&#x27;)</pre></div></div></div><div class=\"sk-parallel\"><div class=\"sk-parallel-item\"><div class=\"sk-item\"><div class=\"sk-label-container\"><div class=\"sk-label sk-toggleable\"><input class=\"sk-toggleable__control sk-hidden--visually\" id=\"sk-estimator-id-53\" type=\"checkbox\" ><label for=\"sk-estimator-id-53\" class=\"sk-toggleable__label sk-toggleable__label-arrow\">estimator: RandomForestClassifier</label><div class=\"sk-toggleable__content\"><pre>RandomForestClassifier()</pre></div></div></div><div class=\"sk-serial\"><div class=\"sk-item\"><div class=\"sk-estimator sk-toggleable\"><input class=\"sk-toggleable__control sk-hidden--visually\" id=\"sk-estimator-id-54\" type=\"checkbox\" ><label for=\"sk-estimator-id-54\" class=\"sk-toggleable__label sk-toggleable__label-arrow\">RandomForestClassifier</label><div class=\"sk-toggleable__content\"><pre>RandomForestClassifier()</pre></div></div></div></div></div></div></div></div></div></div></div></div></div></div>"
            ],
            "text/plain": [
              "Pipeline(steps=[('Pipeline Preprocess',\n",
              "                 ColumnTransformer(transformers=[('num',\n",
              "                                                  Pipeline(steps=[('outlier',\n",
              "                                                                   Winsorizer(tail='both',\n",
              "                                                                              variables=['MonthlyCharges',\n",
              "                                                                                         'tenure'])),\n",
              "                                                                  ('scaler',\n",
              "                                                                   MinMaxScaler())]),\n",
              "                                                  ['tenure', 'MonthlyCharges']),\n",
              "                                                 ('cat',\n",
              "                                                  Pipeline(steps=[('passthrough',\n",
              "                                                                   None),\n",
              "                                                                  ('selector',\n",
              "                                                                   SelectKBest(k=5,\n",
              "                                                                               score_func=<function chi2 at 0x0000024307423310>))]),\n",
              "                                                  ['Co...\n",
              "                                                   'PaymentMethod',\n",
              "                                                   'InternetService'])])),\n",
              "                ('Random Forest',\n",
              "                 Pipeline(steps=[('Random Forest',\n",
              "                                  RandomizedSearchCV(cv=5,\n",
              "                                                     estimator=RandomForestClassifier(),\n",
              "                                                     n_iter=30,\n",
              "                                                     param_distributions={'bootstrap': [True,\n",
              "                                                                                        False],\n",
              "                                                                          'max_depth': [None,\n",
              "                                                                                        10,\n",
              "                                                                                        20,\n",
              "                                                                                        30],\n",
              "                                                                          'min_samples_leaf': [1,\n",
              "                                                                                               2,\n",
              "                                                                                               4],\n",
              "                                                                          'min_samples_split': [2,\n",
              "                                                                                                5,\n",
              "                                                                                                10],\n",
              "                                                                          'n_estimators': [10,\n",
              "                                                                                           20,\n",
              "                                                                                           30]},\n",
              "                                                     random_state=2023,\n",
              "                                                     scoring='recall'))]))])"
            ]
          },
          "execution_count": 176,
          "metadata": {},
          "output_type": "execute_result"
        }
      ],
      "source": [
        "all_process_rizki = Pipeline ([\n",
        "    ('Pipeline Preprocess', full_pipeline),\n",
        "    ('Random Forest', pipeline_model)\n",
        "\n",
        "])\n",
        "\n",
        "all_process_rizki"
      ]
    },
    {
      "cell_type": "code",
      "execution_count": 177,
      "metadata": {},
      "outputs": [
        {
          "data": {
            "text/html": [
              "<style>#sk-container-id-16 {color: black;}#sk-container-id-16 pre{padding: 0;}#sk-container-id-16 div.sk-toggleable {background-color: white;}#sk-container-id-16 label.sk-toggleable__label {cursor: pointer;display: block;width: 100%;margin-bottom: 0;padding: 0.3em;box-sizing: border-box;text-align: center;}#sk-container-id-16 label.sk-toggleable__label-arrow:before {content: \"▸\";float: left;margin-right: 0.25em;color: #696969;}#sk-container-id-16 label.sk-toggleable__label-arrow:hover:before {color: black;}#sk-container-id-16 div.sk-estimator:hover label.sk-toggleable__label-arrow:before {color: black;}#sk-container-id-16 div.sk-toggleable__content {max-height: 0;max-width: 0;overflow: hidden;text-align: left;background-color: #f0f8ff;}#sk-container-id-16 div.sk-toggleable__content pre {margin: 0.2em;color: black;border-radius: 0.25em;background-color: #f0f8ff;}#sk-container-id-16 input.sk-toggleable__control:checked~div.sk-toggleable__content {max-height: 200px;max-width: 100%;overflow: auto;}#sk-container-id-16 input.sk-toggleable__control:checked~label.sk-toggleable__label-arrow:before {content: \"▾\";}#sk-container-id-16 div.sk-estimator input.sk-toggleable__control:checked~label.sk-toggleable__label {background-color: #d4ebff;}#sk-container-id-16 div.sk-label input.sk-toggleable__control:checked~label.sk-toggleable__label {background-color: #d4ebff;}#sk-container-id-16 input.sk-hidden--visually {border: 0;clip: rect(1px 1px 1px 1px);clip: rect(1px, 1px, 1px, 1px);height: 1px;margin: -1px;overflow: hidden;padding: 0;position: absolute;width: 1px;}#sk-container-id-16 div.sk-estimator {font-family: monospace;background-color: #f0f8ff;border: 1px dotted black;border-radius: 0.25em;box-sizing: border-box;margin-bottom: 0.5em;}#sk-container-id-16 div.sk-estimator:hover {background-color: #d4ebff;}#sk-container-id-16 div.sk-parallel-item::after {content: \"\";width: 100%;border-bottom: 1px solid gray;flex-grow: 1;}#sk-container-id-16 div.sk-label:hover label.sk-toggleable__label {background-color: #d4ebff;}#sk-container-id-16 div.sk-serial::before {content: \"\";position: absolute;border-left: 1px solid gray;box-sizing: border-box;top: 0;bottom: 0;left: 50%;z-index: 0;}#sk-container-id-16 div.sk-serial {display: flex;flex-direction: column;align-items: center;background-color: white;padding-right: 0.2em;padding-left: 0.2em;position: relative;}#sk-container-id-16 div.sk-item {position: relative;z-index: 1;}#sk-container-id-16 div.sk-parallel {display: flex;align-items: stretch;justify-content: center;background-color: white;position: relative;}#sk-container-id-16 div.sk-item::before, #sk-container-id-16 div.sk-parallel-item::before {content: \"\";position: absolute;border-left: 1px solid gray;box-sizing: border-box;top: 0;bottom: 0;left: 50%;z-index: -1;}#sk-container-id-16 div.sk-parallel-item {display: flex;flex-direction: column;z-index: 1;position: relative;background-color: white;}#sk-container-id-16 div.sk-parallel-item:first-child::after {align-self: flex-end;width: 50%;}#sk-container-id-16 div.sk-parallel-item:last-child::after {align-self: flex-start;width: 50%;}#sk-container-id-16 div.sk-parallel-item:only-child::after {width: 0;}#sk-container-id-16 div.sk-dashed-wrapped {border: 1px dashed gray;margin: 0 0.4em 0.5em 0.4em;box-sizing: border-box;padding-bottom: 0.4em;background-color: white;}#sk-container-id-16 div.sk-label label {font-family: monospace;font-weight: bold;display: inline-block;line-height: 1.2em;}#sk-container-id-16 div.sk-label-container {text-align: center;}#sk-container-id-16 div.sk-container {/* jupyter's `normalize.less` sets `[hidden] { display: none; }` but bootstrap.min.css set `[hidden] { display: none !important; }` so we also need the `!important` here to be able to override the default hidden behavior on the sphinx rendered scikit-learn.org. See: https://github.com/scikit-learn/scikit-learn/issues/21755 */display: inline-block !important;position: relative;}#sk-container-id-16 div.sk-text-repr-fallback {display: none;}</style><div id=\"sk-container-id-16\" class=\"sk-top-container\"><div class=\"sk-text-repr-fallback\"><pre>Pipeline(steps=[(&#x27;Pipeline Preprocess&#x27;,\n",
              "                 ColumnTransformer(transformers=[(&#x27;num&#x27;,\n",
              "                                                  Pipeline(steps=[(&#x27;outlier&#x27;,\n",
              "                                                                   Winsorizer(tail=&#x27;both&#x27;,\n",
              "                                                                              variables=[&#x27;MonthlyCharges&#x27;,\n",
              "                                                                                         &#x27;tenure&#x27;])),\n",
              "                                                                  (&#x27;scaler&#x27;,\n",
              "                                                                   MinMaxScaler())]),\n",
              "                                                  [&#x27;tenure&#x27;, &#x27;MonthlyCharges&#x27;]),\n",
              "                                                 (&#x27;cat&#x27;,\n",
              "                                                  Pipeline(steps=[(&#x27;passthrough&#x27;,\n",
              "                                                                   None),\n",
              "                                                                  (&#x27;selector&#x27;,\n",
              "                                                                   SelectKBest(k=5,\n",
              "                                                                               score_func=&lt;function chi2 at 0x0000024307423310&gt;))]),\n",
              "                                                  [&#x27;Co...\n",
              "                                                   &#x27;PaymentMethod&#x27;,\n",
              "                                                   &#x27;InternetService&#x27;])])),\n",
              "                (&#x27;Random Forest&#x27;,\n",
              "                 Pipeline(steps=[(&#x27;Random Forest&#x27;,\n",
              "                                  RandomizedSearchCV(cv=5,\n",
              "                                                     estimator=RandomForestClassifier(),\n",
              "                                                     n_iter=30,\n",
              "                                                     param_distributions={&#x27;bootstrap&#x27;: [True,\n",
              "                                                                                        False],\n",
              "                                                                          &#x27;max_depth&#x27;: [None,\n",
              "                                                                                        10,\n",
              "                                                                                        20,\n",
              "                                                                                        30],\n",
              "                                                                          &#x27;min_samples_leaf&#x27;: [1,\n",
              "                                                                                               2,\n",
              "                                                                                               4],\n",
              "                                                                          &#x27;min_samples_split&#x27;: [2,\n",
              "                                                                                                5,\n",
              "                                                                                                10],\n",
              "                                                                          &#x27;n_estimators&#x27;: [10,\n",
              "                                                                                           20,\n",
              "                                                                                           30]},\n",
              "                                                     random_state=2023,\n",
              "                                                     scoring=&#x27;recall&#x27;))]))])</pre><b>In a Jupyter environment, please rerun this cell to show the HTML representation or trust the notebook. <br />On GitHub, the HTML representation is unable to render, please try loading this page with nbviewer.org.</b></div><div class=\"sk-container\" hidden><div class=\"sk-item sk-dashed-wrapped\"><div class=\"sk-label-container\"><div class=\"sk-label sk-toggleable\"><input class=\"sk-toggleable__control sk-hidden--visually\" id=\"sk-estimator-id-55\" type=\"checkbox\" ><label for=\"sk-estimator-id-55\" class=\"sk-toggleable__label sk-toggleable__label-arrow\">Pipeline</label><div class=\"sk-toggleable__content\"><pre>Pipeline(steps=[(&#x27;Pipeline Preprocess&#x27;,\n",
              "                 ColumnTransformer(transformers=[(&#x27;num&#x27;,\n",
              "                                                  Pipeline(steps=[(&#x27;outlier&#x27;,\n",
              "                                                                   Winsorizer(tail=&#x27;both&#x27;,\n",
              "                                                                              variables=[&#x27;MonthlyCharges&#x27;,\n",
              "                                                                                         &#x27;tenure&#x27;])),\n",
              "                                                                  (&#x27;scaler&#x27;,\n",
              "                                                                   MinMaxScaler())]),\n",
              "                                                  [&#x27;tenure&#x27;, &#x27;MonthlyCharges&#x27;]),\n",
              "                                                 (&#x27;cat&#x27;,\n",
              "                                                  Pipeline(steps=[(&#x27;passthrough&#x27;,\n",
              "                                                                   None),\n",
              "                                                                  (&#x27;selector&#x27;,\n",
              "                                                                   SelectKBest(k=5,\n",
              "                                                                               score_func=&lt;function chi2 at 0x0000024307423310&gt;))]),\n",
              "                                                  [&#x27;Co...\n",
              "                                                   &#x27;PaymentMethod&#x27;,\n",
              "                                                   &#x27;InternetService&#x27;])])),\n",
              "                (&#x27;Random Forest&#x27;,\n",
              "                 Pipeline(steps=[(&#x27;Random Forest&#x27;,\n",
              "                                  RandomizedSearchCV(cv=5,\n",
              "                                                     estimator=RandomForestClassifier(),\n",
              "                                                     n_iter=30,\n",
              "                                                     param_distributions={&#x27;bootstrap&#x27;: [True,\n",
              "                                                                                        False],\n",
              "                                                                          &#x27;max_depth&#x27;: [None,\n",
              "                                                                                        10,\n",
              "                                                                                        20,\n",
              "                                                                                        30],\n",
              "                                                                          &#x27;min_samples_leaf&#x27;: [1,\n",
              "                                                                                               2,\n",
              "                                                                                               4],\n",
              "                                                                          &#x27;min_samples_split&#x27;: [2,\n",
              "                                                                                                5,\n",
              "                                                                                                10],\n",
              "                                                                          &#x27;n_estimators&#x27;: [10,\n",
              "                                                                                           20,\n",
              "                                                                                           30]},\n",
              "                                                     random_state=2023,\n",
              "                                                     scoring=&#x27;recall&#x27;))]))])</pre></div></div></div><div class=\"sk-serial\"><div class=\"sk-item sk-dashed-wrapped\"><div class=\"sk-label-container\"><div class=\"sk-label sk-toggleable\"><input class=\"sk-toggleable__control sk-hidden--visually\" id=\"sk-estimator-id-56\" type=\"checkbox\" ><label for=\"sk-estimator-id-56\" class=\"sk-toggleable__label sk-toggleable__label-arrow\">Pipeline Preprocess: ColumnTransformer</label><div class=\"sk-toggleable__content\"><pre>ColumnTransformer(transformers=[(&#x27;num&#x27;,\n",
              "                                 Pipeline(steps=[(&#x27;outlier&#x27;,\n",
              "                                                  Winsorizer(tail=&#x27;both&#x27;,\n",
              "                                                             variables=[&#x27;MonthlyCharges&#x27;,\n",
              "                                                                        &#x27;tenure&#x27;])),\n",
              "                                                 (&#x27;scaler&#x27;, MinMaxScaler())]),\n",
              "                                 [&#x27;tenure&#x27;, &#x27;MonthlyCharges&#x27;]),\n",
              "                                (&#x27;cat&#x27;,\n",
              "                                 Pipeline(steps=[(&#x27;passthrough&#x27;, None),\n",
              "                                                 (&#x27;selector&#x27;,\n",
              "                                                  SelectKBest(k=5,\n",
              "                                                              score_func=&lt;function chi2 at 0x0000024307423310&gt;))]),\n",
              "                                 [&#x27;Contract&#x27;, &#x27;OnlineSecurity&#x27;, &#x27;TechSupport&#x27;,\n",
              "                                  &#x27;PaymentMethod&#x27;, &#x27;InternetService&#x27;])])</pre></div></div></div><div class=\"sk-parallel\"><div class=\"sk-parallel-item\"><div class=\"sk-item\"><div class=\"sk-label-container\"><div class=\"sk-label sk-toggleable\"><input class=\"sk-toggleable__control sk-hidden--visually\" id=\"sk-estimator-id-57\" type=\"checkbox\" ><label for=\"sk-estimator-id-57\" class=\"sk-toggleable__label sk-toggleable__label-arrow\">num</label><div class=\"sk-toggleable__content\"><pre>[&#x27;tenure&#x27;, &#x27;MonthlyCharges&#x27;]</pre></div></div></div><div class=\"sk-serial\"><div class=\"sk-item\"><div class=\"sk-serial\"><div class=\"sk-item\"><div class=\"sk-estimator sk-toggleable\"><input class=\"sk-toggleable__control sk-hidden--visually\" id=\"sk-estimator-id-58\" type=\"checkbox\" ><label for=\"sk-estimator-id-58\" class=\"sk-toggleable__label sk-toggleable__label-arrow\">Winsorizer</label><div class=\"sk-toggleable__content\"><pre>Winsorizer(tail=&#x27;both&#x27;, variables=[&#x27;MonthlyCharges&#x27;, &#x27;tenure&#x27;])</pre></div></div></div><div class=\"sk-item\"><div class=\"sk-estimator sk-toggleable\"><input class=\"sk-toggleable__control sk-hidden--visually\" id=\"sk-estimator-id-59\" type=\"checkbox\" ><label for=\"sk-estimator-id-59\" class=\"sk-toggleable__label sk-toggleable__label-arrow\">MinMaxScaler</label><div class=\"sk-toggleable__content\"><pre>MinMaxScaler()</pre></div></div></div></div></div></div></div></div><div class=\"sk-parallel-item\"><div class=\"sk-item\"><div class=\"sk-label-container\"><div class=\"sk-label sk-toggleable\"><input class=\"sk-toggleable__control sk-hidden--visually\" id=\"sk-estimator-id-60\" type=\"checkbox\" ><label for=\"sk-estimator-id-60\" class=\"sk-toggleable__label sk-toggleable__label-arrow\">cat</label><div class=\"sk-toggleable__content\"><pre>[&#x27;Contract&#x27;, &#x27;OnlineSecurity&#x27;, &#x27;TechSupport&#x27;, &#x27;PaymentMethod&#x27;, &#x27;InternetService&#x27;]</pre></div></div></div><div class=\"sk-serial\"><div class=\"sk-item\"><div class=\"sk-serial\"><div class=\"sk-item\"><div class=\"sk-estimator sk-toggleable\"><input class=\"sk-toggleable__control sk-hidden--visually\" id=\"sk-estimator-id-61\" type=\"checkbox\" ><label for=\"sk-estimator-id-61\" class=\"sk-toggleable__label sk-toggleable__label-arrow\">None</label><div class=\"sk-toggleable__content\"><pre>None</pre></div></div></div><div class=\"sk-item\"><div class=\"sk-estimator sk-toggleable\"><input class=\"sk-toggleable__control sk-hidden--visually\" id=\"sk-estimator-id-62\" type=\"checkbox\" ><label for=\"sk-estimator-id-62\" class=\"sk-toggleable__label sk-toggleable__label-arrow\">SelectKBest</label><div class=\"sk-toggleable__content\"><pre>SelectKBest(k=5, score_func=&lt;function chi2 at 0x0000024307423310&gt;)</pre></div></div></div></div></div></div></div></div></div></div><div class=\"sk-item\"><div class=\"sk-label-container\"><div class=\"sk-label sk-toggleable\"><input class=\"sk-toggleable__control sk-hidden--visually\" id=\"sk-estimator-id-63\" type=\"checkbox\" ><label for=\"sk-estimator-id-63\" class=\"sk-toggleable__label sk-toggleable__label-arrow\">Random Forest: Pipeline</label><div class=\"sk-toggleable__content\"><pre>Pipeline(steps=[(&#x27;Random Forest&#x27;,\n",
              "                 RandomizedSearchCV(cv=5, estimator=RandomForestClassifier(),\n",
              "                                    n_iter=30,\n",
              "                                    param_distributions={&#x27;bootstrap&#x27;: [True,\n",
              "                                                                       False],\n",
              "                                                         &#x27;max_depth&#x27;: [None, 10,\n",
              "                                                                       20, 30],\n",
              "                                                         &#x27;min_samples_leaf&#x27;: [1,\n",
              "                                                                              2,\n",
              "                                                                              4],\n",
              "                                                         &#x27;min_samples_split&#x27;: [2,\n",
              "                                                                               5,\n",
              "                                                                               10],\n",
              "                                                         &#x27;n_estimators&#x27;: [10,\n",
              "                                                                          20,\n",
              "                                                                          30]},\n",
              "                                    random_state=2023, scoring=&#x27;recall&#x27;))])</pre></div></div></div><div class=\"sk-serial\"><div class=\"sk-item sk-dashed-wrapped\"><div class=\"sk-label-container\"><div class=\"sk-label sk-toggleable\"><input class=\"sk-toggleable__control sk-hidden--visually\" id=\"sk-estimator-id-64\" type=\"checkbox\" ><label for=\"sk-estimator-id-64\" class=\"sk-toggleable__label sk-toggleable__label-arrow\">Random Forest: RandomizedSearchCV</label><div class=\"sk-toggleable__content\"><pre>RandomizedSearchCV(cv=5, estimator=RandomForestClassifier(), n_iter=30,\n",
              "                   param_distributions={&#x27;bootstrap&#x27;: [True, False],\n",
              "                                        &#x27;max_depth&#x27;: [None, 10, 20, 30],\n",
              "                                        &#x27;min_samples_leaf&#x27;: [1, 2, 4],\n",
              "                                        &#x27;min_samples_split&#x27;: [2, 5, 10],\n",
              "                                        &#x27;n_estimators&#x27;: [10, 20, 30]},\n",
              "                   random_state=2023, scoring=&#x27;recall&#x27;)</pre></div></div></div><div class=\"sk-parallel\"><div class=\"sk-parallel-item\"><div class=\"sk-item\"><div class=\"sk-label-container\"><div class=\"sk-label sk-toggleable\"><input class=\"sk-toggleable__control sk-hidden--visually\" id=\"sk-estimator-id-65\" type=\"checkbox\" ><label for=\"sk-estimator-id-65\" class=\"sk-toggleable__label sk-toggleable__label-arrow\">estimator: RandomForestClassifier</label><div class=\"sk-toggleable__content\"><pre>RandomForestClassifier()</pre></div></div></div><div class=\"sk-serial\"><div class=\"sk-item\"><div class=\"sk-estimator sk-toggleable\"><input class=\"sk-toggleable__control sk-hidden--visually\" id=\"sk-estimator-id-66\" type=\"checkbox\" ><label for=\"sk-estimator-id-66\" class=\"sk-toggleable__label sk-toggleable__label-arrow\">RandomForestClassifier</label><div class=\"sk-toggleable__content\"><pre>RandomForestClassifier()</pre></div></div></div></div></div></div></div></div></div></div></div></div></div></div>"
            ],
            "text/plain": [
              "Pipeline(steps=[('Pipeline Preprocess',\n",
              "                 ColumnTransformer(transformers=[('num',\n",
              "                                                  Pipeline(steps=[('outlier',\n",
              "                                                                   Winsorizer(tail='both',\n",
              "                                                                              variables=['MonthlyCharges',\n",
              "                                                                                         'tenure'])),\n",
              "                                                                  ('scaler',\n",
              "                                                                   MinMaxScaler())]),\n",
              "                                                  ['tenure', 'MonthlyCharges']),\n",
              "                                                 ('cat',\n",
              "                                                  Pipeline(steps=[('passthrough',\n",
              "                                                                   None),\n",
              "                                                                  ('selector',\n",
              "                                                                   SelectKBest(k=5,\n",
              "                                                                               score_func=<function chi2 at 0x0000024307423310>))]),\n",
              "                                                  ['Co...\n",
              "                                                   'PaymentMethod',\n",
              "                                                   'InternetService'])])),\n",
              "                ('Random Forest',\n",
              "                 Pipeline(steps=[('Random Forest',\n",
              "                                  RandomizedSearchCV(cv=5,\n",
              "                                                     estimator=RandomForestClassifier(),\n",
              "                                                     n_iter=30,\n",
              "                                                     param_distributions={'bootstrap': [True,\n",
              "                                                                                        False],\n",
              "                                                                          'max_depth': [None,\n",
              "                                                                                        10,\n",
              "                                                                                        20,\n",
              "                                                                                        30],\n",
              "                                                                          'min_samples_leaf': [1,\n",
              "                                                                                               2,\n",
              "                                                                                               4],\n",
              "                                                                          'min_samples_split': [2,\n",
              "                                                                                                5,\n",
              "                                                                                                10],\n",
              "                                                                          'n_estimators': [10,\n",
              "                                                                                           20,\n",
              "                                                                                           30]},\n",
              "                                                     random_state=2023,\n",
              "                                                     scoring='recall'))]))])"
            ]
          },
          "execution_count": 177,
          "metadata": {},
          "output_type": "execute_result"
        }
      ],
      "source": [
        "all_process_rizki.fit(X_train, y_train)"
      ]
    },
    {
      "cell_type": "markdown",
      "metadata": {
        "id": "o64053cBlTlZ"
      },
      "source": [
        "# IX. MODEL SAVING"
      ]
    },
    {
      "cell_type": "code",
      "execution_count": 178,
      "metadata": {
        "id": "jQ3YfmAYdiVn"
      },
      "outputs": [],
      "source": [
        "with open('all_process_rizki.pkl', 'wb') as file_1:\n",
        "  pickle.dump(all_process_rizki, file_1)"
      ]
    }
  ],
  "metadata": {
    "colab": {
      "provenance": []
    },
    "kernelspec": {
      "display_name": "Python 3",
      "name": "python3"
    },
    "language_info": {
      "codemirror_mode": {
        "name": "ipython",
        "version": 3
      },
      "file_extension": ".py",
      "mimetype": "text/x-python",
      "name": "python",
      "nbconvert_exporter": "python",
      "pygments_lexer": "ipython3",
      "version": "3.9.17"
    }
  },
  "nbformat": 4,
  "nbformat_minor": 0
}
